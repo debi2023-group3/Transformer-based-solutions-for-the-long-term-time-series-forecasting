{
 "cells": [
  {
   "cell_type": "markdown",
   "metadata": {},
   "source": [
    "---\n",
    "<h1 align=\"center\"><span style='font-family:Georgia'> Replicate Informer on the Four ETDataset </span></h1>\n",
    "    \n",
    "---\n",
    "\n",
    "Informer is a deep learning model designed for long sequence time-series forecasting. It was proposed in the paper [Informer: Beyond Efficient Transformer for Long Sequence Time-Series Forecasting](https://arxiv.org/abs/2012.07436) by Haoyi Zhou, et al.\n",
    "\n",
    "![img](https://production-media.paperswithcode.com/social-images/PSHdzBUtbdRELEch.png)\n"
   ]
  },
  {
   "cell_type": "markdown",
   "metadata": {
    "id": "5IM6CZzW_CH0"
   },
   "source": [
    "##### **Input sequence:**\n",
    "The input to the Informer model is a time series sequence of fixed length. The sequence contains a set of features, where each feature corresponds to a value measured at a specific time step in the sequence. \n",
    "- The length of the input sequence is defined by the `seq_len` hyperparameter.\n",
    "\n",
    "##### **Output sequence:**\n",
    "\n",
    "The output of the Informer model is a time series sequence of predicted values, where each value corresponds to a prediction made at a specific time step in the output sequence. \n",
    "- The length of the output sequence is defined by the `pred_len` hyperparameter.\n",
    "\n",
    "##### **Positional Encodings:**\n",
    "The model uses learned positional encodings to encode the time information of the input sequence. The positional encodings are added to the input embeddings before they are passed to the model. Here are the hyperparameters that control the \n",
    "\n",
    "##### **Here are the hyperparameters that control the input and output:**\n",
    "\n",
    "| Parameter | Description | Value |\n",
    "|---|---|---|\n",
    "| `args.data` | The name of the dataset to use. | 'ETTh1', 'ETTh2', 'ETTm1', and 'ETTm2'|\n",
    "| `args.root_path` | The root path of the data file. | `./Datasets/` |\n",
    "| `args.features` | The type of forecasting task to perform. The options are 'M' (multivariate predict multivariate), 'S' (univariate predict univariate), and 'MS' (multivariate predict univariate). | 'M'|\n",
    "| `args.target` | The target feature to predict in a univariate or multivariate task. ('HUFL', 'HULL', 'MUFL', 'MULL', 'LUFL', 'LULL', 'OT')| 'OT' |\n",
    "| `args.seq_len` | The length of the input sequence to the Informer encoder. | 336|\n",
    "| `args.pred_len` | The length of the future sequence to be predicted. | [96, 192, 336, 720]|\n",
    "| `args.padding` | The amount of padding to add to the input sequence, if any. | 0|\n",
    "| `args.freq` |  | 'h' |\n",
    "| `args.embed` | The type of time feature encoding to use. The options are 'timeF' (time features encoding), 'fixed' (fixed positional encoding), and 'learned' (learned positional encoding). | 'timeF' |\n",
    "\n",
    "---------"
   ]
  },
  {
   "cell_type": "markdown",
   "metadata": {},
   "source": [
    "### **Informer Architecture:**\n",
    "\n",
    "The encoder is a stack of self-attention layers. Each one consists of multiple attention heads that operate in parallel, allowing the model to capture different aspects of the input sequence. The encoder includes a **feedforward** network and a **ProbSparse attention** mechanism, which enhances the sparsity of the attention matrix and improves the model's efficiency.\n",
    "\n",
    "- **ProbSparse Attention:** This is an attention mechanism used in Informer that selects the \"active\" queries rather than the \"lazy\" queries. It forms a sparse Transformer by the probability distribution, which reduces the computational cost of the attention operation. \n",
    "\n",
    "| Parameter | Description | Value |\n",
    "|---|---|---|\n",
    "| `args.attn` | The type of attention used in the encoder. The options are 'prob' (probabilistic sparse attention) and 'full' (full attention). | 'prob' |\n",
    "| `args.n_heads` | The number of attention heads in the encoder. | 16 |\n",
    "| `args.factor` | The ProbSparse attention factor. A higher value of factor results in a sparser attention matrix. | 5 |\n",
    "| `args.dropout` | The dropout probability applied to the attention weights. | 0.1 |\n",
    "| `args.d_model` | The dimension of the model. | 512 |\n",
    "\n",
    "\n",
    "- **Feedforward Network:** This used in the self-attention layers of both the encoder and decoder in the Informer architecture. It consists of two linear layers with a `ELU` activation function in between. Here are the hyperparameters that control the feedforward network:\n",
    "\n",
    "| Parameter | Description | Value |\n",
    "|---|---|---|\n",
    "| `args.d_ff` | The dimension of the feedforward network. | 2048 |\n",
    "| `args.activation` | The activation function used in the feedforward network. | 'gelu' |\n",
    "| `args.dropout` | The dropout probability applied to the attention weights. | 0.1 |\n",
    "\n",
    "- **Mixing Layer:**\n",
    "\n",
    "The model includes a mixing layer that linearly combines the outputs of the attention heads in the encoder and decoder, which helps to improve the model's performance. Here are the hyperparameters that control the mixing layer:\n",
    "\n",
    "| Parameter | Description | Value |\n",
    "|---|---|---|\n",
    "| `args.mix` | Whether to apply a linear projection to the concatenated outputs of the attention heads. | True |\n",
    "| `args.d_model` | The dimension of the model. | 512 |\n"
   ]
  },
  {
   "cell_type": "markdown",
   "metadata": {},
   "source": [
    "---\n",
    "### Notebook Content:\n",
    "\n",
    "This notebook provide a step-by-step guide for replicating the **Informer** model and training it on the ETDataset (ETTh1, ETTh2, ETTm1, and ETTm2), ensuring accurate reproduction of the models by comparing the notebook results with the official paper results. The following are the experiment Hyperparameters.\n",
    "\n",
    "\n",
    "| Parameter | Description | Value |\n",
    "|---|---|---|\n",
    "| `args.output_attention` | Whether to output attention in ecoder | False |\n",
    "| `args.use_amp` | Whether to use automatic mixed precision training | False |\n",
    "| `args.train_only` | Whether to train the model or fine-tune | True |\n",
    "| `args.train_epochs` | The number of epochs to train for. | 8 |\n",
    "| `args.batch_size` | The batch size of training input data. | 32 |\n",
    "| `args.learning_rate` | Learning rate starts from 1e−4, decaying two times smaller every epoch. | 0.0001 |\n",
    "| `args.lradj` | Learning rate decayed two times smaller every epoch. | 'type1' |\n",
    "| `args.loss` | Evaluating criteria | `'mse'` |\n",
    "| `args.patience` | The number of epochs to wait before early stopping. | 3 |\n",
    "| `args.des` | The description of the experiment. | 'test' |\n",
    "| `args.itr` | The iteration of the experiment. | 1 |\n",
    "| `args.model` | The model name | 'informer' |\n",
    "| `args.checkpoints` | Location of model checkpoints | `'./Checkpoints/Informer_checkpoints'` |"
   ]
  },
  {
   "cell_type": "markdown",
   "metadata": {},
   "source": [
    "---\n",
    "# Setup\n",
    "---\n",
    "\n",
    "Installs the necessary libraries and dependencies required to run the code in the notebook."
   ]
  },
  {
   "cell_type": "code",
   "execution_count": 1,
   "metadata": {
    "id": "RPdt-Kwc_RRZ"
   },
   "outputs": [],
   "source": [
    "import sys\n",
    "import random \n",
    "import os\n",
    "import numpy as np\n",
    "import matplotlib.pyplot as plt\n",
    "import seaborn as sns\n",
    "import torch\n",
    "\n",
    "from exp.exp_Informer import Exp_Informer"
   ]
  },
  {
   "cell_type": "code",
   "execution_count": 2,
   "metadata": {},
   "outputs": [],
   "source": [
    "class dotdict(dict):\n",
    "    \"\"\"dot.notation access to dictionary attributes\"\"\"\n",
    "    __getattr__ = dict.get\n",
    "    __setattr__ = dict.__setitem__\n",
    "    __delattr__ = dict.__delitem__"
   ]
  },
  {
   "cell_type": "code",
   "execution_count": 3,
   "metadata": {},
   "outputs": [],
   "source": [
    "\"\"\"\n",
    "    **dotdict function**\n",
    "    This function is used to convert a dictionary into\n",
    "    an object whose keys can be accessed as attributes\n",
    "\"\"\"\n",
    "\n",
    "args = dotdict()"
   ]
  },
  {
   "cell_type": "code",
   "execution_count": 4,
   "metadata": {},
   "outputs": [],
   "source": [
    "fix_seed = 2021\n",
    "random.seed(fix_seed)\n",
    "torch.manual_seed(fix_seed)\n",
    "np.random.seed(fix_seed)"
   ]
  },
  {
   "cell_type": "markdown",
   "metadata": {},
   "source": [
    "**GPU Device Hyperparameters**"
   ]
  },
  {
   "cell_type": "code",
   "execution_count": 5,
   "metadata": {},
   "outputs": [],
   "source": [
    "######################### Device Hyperparameters  ##########################\n",
    "args.use_multi_gpu = False\n",
    "args.num_workers = 0\n",
    "args.use_gpu = torch.cuda.is_available() "
   ]
  },
  {
   "cell_type": "markdown",
   "metadata": {},
   "source": [
    "**Dataset Hyperparameters**"
   ]
  },
  {
   "cell_type": "code",
   "execution_count": 6,
   "metadata": {},
   "outputs": [],
   "source": [
    "######################### Dataset Hyperparameters  ##########################\n",
    "\n",
    "args.data = 'ETTh1'            # dataset name\n",
    "args.root_path = './Datasets/' # root path of data file\n",
    "args.data_path = 'ETTh1.csv'   # data file\n",
    "args.features = 'M'            # forecasting task, options:[M, S, MS]; M:multivariate predict multivariate, S:univariate predict univariate, MS:multivariate predict univariate\n",
    "args.target = 'OT'             # target feature in S or MS task\n",
    "args.freq = 'h'                # freq for time features encoding, options:[s:secondly, t:minutely, h:hourly, d:daily, b:business days, w:weekly, m:monthly], you can also use more detailed freq like 15min or 3h\n",
    "args.embed = 'timeF'           # time features (date) encoding, options:[timeF, fixed, learned]\n",
    "args.padding = 0               # the amount of padding to add to the input sequence of the Informer model"
   ]
  },
  {
   "cell_type": "markdown",
   "metadata": {},
   "source": [
    "**Experiment Hyperparameters**\n",
    "\n"
   ]
  },
  {
   "cell_type": "code",
   "execution_count": 8,
   "metadata": {},
   "outputs": [],
   "source": [
    "######################### Experiment Hyperparameters  ##########################\n",
    "\n",
    "args.output_attention = False # whether to output attention in ecoder\n",
    "args.use_amp = False          # whether to use automatic mixed precision training\n",
    "args.train_only = True\n",
    "args.train_epochs = 8         # The number of epochs to train for.\n",
    "args.batch_size = 32          # The batch size of training input data.\n",
    "args.learning_rate = 0.0001   # learning rate starts from 1e−4, decaying two times smaller every epoch.\n",
    "args.lradj = 'type1'          # learning rate decayed two times smaller every epoch.\n",
    "args.loss = 'mse'             # evaluating criteria\n",
    "args.patience = 3             # The number of epochs to wait before early stopping.\n",
    "args.des = 'test'             # The description of the experiment.\n",
    "args.itr  = 1\n",
    "\n",
    "args.model = 'informer' \n",
    "args.checkpoints = './Checkpoints/Informer_checkpoints' # location of model checkpoints"
   ]
  },
  {
   "cell_type": "markdown",
   "metadata": {},
   "source": [
    "**Modeling Hyperparameters**"
   ]
  },
  {
   "cell_type": "code",
   "execution_count": 9,
   "metadata": {},
   "outputs": [],
   "source": [
    "#### [Encoder and Decoder] - ProbSparse Self-attention Hyperparameters  #####\n",
    "args.attn = 'prob'              # attention used in encoder, options:[prob, full]\n",
    "args.d_model = 512              # dimension of model (the dimensionality of the input feature vectors, as well as the query, key, and value vectors in each attention head. )\n",
    "args.n_heads = 16               # num of heads\n",
    "args.factor = 5                 # probsparse attn factor\n",
    "\n",
    "args.dropout = 0.1              # dropout\n",
    "args.d_ff = 2048                # dimension of fcn in model\n",
    "args.activation = 'gelu'        # activation used in fcn (gelu => Gaussian Error Linear Unit.)\n",
    "args.mix = True                 # apply a linear projection to the concatenated outputs of the attention heads. \n",
    "\n",
    "# concat[start token series(label_len), zero padding series(pred_len)]\n",
    "args.enc_in = 7                 # encoder input size\n",
    "args.dec_in = 7                 # decoder input size\n",
    "args.c_out = 7                  # output size\n",
    "args.e_layers = 2               # num of encoder layers\n",
    "args.d_layers = 1               # num of decoder layers\n",
    "\n",
    "args.seq_len = 336              # input sequence length of DLinear encoder\n",
    "args.label_len = 48             # start token length of DLinear decoder\n",
    "args.pred_len = 96              # prediction sequence length\n",
    "\n",
    "\n",
    "\"\"\"\n",
    "The Distilled Informer architecture is a variant of the standard Informer model that\n",
    "uses fewer layers and fewer attention heads, making it more computationally efficient.\n",
    "    (1) 1*3 conv1d with ELU activation\n",
    "    (2) Max pooling  with strid = 2\n",
    "\"\"\" \n",
    "args.distil = True  "
   ]
  },
  {
   "cell_type": "markdown",
   "metadata": {},
   "source": [
    "---\n",
    "# Working on ETTh1 Dataset\n",
    "---"
   ]
  },
  {
   "cell_type": "markdown",
   "metadata": {},
   "source": [
    "## Trail 1: Informer, Dataset:ETTh1,  Metric: 96\n",
    "### Set hyperparameters\n",
    "Set some parameters (Args) for the our experiment like dictionary\n"
   ]
  },
  {
   "cell_type": "code",
   "execution_count": 65,
   "metadata": {
    "colab": {
     "base_uri": "https://localhost:8080/"
    },
    "id": "ywY-umrw-mHO",
    "outputId": "9b2e2e8e-7025-46e6-e2d7-2d8c9ceeb381"
   },
   "outputs": [
    {
     "name": "stdout",
     "output_type": "stream",
     "text": [
      "Hyperparameter Combination of informer_train_on_ETTh1_96:\n",
      "\n",
      "{'train_only': True, 'model': 'informer', 'use_multi_gpu': False, 'use_gpu': True, 'learning_rate': 0.005, 'pred_len': 96, 'label_len': 48, 'use_amp': False, 'output_attention': False, 'features': 'M', 'checkpoints': './Checkpoints/Informer_checkpoints', 'patience': 3, 'train_epochs': 6, 'freq': 'h', 'seq_len': 336, 'data': 'ETTh1', 'root_path': './Datasets/', 'data_path': 'ETTh1.csv', 'target': 'OT', 'enc_in': 7, 'dec_in': 7, 'c_out': 7, 'factor': 5, 'd_model': 512, 'n_heads': 8, 'e_layers': 2, 'd_layers': 1, 'd_ff': 2048, 'dropout': 0.05, 'attn': 'prob', 'embed': 'timeF', 'activation': 'gelu', 'distil': True, 'mix': True, 'padding': 0, 'batch_size': 32, 'loss': 'mse', 'lradj': 'type1', 'num_workers': 0, 'itr': 1, 'des': 'exp', 'gpu': 0, 'devices': '0,1,2,3'}\n"
     ]
    }
   ],
   "source": [
    "args.pred_len = 96\n",
    "\n",
    "setting=f'{args.model}_train_on_{args.data}_{args.pred_len}'\n",
    "print(f\"Hyperparameter Combination of {setting}:\\n\") \n",
    "print(args)"
   ]
  },
  {
   "cell_type": "code",
   "execution_count": 7,
   "metadata": {
    "collapsed": true,
    "jupyter": {
     "outputs_hidden": true
    }
   },
   "outputs": [
    {
     "name": "stdout",
     "output_type": "stream",
     "text": [
      "Use GPU: cuda:0\n",
      "train 8209\n",
      "val 2785\n",
      "test 2785\n",
      "\titers: 100, epoch: 1 | loss: 0.6184461\n",
      "\tspeed: 0.5610s/iter; left time: 806.1375s\n",
      "\titers: 200, epoch: 1 | loss: 0.5761876\n",
      "\tspeed: 0.6559s/iter; left time: 876.9502s\n",
      "Epoch: 1 cost time: 157.39706587791443\n",
      "Epoch: 1, Steps: 256 | Train Loss: 0.8336941 Vali Loss: 1.5428946 Test Loss: 1.3599747\n",
      "Validation loss decreased (inf --> 1.542895).  Saving model ...\n",
      "Updating learning rate to 0.005\n",
      "\titers: 100, epoch: 2 | loss: 0.7945998\n",
      "\tspeed: 1.3460s/iter; left time: 1589.6360s\n",
      "\titers: 200, epoch: 2 | loss: 0.5510538\n",
      "\tspeed: 0.4384s/iter; left time: 473.8628s\n",
      "Epoch: 2 cost time: 112.92157793045044\n",
      "Epoch: 2, Steps: 256 | Train Loss: 0.6683238 Vali Loss: 1.6129713 Test Loss: 1.4726861\n",
      "EarlyStopping counter: 1 out of 3\n",
      "Updating learning rate to 0.0025\n",
      "\titers: 100, epoch: 3 | loss: 0.4933399\n",
      "\tspeed: 1.2348s/iter; left time: 1142.1613s\n",
      "\titers: 200, epoch: 3 | loss: 0.5235538\n",
      "\tspeed: 0.4720s/iter; left time: 389.3807s\n",
      "Epoch: 3 cost time: 120.40320134162903\n",
      "Epoch: 3, Steps: 256 | Train Loss: 0.5623320 Vali Loss: 1.6894341 Test Loss: 1.4381838\n",
      "EarlyStopping counter: 2 out of 3\n",
      "Updating learning rate to 0.00125\n",
      "\titers: 100, epoch: 4 | loss: 0.5573075\n",
      "\tspeed: 1.2680s/iter; left time: 848.2647s\n",
      "\titers: 200, epoch: 4 | loss: 0.5128850\n",
      "\tspeed: 0.5769s/iter; left time: 328.2527s\n",
      "Epoch: 4 cost time: 143.00312185287476\n",
      "Epoch: 4, Steps: 256 | Train Loss: 0.5457802 Vali Loss: 1.6296201 Test Loss: 1.4022422\n",
      "EarlyStopping counter: 3 out of 3\n",
      "Early stopping\n"
     ]
    },
    {
     "data": {
      "text/plain": [
       "Informer(\n",
       "  (enc_embedding): DataEmbedding(\n",
       "    (value_embedding): TokenEmbedding(\n",
       "      (tokenConv): Conv1d(7, 512, kernel_size=(3,), stride=(1,), padding=(1,), padding_mode=circular)\n",
       "    )\n",
       "    (position_embedding): PositionalEmbedding()\n",
       "    (temporal_embedding): TimeFeatureEmbedding(\n",
       "      (embed): Linear(in_features=4, out_features=512, bias=True)\n",
       "    )\n",
       "    (dropout): Dropout(p=0.05, inplace=False)\n",
       "  )\n",
       "  (dec_embedding): DataEmbedding(\n",
       "    (value_embedding): TokenEmbedding(\n",
       "      (tokenConv): Conv1d(7, 512, kernel_size=(3,), stride=(1,), padding=(1,), padding_mode=circular)\n",
       "    )\n",
       "    (position_embedding): PositionalEmbedding()\n",
       "    (temporal_embedding): TimeFeatureEmbedding(\n",
       "      (embed): Linear(in_features=4, out_features=512, bias=True)\n",
       "    )\n",
       "    (dropout): Dropout(p=0.05, inplace=False)\n",
       "  )\n",
       "  (encoder): Encoder(\n",
       "    (attn_layers): ModuleList(\n",
       "      (0): EncoderLayer(\n",
       "        (attention): AttentionLayer(\n",
       "          (inner_attention): ProbAttention(\n",
       "            (dropout): Dropout(p=0.05, inplace=False)\n",
       "          )\n",
       "          (query_projection): Linear(in_features=512, out_features=512, bias=True)\n",
       "          (key_projection): Linear(in_features=512, out_features=512, bias=True)\n",
       "          (value_projection): Linear(in_features=512, out_features=512, bias=True)\n",
       "          (out_projection): Linear(in_features=512, out_features=512, bias=True)\n",
       "        )\n",
       "        (conv1): Conv1d(512, 2048, kernel_size=(1,), stride=(1,))\n",
       "        (conv2): Conv1d(2048, 512, kernel_size=(1,), stride=(1,))\n",
       "        (norm1): LayerNorm((512,), eps=1e-05, elementwise_affine=True)\n",
       "        (norm2): LayerNorm((512,), eps=1e-05, elementwise_affine=True)\n",
       "        (dropout): Dropout(p=0.05, inplace=False)\n",
       "      )\n",
       "      (1): EncoderLayer(\n",
       "        (attention): AttentionLayer(\n",
       "          (inner_attention): ProbAttention(\n",
       "            (dropout): Dropout(p=0.05, inplace=False)\n",
       "          )\n",
       "          (query_projection): Linear(in_features=512, out_features=512, bias=True)\n",
       "          (key_projection): Linear(in_features=512, out_features=512, bias=True)\n",
       "          (value_projection): Linear(in_features=512, out_features=512, bias=True)\n",
       "          (out_projection): Linear(in_features=512, out_features=512, bias=True)\n",
       "        )\n",
       "        (conv1): Conv1d(512, 2048, kernel_size=(1,), stride=(1,))\n",
       "        (conv2): Conv1d(2048, 512, kernel_size=(1,), stride=(1,))\n",
       "        (norm1): LayerNorm((512,), eps=1e-05, elementwise_affine=True)\n",
       "        (norm2): LayerNorm((512,), eps=1e-05, elementwise_affine=True)\n",
       "        (dropout): Dropout(p=0.05, inplace=False)\n",
       "      )\n",
       "    )\n",
       "    (conv_layers): ModuleList(\n",
       "      (0): ConvLayer(\n",
       "        (downConv): Conv1d(512, 512, kernel_size=(3,), stride=(1,), padding=(1,), padding_mode=circular)\n",
       "        (norm): BatchNorm1d(512, eps=1e-05, momentum=0.1, affine=True, track_running_stats=True)\n",
       "        (activation): ELU(alpha=1.0)\n",
       "        (maxPool): MaxPool1d(kernel_size=3, stride=2, padding=1, dilation=1, ceil_mode=False)\n",
       "      )\n",
       "    )\n",
       "    (norm): LayerNorm((512,), eps=1e-05, elementwise_affine=True)\n",
       "  )\n",
       "  (decoder): Decoder(\n",
       "    (layers): ModuleList(\n",
       "      (0): DecoderLayer(\n",
       "        (self_attention): AttentionLayer(\n",
       "          (inner_attention): ProbAttention(\n",
       "            (dropout): Dropout(p=0.05, inplace=False)\n",
       "          )\n",
       "          (query_projection): Linear(in_features=512, out_features=512, bias=True)\n",
       "          (key_projection): Linear(in_features=512, out_features=512, bias=True)\n",
       "          (value_projection): Linear(in_features=512, out_features=512, bias=True)\n",
       "          (out_projection): Linear(in_features=512, out_features=512, bias=True)\n",
       "        )\n",
       "        (cross_attention): AttentionLayer(\n",
       "          (inner_attention): FullAttention(\n",
       "            (dropout): Dropout(p=0.05, inplace=False)\n",
       "          )\n",
       "          (query_projection): Linear(in_features=512, out_features=512, bias=True)\n",
       "          (key_projection): Linear(in_features=512, out_features=512, bias=True)\n",
       "          (value_projection): Linear(in_features=512, out_features=512, bias=True)\n",
       "          (out_projection): Linear(in_features=512, out_features=512, bias=True)\n",
       "        )\n",
       "        (conv1): Conv1d(512, 2048, kernel_size=(1,), stride=(1,))\n",
       "        (conv2): Conv1d(2048, 512, kernel_size=(1,), stride=(1,))\n",
       "        (norm1): LayerNorm((512,), eps=1e-05, elementwise_affine=True)\n",
       "        (norm2): LayerNorm((512,), eps=1e-05, elementwise_affine=True)\n",
       "        (norm3): LayerNorm((512,), eps=1e-05, elementwise_affine=True)\n",
       "        (dropout): Dropout(p=0.05, inplace=False)\n",
       "      )\n",
       "    )\n",
       "    (norm): LayerNorm((512,), eps=1e-05, elementwise_affine=True)\n",
       "  )\n",
       "  (projection): Linear(in_features=512, out_features=7, bias=True)\n",
       ")"
      ]
     },
     "execution_count": 7,
     "metadata": {},
     "output_type": "execute_result"
    }
   ],
   "source": [
    "Exp = Exp_Informer\n",
    "exp = Exp(args)\n",
    "exp.train(setting)"
   ]
  },
  {
   "cell_type": "markdown",
   "metadata": {},
   "source": [
    "### Testing"
   ]
  },
  {
   "cell_type": "code",
   "execution_count": 8,
   "metadata": {},
   "outputs": [
    {
     "name": "stdout",
     "output_type": "stream",
     "text": [
      "test 2785\n",
      "test shape: (87, 32, 96, 7) (87, 32, 96, 7)\n",
      "test shape: (2784, 96, 7) (2784, 96, 7)\n",
      "mse:1.3603507280349731, mae:0.9596319198608398\n"
     ]
    }
   ],
   "source": [
    "exp.test(setting)\n",
    "torch.cuda.empty_cache()"
   ]
  },
  {
   "cell_type": "markdown",
   "metadata": {},
   "source": [
    "## Trail 2: Informer, Dataset:ETTh1,  Metric: 192\n",
    "### Set hyperparameters\n",
    "Set some parameters (Args) for the our experiment like dictionary\n"
   ]
  },
  {
   "cell_type": "code",
   "execution_count": 9,
   "metadata": {
    "colab": {
     "base_uri": "https://localhost:8080/"
    },
    "id": "ywY-umrw-mHO",
    "outputId": "9b2e2e8e-7025-46e6-e2d7-2d8c9ceeb381"
   },
   "outputs": [
    {
     "name": "stdout",
     "output_type": "stream",
     "text": [
      "Hyperparameter Combination of informer_train_on_ETTh1_192:\n",
      "\n",
      "{'train_only': True, 'model': 'informer', 'use_multi_gpu': False, 'use_gpu': True, 'learning_rate': 0.005, 'pred_len': 192, 'label_len': 48, 'use_amp': False, 'output_attention': False, 'features': 'M', 'checkpoints': './Checkpoints/Informer_checkpoints', 'patience': 3, 'train_epochs': 6, 'freq': 'h', 'seq_len': 336, 'data': 'ETTh1', 'root_path': './Datasets/', 'data_path': 'ETTh1.csv', 'target': 'OT', 'enc_in': 7, 'dec_in': 7, 'c_out': 7, 'factor': 5, 'd_model': 512, 'n_heads': 8, 'e_layers': 2, 'd_layers': 1, 'd_ff': 2048, 'dropout': 0.05, 'attn': 'prob', 'embed': 'timeF', 'activation': 'gelu', 'distil': True, 'mix': True, 'padding': 0, 'batch_size': 32, 'loss': 'mse', 'lradj': 'type1', 'num_workers': 0, 'itr': 1, 'des': 'exp', 'gpu': 0, 'devices': '0,1,2,3'}\n"
     ]
    }
   ],
   "source": [
    "args.pred_len = 192\n",
    "\n",
    "setting=f'{args.model}_train_on_{args.data}_{args.pred_len}'\n",
    "print(f\"Hyperparameter Combination of {setting}:\\n\") \n",
    "print(args)"
   ]
  },
  {
   "cell_type": "markdown",
   "metadata": {},
   "source": [
    "### Training"
   ]
  },
  {
   "cell_type": "code",
   "execution_count": 10,
   "metadata": {
    "collapsed": true,
    "jupyter": {
     "outputs_hidden": true
    }
   },
   "outputs": [
    {
     "name": "stdout",
     "output_type": "stream",
     "text": [
      "Use GPU: cuda:0\n",
      "train 8113\n",
      "val 2689\n",
      "test 2689\n",
      "\titers: 100, epoch: 1 | loss: 0.7780327\n",
      "\tspeed: 1.0971s/iter; left time: 1556.8362s\n",
      "\titers: 200, epoch: 1 | loss: 0.7571707\n",
      "\tspeed: 1.0230s/iter; left time: 1349.2930s\n",
      "Epoch: 1 cost time: 261.59788751602173\n",
      "Epoch: 1, Steps: 253 | Train Loss: 0.9564900 Vali Loss: 1.9041220 Test Loss: 1.1785548\n",
      "Validation loss decreased (inf --> 1.904122).  Saving model ...\n",
      "Updating learning rate to 0.005\n",
      "\titers: 100, epoch: 2 | loss: 0.5828272\n",
      "\tspeed: 3.4110s/iter; left time: 3977.2127s\n",
      "\titers: 200, epoch: 2 | loss: 0.6036286\n",
      "\tspeed: 1.0510s/iter; left time: 1120.3345s\n",
      "Epoch: 2 cost time: 263.9108703136444\n",
      "Epoch: 2, Steps: 253 | Train Loss: 0.6192349 Vali Loss: 1.6148702 Test Loss: 1.4043471\n",
      "Validation loss decreased (1.904122 --> 1.614870).  Saving model ...\n",
      "Updating learning rate to 0.0025\n",
      "\titers: 100, epoch: 3 | loss: 0.5924128\n",
      "\tspeed: 3.8809s/iter; left time: 3543.2805s\n",
      "\titers: 200, epoch: 3 | loss: 0.4973196\n",
      "\tspeed: 0.9411s/iter; left time: 765.1241s\n",
      "Epoch: 3 cost time: 239.6133096218109\n",
      "Epoch: 3, Steps: 253 | Train Loss: 0.5504872 Vali Loss: 1.6600716 Test Loss: 1.2802205\n",
      "EarlyStopping counter: 1 out of 3\n",
      "Updating learning rate to 0.00125\n",
      "\titers: 100, epoch: 4 | loss: 0.5203211\n",
      "\tspeed: 3.2720s/iter; left time: 2159.4937s\n",
      "\titers: 200, epoch: 4 | loss: 0.5130113\n",
      "\tspeed: 1.0190s/iter; left time: 570.6139s\n",
      "Epoch: 4 cost time: 263.31677174568176\n",
      "Epoch: 4, Steps: 253 | Train Loss: 0.5247328 Vali Loss: 1.6238768 Test Loss: 1.2787851\n",
      "EarlyStopping counter: 2 out of 3\n",
      "Updating learning rate to 0.000625\n",
      "\titers: 100, epoch: 5 | loss: 0.5289559\n",
      "\tspeed: 3.8680s/iter; left time: 1574.2836s\n",
      "\titers: 200, epoch: 5 | loss: 0.4825842\n",
      "\tspeed: 0.9471s/iter; left time: 290.7518s\n",
      "Epoch: 5 cost time: 256.5107469558716\n",
      "Epoch: 5, Steps: 253 | Train Loss: 0.5152696 Vali Loss: 1.6398693 Test Loss: 1.3177919\n",
      "EarlyStopping counter: 3 out of 3\n",
      "Early stopping\n"
     ]
    },
    {
     "data": {
      "text/plain": [
       "Informer(\n",
       "  (enc_embedding): DataEmbedding(\n",
       "    (value_embedding): TokenEmbedding(\n",
       "      (tokenConv): Conv1d(7, 512, kernel_size=(3,), stride=(1,), padding=(1,), padding_mode=circular)\n",
       "    )\n",
       "    (position_embedding): PositionalEmbedding()\n",
       "    (temporal_embedding): TimeFeatureEmbedding(\n",
       "      (embed): Linear(in_features=4, out_features=512, bias=True)\n",
       "    )\n",
       "    (dropout): Dropout(p=0.05, inplace=False)\n",
       "  )\n",
       "  (dec_embedding): DataEmbedding(\n",
       "    (value_embedding): TokenEmbedding(\n",
       "      (tokenConv): Conv1d(7, 512, kernel_size=(3,), stride=(1,), padding=(1,), padding_mode=circular)\n",
       "    )\n",
       "    (position_embedding): PositionalEmbedding()\n",
       "    (temporal_embedding): TimeFeatureEmbedding(\n",
       "      (embed): Linear(in_features=4, out_features=512, bias=True)\n",
       "    )\n",
       "    (dropout): Dropout(p=0.05, inplace=False)\n",
       "  )\n",
       "  (encoder): Encoder(\n",
       "    (attn_layers): ModuleList(\n",
       "      (0): EncoderLayer(\n",
       "        (attention): AttentionLayer(\n",
       "          (inner_attention): ProbAttention(\n",
       "            (dropout): Dropout(p=0.05, inplace=False)\n",
       "          )\n",
       "          (query_projection): Linear(in_features=512, out_features=512, bias=True)\n",
       "          (key_projection): Linear(in_features=512, out_features=512, bias=True)\n",
       "          (value_projection): Linear(in_features=512, out_features=512, bias=True)\n",
       "          (out_projection): Linear(in_features=512, out_features=512, bias=True)\n",
       "        )\n",
       "        (conv1): Conv1d(512, 2048, kernel_size=(1,), stride=(1,))\n",
       "        (conv2): Conv1d(2048, 512, kernel_size=(1,), stride=(1,))\n",
       "        (norm1): LayerNorm((512,), eps=1e-05, elementwise_affine=True)\n",
       "        (norm2): LayerNorm((512,), eps=1e-05, elementwise_affine=True)\n",
       "        (dropout): Dropout(p=0.05, inplace=False)\n",
       "      )\n",
       "      (1): EncoderLayer(\n",
       "        (attention): AttentionLayer(\n",
       "          (inner_attention): ProbAttention(\n",
       "            (dropout): Dropout(p=0.05, inplace=False)\n",
       "          )\n",
       "          (query_projection): Linear(in_features=512, out_features=512, bias=True)\n",
       "          (key_projection): Linear(in_features=512, out_features=512, bias=True)\n",
       "          (value_projection): Linear(in_features=512, out_features=512, bias=True)\n",
       "          (out_projection): Linear(in_features=512, out_features=512, bias=True)\n",
       "        )\n",
       "        (conv1): Conv1d(512, 2048, kernel_size=(1,), stride=(1,))\n",
       "        (conv2): Conv1d(2048, 512, kernel_size=(1,), stride=(1,))\n",
       "        (norm1): LayerNorm((512,), eps=1e-05, elementwise_affine=True)\n",
       "        (norm2): LayerNorm((512,), eps=1e-05, elementwise_affine=True)\n",
       "        (dropout): Dropout(p=0.05, inplace=False)\n",
       "      )\n",
       "    )\n",
       "    (conv_layers): ModuleList(\n",
       "      (0): ConvLayer(\n",
       "        (downConv): Conv1d(512, 512, kernel_size=(3,), stride=(1,), padding=(1,), padding_mode=circular)\n",
       "        (norm): BatchNorm1d(512, eps=1e-05, momentum=0.1, affine=True, track_running_stats=True)\n",
       "        (activation): ELU(alpha=1.0)\n",
       "        (maxPool): MaxPool1d(kernel_size=3, stride=2, padding=1, dilation=1, ceil_mode=False)\n",
       "      )\n",
       "    )\n",
       "    (norm): LayerNorm((512,), eps=1e-05, elementwise_affine=True)\n",
       "  )\n",
       "  (decoder): Decoder(\n",
       "    (layers): ModuleList(\n",
       "      (0): DecoderLayer(\n",
       "        (self_attention): AttentionLayer(\n",
       "          (inner_attention): ProbAttention(\n",
       "            (dropout): Dropout(p=0.05, inplace=False)\n",
       "          )\n",
       "          (query_projection): Linear(in_features=512, out_features=512, bias=True)\n",
       "          (key_projection): Linear(in_features=512, out_features=512, bias=True)\n",
       "          (value_projection): Linear(in_features=512, out_features=512, bias=True)\n",
       "          (out_projection): Linear(in_features=512, out_features=512, bias=True)\n",
       "        )\n",
       "        (cross_attention): AttentionLayer(\n",
       "          (inner_attention): FullAttention(\n",
       "            (dropout): Dropout(p=0.05, inplace=False)\n",
       "          )\n",
       "          (query_projection): Linear(in_features=512, out_features=512, bias=True)\n",
       "          (key_projection): Linear(in_features=512, out_features=512, bias=True)\n",
       "          (value_projection): Linear(in_features=512, out_features=512, bias=True)\n",
       "          (out_projection): Linear(in_features=512, out_features=512, bias=True)\n",
       "        )\n",
       "        (conv1): Conv1d(512, 2048, kernel_size=(1,), stride=(1,))\n",
       "        (conv2): Conv1d(2048, 512, kernel_size=(1,), stride=(1,))\n",
       "        (norm1): LayerNorm((512,), eps=1e-05, elementwise_affine=True)\n",
       "        (norm2): LayerNorm((512,), eps=1e-05, elementwise_affine=True)\n",
       "        (norm3): LayerNorm((512,), eps=1e-05, elementwise_affine=True)\n",
       "        (dropout): Dropout(p=0.05, inplace=False)\n",
       "      )\n",
       "    )\n",
       "    (norm): LayerNorm((512,), eps=1e-05, elementwise_affine=True)\n",
       "  )\n",
       "  (projection): Linear(in_features=512, out_features=7, bias=True)\n",
       ")"
      ]
     },
     "execution_count": 10,
     "metadata": {},
     "output_type": "execute_result"
    }
   ],
   "source": [
    "Exp = Exp_Informer\n",
    "exp = Exp(args)\n",
    "exp.train(setting)"
   ]
  },
  {
   "cell_type": "markdown",
   "metadata": {},
   "source": [
    "### Testing"
   ]
  },
  {
   "cell_type": "code",
   "execution_count": 11,
   "metadata": {},
   "outputs": [
    {
     "name": "stdout",
     "output_type": "stream",
     "text": [
      "test 2689\n",
      "test shape: (84, 32, 192, 7) (84, 32, 192, 7)\n",
      "test shape: (2688, 192, 7) (2688, 192, 7)\n",
      "mse:1.406864881515503, mae:0.8841760754585266\n"
     ]
    }
   ],
   "source": [
    "exp.test(setting)\n",
    "torch.cuda.empty_cache()"
   ]
  },
  {
   "cell_type": "markdown",
   "metadata": {},
   "source": [
    "---\n",
    "## Trail 3: Informer, Dataset:ETTh1,  Metric: 336\n",
    "### Set hyperparameters\n",
    "Set some parameters (Args) for the our experiment like dictionary\n"
   ]
  },
  {
   "cell_type": "code",
   "execution_count": 12,
   "metadata": {
    "colab": {
     "base_uri": "https://localhost:8080/"
    },
    "id": "ywY-umrw-mHO",
    "outputId": "9b2e2e8e-7025-46e6-e2d7-2d8c9ceeb381"
   },
   "outputs": [
    {
     "name": "stdout",
     "output_type": "stream",
     "text": [
      "Hyperparameter Combination of informer_train_on_ETTh1_336:\n",
      "\n",
      "{'train_only': True, 'model': 'informer', 'use_multi_gpu': False, 'use_gpu': True, 'learning_rate': 0.005, 'pred_len': 336, 'label_len': 48, 'use_amp': False, 'output_attention': False, 'features': 'M', 'checkpoints': './Checkpoints/Informer_checkpoints', 'patience': 3, 'train_epochs': 6, 'freq': 'h', 'seq_len': 336, 'data': 'ETTh1', 'root_path': './Datasets/', 'data_path': 'ETTh1.csv', 'target': 'OT', 'enc_in': 7, 'dec_in': 7, 'c_out': 7, 'factor': 5, 'd_model': 512, 'n_heads': 8, 'e_layers': 2, 'd_layers': 1, 'd_ff': 2048, 'dropout': 0.05, 'attn': 'prob', 'embed': 'timeF', 'activation': 'gelu', 'distil': True, 'mix': True, 'padding': 0, 'batch_size': 32, 'loss': 'mse', 'lradj': 'type1', 'num_workers': 0, 'itr': 1, 'des': 'exp', 'gpu': 0, 'devices': '0,1,2,3'}\n"
     ]
    }
   ],
   "source": [
    "args.pred_len = 336\n",
    "\n",
    "setting=f'{args.model}_train_on_{args.data}_{args.pred_len}'\n",
    "print(f\"Hyperparameter Combination of {setting}:\\n\") \n",
    "print(args)"
   ]
  },
  {
   "cell_type": "markdown",
   "metadata": {},
   "source": [
    "### Training"
   ]
  },
  {
   "cell_type": "code",
   "execution_count": 13,
   "metadata": {
    "collapsed": true,
    "jupyter": {
     "outputs_hidden": true
    }
   },
   "outputs": [
    {
     "name": "stdout",
     "output_type": "stream",
     "text": [
      "Use GPU: cuda:0\n",
      "train 7969\n",
      "val 2545\n",
      "test 2545\n",
      "\titers: 100, epoch: 1 | loss: 0.7859695\n",
      "\tspeed: 1.1880s/iter; left time: 1657.3265s\n",
      "\titers: 200, epoch: 1 | loss: 0.8015435\n",
      "\tspeed: 1.1391s/iter; left time: 1475.1105s\n",
      "Epoch: 1 cost time: 288.9001317024231\n",
      "Epoch: 1, Steps: 249 | Train Loss: 0.9857161 Vali Loss: 1.6287107 Test Loss: 1.3911420\n",
      "Validation loss decreased (inf --> 1.628711).  Saving model ...\n",
      "Updating learning rate to 0.005\n",
      "\titers: 100, epoch: 2 | loss: 0.6159801\n",
      "\tspeed: 3.6809s/iter; left time: 4218.3437s\n",
      "\titers: 200, epoch: 2 | loss: 0.6362535\n",
      "\tspeed: 1.0360s/iter; left time: 1083.6561s\n",
      "Epoch: 2 cost time: 270.01960372924805\n",
      "Epoch: 2, Steps: 249 | Train Loss: 0.6192770 Vali Loss: 1.6677825 Test Loss: 1.4221078\n",
      "EarlyStopping counter: 1 out of 3\n",
      "Updating learning rate to 0.0025\n",
      "\titers: 100, epoch: 3 | loss: 0.5827079\n",
      "\tspeed: 3.4021s/iter; left time: 3051.6531s\n",
      "\titers: 200, epoch: 3 | loss: 0.5480553\n",
      "\tspeed: 1.1589s/iter; left time: 923.6301s\n",
      "Epoch: 3 cost time: 282.01434350013733\n",
      "Epoch: 3, Steps: 249 | Train Loss: 0.5515482 Vali Loss: 1.6124017 Test Loss: 1.1590017\n",
      "Validation loss decreased (1.628711 --> 1.612402).  Saving model ...\n",
      "Updating learning rate to 0.00125\n",
      "\titers: 100, epoch: 4 | loss: 0.4998031\n",
      "\tspeed: 3.7180s/iter; left time: 2409.2757s\n",
      "\titers: 200, epoch: 4 | loss: 0.4635272\n",
      "\tspeed: 1.1120s/iter; left time: 609.3633s\n",
      "Epoch: 4 cost time: 280.3891246318817\n",
      "Epoch: 4, Steps: 249 | Train Loss: 0.5298276 Vali Loss: 1.6475095 Test Loss: 1.4114581\n",
      "EarlyStopping counter: 1 out of 3\n",
      "Updating learning rate to 0.000625\n",
      "\titers: 100, epoch: 5 | loss: 0.5312862\n",
      "\tspeed: 3.3081s/iter; left time: 1319.9257s\n",
      "\titers: 200, epoch: 5 | loss: 0.5150962\n",
      "\tspeed: 1.0939s/iter; left time: 327.0774s\n",
      "Epoch: 5 cost time: 267.5057466030121\n",
      "Epoch: 5, Steps: 249 | Train Loss: 0.5181654 Vali Loss: 1.6826667 Test Loss: 1.4060397\n",
      "EarlyStopping counter: 2 out of 3\n",
      "Updating learning rate to 0.0003125\n",
      "\titers: 100, epoch: 6 | loss: 0.4775873\n",
      "\tspeed: 3.6622s/iter; left time: 549.3263s\n",
      "\titers: 200, epoch: 6 | loss: 0.5060846\n",
      "\tspeed: 1.1448s/iter; left time: 57.2418s\n",
      "Epoch: 6 cost time: 284.4067680835724\n",
      "Epoch: 6, Steps: 249 | Train Loss: 0.5121183 Vali Loss: 1.6929171 Test Loss: 1.4033316\n",
      "EarlyStopping counter: 3 out of 3\n",
      "Early stopping\n"
     ]
    },
    {
     "data": {
      "text/plain": [
       "Informer(\n",
       "  (enc_embedding): DataEmbedding(\n",
       "    (value_embedding): TokenEmbedding(\n",
       "      (tokenConv): Conv1d(7, 512, kernel_size=(3,), stride=(1,), padding=(1,), padding_mode=circular)\n",
       "    )\n",
       "    (position_embedding): PositionalEmbedding()\n",
       "    (temporal_embedding): TimeFeatureEmbedding(\n",
       "      (embed): Linear(in_features=4, out_features=512, bias=True)\n",
       "    )\n",
       "    (dropout): Dropout(p=0.05, inplace=False)\n",
       "  )\n",
       "  (dec_embedding): DataEmbedding(\n",
       "    (value_embedding): TokenEmbedding(\n",
       "      (tokenConv): Conv1d(7, 512, kernel_size=(3,), stride=(1,), padding=(1,), padding_mode=circular)\n",
       "    )\n",
       "    (position_embedding): PositionalEmbedding()\n",
       "    (temporal_embedding): TimeFeatureEmbedding(\n",
       "      (embed): Linear(in_features=4, out_features=512, bias=True)\n",
       "    )\n",
       "    (dropout): Dropout(p=0.05, inplace=False)\n",
       "  )\n",
       "  (encoder): Encoder(\n",
       "    (attn_layers): ModuleList(\n",
       "      (0): EncoderLayer(\n",
       "        (attention): AttentionLayer(\n",
       "          (inner_attention): ProbAttention(\n",
       "            (dropout): Dropout(p=0.05, inplace=False)\n",
       "          )\n",
       "          (query_projection): Linear(in_features=512, out_features=512, bias=True)\n",
       "          (key_projection): Linear(in_features=512, out_features=512, bias=True)\n",
       "          (value_projection): Linear(in_features=512, out_features=512, bias=True)\n",
       "          (out_projection): Linear(in_features=512, out_features=512, bias=True)\n",
       "        )\n",
       "        (conv1): Conv1d(512, 2048, kernel_size=(1,), stride=(1,))\n",
       "        (conv2): Conv1d(2048, 512, kernel_size=(1,), stride=(1,))\n",
       "        (norm1): LayerNorm((512,), eps=1e-05, elementwise_affine=True)\n",
       "        (norm2): LayerNorm((512,), eps=1e-05, elementwise_affine=True)\n",
       "        (dropout): Dropout(p=0.05, inplace=False)\n",
       "      )\n",
       "      (1): EncoderLayer(\n",
       "        (attention): AttentionLayer(\n",
       "          (inner_attention): ProbAttention(\n",
       "            (dropout): Dropout(p=0.05, inplace=False)\n",
       "          )\n",
       "          (query_projection): Linear(in_features=512, out_features=512, bias=True)\n",
       "          (key_projection): Linear(in_features=512, out_features=512, bias=True)\n",
       "          (value_projection): Linear(in_features=512, out_features=512, bias=True)\n",
       "          (out_projection): Linear(in_features=512, out_features=512, bias=True)\n",
       "        )\n",
       "        (conv1): Conv1d(512, 2048, kernel_size=(1,), stride=(1,))\n",
       "        (conv2): Conv1d(2048, 512, kernel_size=(1,), stride=(1,))\n",
       "        (norm1): LayerNorm((512,), eps=1e-05, elementwise_affine=True)\n",
       "        (norm2): LayerNorm((512,), eps=1e-05, elementwise_affine=True)\n",
       "        (dropout): Dropout(p=0.05, inplace=False)\n",
       "      )\n",
       "    )\n",
       "    (conv_layers): ModuleList(\n",
       "      (0): ConvLayer(\n",
       "        (downConv): Conv1d(512, 512, kernel_size=(3,), stride=(1,), padding=(1,), padding_mode=circular)\n",
       "        (norm): BatchNorm1d(512, eps=1e-05, momentum=0.1, affine=True, track_running_stats=True)\n",
       "        (activation): ELU(alpha=1.0)\n",
       "        (maxPool): MaxPool1d(kernel_size=3, stride=2, padding=1, dilation=1, ceil_mode=False)\n",
       "      )\n",
       "    )\n",
       "    (norm): LayerNorm((512,), eps=1e-05, elementwise_affine=True)\n",
       "  )\n",
       "  (decoder): Decoder(\n",
       "    (layers): ModuleList(\n",
       "      (0): DecoderLayer(\n",
       "        (self_attention): AttentionLayer(\n",
       "          (inner_attention): ProbAttention(\n",
       "            (dropout): Dropout(p=0.05, inplace=False)\n",
       "          )\n",
       "          (query_projection): Linear(in_features=512, out_features=512, bias=True)\n",
       "          (key_projection): Linear(in_features=512, out_features=512, bias=True)\n",
       "          (value_projection): Linear(in_features=512, out_features=512, bias=True)\n",
       "          (out_projection): Linear(in_features=512, out_features=512, bias=True)\n",
       "        )\n",
       "        (cross_attention): AttentionLayer(\n",
       "          (inner_attention): FullAttention(\n",
       "            (dropout): Dropout(p=0.05, inplace=False)\n",
       "          )\n",
       "          (query_projection): Linear(in_features=512, out_features=512, bias=True)\n",
       "          (key_projection): Linear(in_features=512, out_features=512, bias=True)\n",
       "          (value_projection): Linear(in_features=512, out_features=512, bias=True)\n",
       "          (out_projection): Linear(in_features=512, out_features=512, bias=True)\n",
       "        )\n",
       "        (conv1): Conv1d(512, 2048, kernel_size=(1,), stride=(1,))\n",
       "        (conv2): Conv1d(2048, 512, kernel_size=(1,), stride=(1,))\n",
       "        (norm1): LayerNorm((512,), eps=1e-05, elementwise_affine=True)\n",
       "        (norm2): LayerNorm((512,), eps=1e-05, elementwise_affine=True)\n",
       "        (norm3): LayerNorm((512,), eps=1e-05, elementwise_affine=True)\n",
       "        (dropout): Dropout(p=0.05, inplace=False)\n",
       "      )\n",
       "    )\n",
       "    (norm): LayerNorm((512,), eps=1e-05, elementwise_affine=True)\n",
       "  )\n",
       "  (projection): Linear(in_features=512, out_features=7, bias=True)\n",
       ")"
      ]
     },
     "execution_count": 13,
     "metadata": {},
     "output_type": "execute_result"
    }
   ],
   "source": [
    "Exp = Exp_Informer\n",
    "exp = Exp(args)\n",
    "exp.train(setting)"
   ]
  },
  {
   "cell_type": "markdown",
   "metadata": {},
   "source": [
    "### Testing"
   ]
  },
  {
   "cell_type": "code",
   "execution_count": 14,
   "metadata": {},
   "outputs": [
    {
     "name": "stdout",
     "output_type": "stream",
     "text": [
      "test 2545\n",
      "test shape: (79, 32, 336, 7) (79, 32, 336, 7)\n",
      "test shape: (2528, 336, 7) (2528, 336, 7)\n",
      "mse:1.1588516235351562, mae:0.8585829138755798\n"
     ]
    }
   ],
   "source": [
    "exp.test(setting)\n",
    "torch.cuda.empty_cache()"
   ]
  },
  {
   "cell_type": "markdown",
   "metadata": {},
   "source": [
    "---\n",
    "## Trail 4: Informer, Dataset:ETTh1,  Metric: 720\n",
    "### Set hyperparameters\n",
    "Set some parameters (Args) for the our experiment like dictionary\n"
   ]
  },
  {
   "cell_type": "code",
   "execution_count": 15,
   "metadata": {
    "colab": {
     "base_uri": "https://localhost:8080/"
    },
    "id": "ywY-umrw-mHO",
    "outputId": "9b2e2e8e-7025-46e6-e2d7-2d8c9ceeb381"
   },
   "outputs": [
    {
     "name": "stdout",
     "output_type": "stream",
     "text": [
      "Hyperparameter Combination of informer_train_on_ETTh1_720:\n",
      "\n",
      "{'train_only': True, 'model': 'informer', 'use_multi_gpu': False, 'use_gpu': True, 'learning_rate': 0.005, 'pred_len': 720, 'label_len': 48, 'use_amp': False, 'output_attention': False, 'features': 'M', 'checkpoints': './Checkpoints/Informer_checkpoints', 'patience': 3, 'train_epochs': 6, 'freq': 'h', 'seq_len': 336, 'data': 'ETTh1', 'root_path': './Datasets/', 'data_path': 'ETTh1.csv', 'target': 'OT', 'enc_in': 7, 'dec_in': 7, 'c_out': 7, 'factor': 5, 'd_model': 512, 'n_heads': 8, 'e_layers': 2, 'd_layers': 1, 'd_ff': 2048, 'dropout': 0.05, 'attn': 'prob', 'embed': 'timeF', 'activation': 'gelu', 'distil': True, 'mix': True, 'padding': 0, 'batch_size': 32, 'loss': 'mse', 'lradj': 'type1', 'num_workers': 0, 'itr': 1, 'des': 'exp', 'gpu': 0, 'devices': '0,1,2,3'}\n"
     ]
    }
   ],
   "source": [
    "args.pred_len = 720\n",
    "\n",
    "setting=f'{args.model}_train_on_{args.data}_{args.pred_len}'\n",
    "print(f\"Hyperparameter Combination of {setting}:\\n\") \n",
    "print(args)"
   ]
  },
  {
   "cell_type": "markdown",
   "metadata": {},
   "source": [
    "### Training"
   ]
  },
  {
   "cell_type": "code",
   "execution_count": 16,
   "metadata": {
    "collapsed": true,
    "jupyter": {
     "outputs_hidden": true
    }
   },
   "outputs": [
    {
     "name": "stdout",
     "output_type": "stream",
     "text": [
      "Use GPU: cuda:0\n",
      "train 7585\n",
      "val 2161\n",
      "test 2161\n",
      "\titers: 100, epoch: 1 | loss: 0.7466420\n",
      "\tspeed: 1.0561s/iter; left time: 1397.2174s\n",
      "\titers: 200, epoch: 1 | loss: 0.7052477\n",
      "\tspeed: 1.1670s/iter; left time: 1427.2754s\n",
      "Epoch: 1 cost time: 267.50572180747986\n",
      "Epoch: 1, Steps: 237 | Train Loss: 0.8924379 Vali Loss: 1.7918105 Test Loss: 1.4073195\n",
      "Validation loss decreased (inf --> 1.791811).  Saving model ...\n",
      "Updating learning rate to 0.005\n",
      "\titers: 100, epoch: 2 | loss: 0.6966177\n",
      "\tspeed: 3.5159s/iter; left time: 3818.3056s\n",
      "\titers: 200, epoch: 2 | loss: 0.5772589\n",
      "\tspeed: 1.5141s/iter; left time: 1492.8951s\n",
      "Epoch: 2 cost time: 353.6909656524658\n",
      "Epoch: 2, Steps: 237 | Train Loss: 0.6482369 Vali Loss: 1.9161090 Test Loss: 1.3711313\n",
      "EarlyStopping counter: 1 out of 3\n",
      "Updating learning rate to 0.0025\n",
      "\titers: 100, epoch: 3 | loss: 0.4905525\n",
      "\tspeed: 5.0319s/iter; left time: 4272.1064s\n",
      "\titers: 200, epoch: 3 | loss: 0.5373791\n",
      "\tspeed: 1.7840s/iter; left time: 1336.2363s\n",
      "Epoch: 3 cost time: 423.39767956733704\n",
      "Epoch: 3, Steps: 237 | Train Loss: 0.5664016 Vali Loss: 1.8774862 Test Loss: 1.3583689\n",
      "EarlyStopping counter: 2 out of 3\n",
      "Updating learning rate to 0.00125\n",
      "\titers: 100, epoch: 4 | loss: 0.5714002\n",
      "\tspeed: 4.8400s/iter; left time: 2962.0637s\n",
      "\titers: 200, epoch: 4 | loss: 0.5533268\n",
      "\tspeed: 1.2421s/iter; left time: 635.9352s\n",
      "Epoch: 4 cost time: 347.7965362071991\n",
      "Epoch: 4, Steps: 237 | Train Loss: 0.5543887 Vali Loss: 1.9557142 Test Loss: 1.3041152\n",
      "EarlyStopping counter: 3 out of 3\n",
      "Early stopping\n"
     ]
    },
    {
     "data": {
      "text/plain": [
       "Informer(\n",
       "  (enc_embedding): DataEmbedding(\n",
       "    (value_embedding): TokenEmbedding(\n",
       "      (tokenConv): Conv1d(7, 512, kernel_size=(3,), stride=(1,), padding=(1,), padding_mode=circular)\n",
       "    )\n",
       "    (position_embedding): PositionalEmbedding()\n",
       "    (temporal_embedding): TimeFeatureEmbedding(\n",
       "      (embed): Linear(in_features=4, out_features=512, bias=True)\n",
       "    )\n",
       "    (dropout): Dropout(p=0.05, inplace=False)\n",
       "  )\n",
       "  (dec_embedding): DataEmbedding(\n",
       "    (value_embedding): TokenEmbedding(\n",
       "      (tokenConv): Conv1d(7, 512, kernel_size=(3,), stride=(1,), padding=(1,), padding_mode=circular)\n",
       "    )\n",
       "    (position_embedding): PositionalEmbedding()\n",
       "    (temporal_embedding): TimeFeatureEmbedding(\n",
       "      (embed): Linear(in_features=4, out_features=512, bias=True)\n",
       "    )\n",
       "    (dropout): Dropout(p=0.05, inplace=False)\n",
       "  )\n",
       "  (encoder): Encoder(\n",
       "    (attn_layers): ModuleList(\n",
       "      (0): EncoderLayer(\n",
       "        (attention): AttentionLayer(\n",
       "          (inner_attention): ProbAttention(\n",
       "            (dropout): Dropout(p=0.05, inplace=False)\n",
       "          )\n",
       "          (query_projection): Linear(in_features=512, out_features=512, bias=True)\n",
       "          (key_projection): Linear(in_features=512, out_features=512, bias=True)\n",
       "          (value_projection): Linear(in_features=512, out_features=512, bias=True)\n",
       "          (out_projection): Linear(in_features=512, out_features=512, bias=True)\n",
       "        )\n",
       "        (conv1): Conv1d(512, 2048, kernel_size=(1,), stride=(1,))\n",
       "        (conv2): Conv1d(2048, 512, kernel_size=(1,), stride=(1,))\n",
       "        (norm1): LayerNorm((512,), eps=1e-05, elementwise_affine=True)\n",
       "        (norm2): LayerNorm((512,), eps=1e-05, elementwise_affine=True)\n",
       "        (dropout): Dropout(p=0.05, inplace=False)\n",
       "      )\n",
       "      (1): EncoderLayer(\n",
       "        (attention): AttentionLayer(\n",
       "          (inner_attention): ProbAttention(\n",
       "            (dropout): Dropout(p=0.05, inplace=False)\n",
       "          )\n",
       "          (query_projection): Linear(in_features=512, out_features=512, bias=True)\n",
       "          (key_projection): Linear(in_features=512, out_features=512, bias=True)\n",
       "          (value_projection): Linear(in_features=512, out_features=512, bias=True)\n",
       "          (out_projection): Linear(in_features=512, out_features=512, bias=True)\n",
       "        )\n",
       "        (conv1): Conv1d(512, 2048, kernel_size=(1,), stride=(1,))\n",
       "        (conv2): Conv1d(2048, 512, kernel_size=(1,), stride=(1,))\n",
       "        (norm1): LayerNorm((512,), eps=1e-05, elementwise_affine=True)\n",
       "        (norm2): LayerNorm((512,), eps=1e-05, elementwise_affine=True)\n",
       "        (dropout): Dropout(p=0.05, inplace=False)\n",
       "      )\n",
       "    )\n",
       "    (conv_layers): ModuleList(\n",
       "      (0): ConvLayer(\n",
       "        (downConv): Conv1d(512, 512, kernel_size=(3,), stride=(1,), padding=(1,), padding_mode=circular)\n",
       "        (norm): BatchNorm1d(512, eps=1e-05, momentum=0.1, affine=True, track_running_stats=True)\n",
       "        (activation): ELU(alpha=1.0)\n",
       "        (maxPool): MaxPool1d(kernel_size=3, stride=2, padding=1, dilation=1, ceil_mode=False)\n",
       "      )\n",
       "    )\n",
       "    (norm): LayerNorm((512,), eps=1e-05, elementwise_affine=True)\n",
       "  )\n",
       "  (decoder): Decoder(\n",
       "    (layers): ModuleList(\n",
       "      (0): DecoderLayer(\n",
       "        (self_attention): AttentionLayer(\n",
       "          (inner_attention): ProbAttention(\n",
       "            (dropout): Dropout(p=0.05, inplace=False)\n",
       "          )\n",
       "          (query_projection): Linear(in_features=512, out_features=512, bias=True)\n",
       "          (key_projection): Linear(in_features=512, out_features=512, bias=True)\n",
       "          (value_projection): Linear(in_features=512, out_features=512, bias=True)\n",
       "          (out_projection): Linear(in_features=512, out_features=512, bias=True)\n",
       "        )\n",
       "        (cross_attention): AttentionLayer(\n",
       "          (inner_attention): FullAttention(\n",
       "            (dropout): Dropout(p=0.05, inplace=False)\n",
       "          )\n",
       "          (query_projection): Linear(in_features=512, out_features=512, bias=True)\n",
       "          (key_projection): Linear(in_features=512, out_features=512, bias=True)\n",
       "          (value_projection): Linear(in_features=512, out_features=512, bias=True)\n",
       "          (out_projection): Linear(in_features=512, out_features=512, bias=True)\n",
       "        )\n",
       "        (conv1): Conv1d(512, 2048, kernel_size=(1,), stride=(1,))\n",
       "        (conv2): Conv1d(2048, 512, kernel_size=(1,), stride=(1,))\n",
       "        (norm1): LayerNorm((512,), eps=1e-05, elementwise_affine=True)\n",
       "        (norm2): LayerNorm((512,), eps=1e-05, elementwise_affine=True)\n",
       "        (norm3): LayerNorm((512,), eps=1e-05, elementwise_affine=True)\n",
       "        (dropout): Dropout(p=0.05, inplace=False)\n",
       "      )\n",
       "    )\n",
       "    (norm): LayerNorm((512,), eps=1e-05, elementwise_affine=True)\n",
       "  )\n",
       "  (projection): Linear(in_features=512, out_features=7, bias=True)\n",
       ")"
      ]
     },
     "execution_count": 16,
     "metadata": {},
     "output_type": "execute_result"
    }
   ],
   "source": [
    "Exp = Exp_Informer\n",
    "exp = Exp(args)\n",
    "exp.train(setting)"
   ]
  },
  {
   "cell_type": "markdown",
   "metadata": {},
   "source": [
    "### Testing"
   ]
  },
  {
   "cell_type": "code",
   "execution_count": 17,
   "metadata": {},
   "outputs": [
    {
     "name": "stdout",
     "output_type": "stream",
     "text": [
      "test 2161\n",
      "test shape: (67, 32, 720, 7) (67, 32, 720, 7)\n",
      "test shape: (2144, 720, 7) (2144, 720, 7)\n",
      "mse:1.407319188117981, mae:0.976085364818573\n"
     ]
    }
   ],
   "source": [
    "exp.test(setting)\n",
    "torch.cuda.empty_cache()"
   ]
  },
  {
   "cell_type": "markdown",
   "metadata": {},
   "source": [
    "---\n",
    "## Compare Results of `ETTh1`with [Zeng · 2022](https://arxiv.org/abs/2205.13504) Paper"
   ]
  },
  {
   "cell_type": "code",
   "execution_count": 18,
   "metadata": {},
   "outputs": [
    {
     "data": {
      "image/png": "[encoded data removed]",
      "text/plain": [
       "<IPython.core.display.Image object>"
      ]
     },
     "execution_count": 18,
     "metadata": {},
     "output_type": "execute_result"
    }
   ],
   "source": [
    "from IPython.display import Image\n",
    "Image(filename=r\"./Images/Informer Results ETTh1.png\")"
   ]
  },
  {
   "cell_type": "markdown",
   "metadata": {},
   "source": [
    "#### **Experiment Results**:\n",
    "Comaparing my results with the paper resulted highlited in the image above.\n",
    "\n",
    "| Seq_len | MSE | MAE |\n",
    "|---|---|---|\n",
    "| 96 | 1.2901318073272705 | 0.913190722465515 |\n",
    "| 192 | 1.376012921333313 | 0.982631266117096 |\n",
    "| 336 | 1.1401041746139526 | 0.8656408190727234 |\n",
    "| 720 | 1.1068990230560303 | 0.8086273074150085 |\n"
   ]
  },
  {
   "cell_type": "markdown",
   "metadata": {},
   "source": [
    "---\n",
    "# Working on ETTh2 Dataset\n",
    "---"
   ]
  },
  {
   "cell_type": "markdown",
   "metadata": {},
   "source": [
    "## Trail 1: Informer, Dataset:ETTh2,  Metric: 96\n",
    "### Set hyperparameters\n",
    "Set some parameters (Args) for the our experiment like dictionary\n"
   ]
  },
  {
   "cell_type": "code",
   "execution_count": 33,
   "metadata": {
    "colab": {
     "base_uri": "https://localhost:8080/"
    },
    "id": "ywY-umrw-mHO",
    "outputId": "9b2e2e8e-7025-46e6-e2d7-2d8c9ceeb381"
   },
   "outputs": [
    {
     "name": "stdout",
     "output_type": "stream",
     "text": [
      "Hyperparameter Combination of informer_train_on_ETTh2_96:\n",
      "\n",
      "{'train_only': True, 'model': 'informer', 'use_multi_gpu': False, 'use_gpu': True, 'learning_rate': 0.005, 'pred_len': 96, 'label_len': 48, 'use_amp': False, 'output_attention': False, 'features': 'M', 'checkpoints': './Checkpoints/Informer_checkpoints', 'patience': 3, 'train_epochs': 6, 'freq': 'h', 'seq_len': 336, 'data': 'ETTh2', 'root_path': './Datasets/', 'data_path': 'ETTh2.csv', 'target': 'OT', 'enc_in': 7, 'dec_in': 7, 'c_out': 7, 'factor': 5, 'd_model': 512, 'n_heads': 8, 'e_layers': 2, 'd_layers': 1, 'd_ff': 2048, 'dropout': 0.05, 'attn': 'prob', 'embed': 'timeF', 'activation': 'gelu', 'distil': True, 'mix': True, 'padding': 0, 'batch_size': 32, 'loss': 'mse', 'lradj': 'type1', 'num_workers': 0, 'itr': 1, 'des': 'exp', 'gpu': 0, 'devices': '0,1,2,3'}\n"
     ]
    }
   ],
   "source": [
    "args.data = 'ETTh2'            # dataset name\n",
    "args.data_path = 'ETTh2.csv'   # data file\n",
    "args.pred_len = 96\n",
    "setting=f'{args.model}_train_on_{args.data}_{args.pred_len}'\n",
    "print(f\"Hyperparameter Combination of {setting}:\\n\") \n",
    "print(args)"
   ]
  },
  {
   "cell_type": "markdown",
   "metadata": {},
   "source": [
    "### Training"
   ]
  },
  {
   "cell_type": "code",
   "execution_count": 34,
   "metadata": {
    "collapsed": true,
    "jupyter": {
     "outputs_hidden": true
    }
   },
   "outputs": [
    {
     "name": "stdout",
     "output_type": "stream",
     "text": [
      "Use GPU: cuda:0\n",
      "train 8209\n",
      "val 2785\n",
      "test 2785\n",
      "\titers: 100, epoch: 1 | loss: 0.6133351\n",
      "\tspeed: 0.4569s/iter; left time: 656.6079s\n",
      "\titers: 200, epoch: 1 | loss: 0.5000068\n",
      "\tspeed: 0.4630s/iter; left time: 619.0347s\n",
      "Epoch: 1 cost time: 118.09319233894348\n",
      "Epoch: 1, Steps: 256 | Train Loss: 0.9679637 Vali Loss: 1.8900480 Test Loss: 3.0697021\n",
      "Validation loss decreased (inf --> 1.890048).  Saving model ...\n",
      "Updating learning rate to 0.005\n",
      "\titers: 100, epoch: 2 | loss: 0.7113648\n",
      "\tspeed: 1.2461s/iter; left time: 1471.6190s\n",
      "\titers: 200, epoch: 2 | loss: 0.4740530\n",
      "\tspeed: 0.4419s/iter; left time: 477.7255s\n",
      "Epoch: 2 cost time: 113.49864435195923\n",
      "Epoch: 2, Steps: 256 | Train Loss: 0.6349976 Vali Loss: 1.9726402 Test Loss: 3.9393003\n",
      "EarlyStopping counter: 1 out of 3\n",
      "Updating learning rate to 0.0025\n",
      "\titers: 100, epoch: 3 | loss: 0.3835185\n",
      "\tspeed: 1.1629s/iter; left time: 1075.6757s\n",
      "\titers: 200, epoch: 3 | loss: 0.4614734\n",
      "\tspeed: 0.4262s/iter; left time: 351.6003s\n",
      "Epoch: 3 cost time: 110.00361967086792\n",
      "Epoch: 3, Steps: 256 | Train Loss: 0.4504576 Vali Loss: 2.5362129 Test Loss: 3.6299021\n",
      "EarlyStopping counter: 2 out of 3\n",
      "Updating learning rate to 0.00125\n",
      "\titers: 100, epoch: 4 | loss: 0.6077017\n",
      "\tspeed: 1.2509s/iter; left time: 836.8345s\n",
      "\titers: 200, epoch: 4 | loss: 0.5403711\n",
      "\tspeed: 0.4859s/iter; left time: 276.5030s\n",
      "Epoch: 4 cost time: 123.09963846206665\n",
      "Epoch: 4, Steps: 256 | Train Loss: 0.4077207 Vali Loss: 3.0835388 Test Loss: 4.1704016\n",
      "EarlyStopping counter: 3 out of 3\n",
      "Early stopping\n"
     ]
    },
    {
     "data": {
      "text/plain": [
       "Informer(\n",
       "  (enc_embedding): DataEmbedding(\n",
       "    (value_embedding): TokenEmbedding(\n",
       "      (tokenConv): Conv1d(7, 512, kernel_size=(3,), stride=(1,), padding=(1,), padding_mode=circular)\n",
       "    )\n",
       "    (position_embedding): PositionalEmbedding()\n",
       "    (temporal_embedding): TimeFeatureEmbedding(\n",
       "      (embed): Linear(in_features=4, out_features=512, bias=True)\n",
       "    )\n",
       "    (dropout): Dropout(p=0.05, inplace=False)\n",
       "  )\n",
       "  (dec_embedding): DataEmbedding(\n",
       "    (value_embedding): TokenEmbedding(\n",
       "      (tokenConv): Conv1d(7, 512, kernel_size=(3,), stride=(1,), padding=(1,), padding_mode=circular)\n",
       "    )\n",
       "    (position_embedding): PositionalEmbedding()\n",
       "    (temporal_embedding): TimeFeatureEmbedding(\n",
       "      (embed): Linear(in_features=4, out_features=512, bias=True)\n",
       "    )\n",
       "    (dropout): Dropout(p=0.05, inplace=False)\n",
       "  )\n",
       "  (encoder): Encoder(\n",
       "    (attn_layers): ModuleList(\n",
       "      (0): EncoderLayer(\n",
       "        (attention): AttentionLayer(\n",
       "          (inner_attention): ProbAttention(\n",
       "            (dropout): Dropout(p=0.05, inplace=False)\n",
       "          )\n",
       "          (query_projection): Linear(in_features=512, out_features=512, bias=True)\n",
       "          (key_projection): Linear(in_features=512, out_features=512, bias=True)\n",
       "          (value_projection): Linear(in_features=512, out_features=512, bias=True)\n",
       "          (out_projection): Linear(in_features=512, out_features=512, bias=True)\n",
       "        )\n",
       "        (conv1): Conv1d(512, 2048, kernel_size=(1,), stride=(1,))\n",
       "        (conv2): Conv1d(2048, 512, kernel_size=(1,), stride=(1,))\n",
       "        (norm1): LayerNorm((512,), eps=1e-05, elementwise_affine=True)\n",
       "        (norm2): LayerNorm((512,), eps=1e-05, elementwise_affine=True)\n",
       "        (dropout): Dropout(p=0.05, inplace=False)\n",
       "      )\n",
       "      (1): EncoderLayer(\n",
       "        (attention): AttentionLayer(\n",
       "          (inner_attention): ProbAttention(\n",
       "            (dropout): Dropout(p=0.05, inplace=False)\n",
       "          )\n",
       "          (query_projection): Linear(in_features=512, out_features=512, bias=True)\n",
       "          (key_projection): Linear(in_features=512, out_features=512, bias=True)\n",
       "          (value_projection): Linear(in_features=512, out_features=512, bias=True)\n",
       "          (out_projection): Linear(in_features=512, out_features=512, bias=True)\n",
       "        )\n",
       "        (conv1): Conv1d(512, 2048, kernel_size=(1,), stride=(1,))\n",
       "        (conv2): Conv1d(2048, 512, kernel_size=(1,), stride=(1,))\n",
       "        (norm1): LayerNorm((512,), eps=1e-05, elementwise_affine=True)\n",
       "        (norm2): LayerNorm((512,), eps=1e-05, elementwise_affine=True)\n",
       "        (dropout): Dropout(p=0.05, inplace=False)\n",
       "      )\n",
       "    )\n",
       "    (conv_layers): ModuleList(\n",
       "      (0): ConvLayer(\n",
       "        (downConv): Conv1d(512, 512, kernel_size=(3,), stride=(1,), padding=(1,), padding_mode=circular)\n",
       "        (norm): BatchNorm1d(512, eps=1e-05, momentum=0.1, affine=True, track_running_stats=True)\n",
       "        (activation): ELU(alpha=1.0)\n",
       "        (maxPool): MaxPool1d(kernel_size=3, stride=2, padding=1, dilation=1, ceil_mode=False)\n",
       "      )\n",
       "    )\n",
       "    (norm): LayerNorm((512,), eps=1e-05, elementwise_affine=True)\n",
       "  )\n",
       "  (decoder): Decoder(\n",
       "    (layers): ModuleList(\n",
       "      (0): DecoderLayer(\n",
       "        (self_attention): AttentionLayer(\n",
       "          (inner_attention): ProbAttention(\n",
       "            (dropout): Dropout(p=0.05, inplace=False)\n",
       "          )\n",
       "          (query_projection): Linear(in_features=512, out_features=512, bias=True)\n",
       "          (key_projection): Linear(in_features=512, out_features=512, bias=True)\n",
       "          (value_projection): Linear(in_features=512, out_features=512, bias=True)\n",
       "          (out_projection): Linear(in_features=512, out_features=512, bias=True)\n",
       "        )\n",
       "        (cross_attention): AttentionLayer(\n",
       "          (inner_attention): FullAttention(\n",
       "            (dropout): Dropout(p=0.05, inplace=False)\n",
       "          )\n",
       "          (query_projection): Linear(in_features=512, out_features=512, bias=True)\n",
       "          (key_projection): Linear(in_features=512, out_features=512, bias=True)\n",
       "          (value_projection): Linear(in_features=512, out_features=512, bias=True)\n",
       "          (out_projection): Linear(in_features=512, out_features=512, bias=True)\n",
       "        )\n",
       "        (conv1): Conv1d(512, 2048, kernel_size=(1,), stride=(1,))\n",
       "        (conv2): Conv1d(2048, 512, kernel_size=(1,), stride=(1,))\n",
       "        (norm1): LayerNorm((512,), eps=1e-05, elementwise_affine=True)\n",
       "        (norm2): LayerNorm((512,), eps=1e-05, elementwise_affine=True)\n",
       "        (norm3): LayerNorm((512,), eps=1e-05, elementwise_affine=True)\n",
       "        (dropout): Dropout(p=0.05, inplace=False)\n",
       "      )\n",
       "    )\n",
       "    (norm): LayerNorm((512,), eps=1e-05, elementwise_affine=True)\n",
       "  )\n",
       "  (projection): Linear(in_features=512, out_features=7, bias=True)\n",
       ")"
      ]
     },
     "execution_count": 34,
     "metadata": {},
     "output_type": "execute_result"
    }
   ],
   "source": [
    "Exp = Exp_Informer\n",
    "exp = Exp(args)\n",
    "exp.train(setting)"
   ]
  },
  {
   "cell_type": "markdown",
   "metadata": {},
   "source": [
    "### Testing"
   ]
  },
  {
   "cell_type": "code",
   "execution_count": 35,
   "metadata": {},
   "outputs": [
    {
     "name": "stdout",
     "output_type": "stream",
     "text": [
      "test 2785\n",
      "test shape: (87, 32, 96, 7) (87, 32, 96, 7)\n",
      "test shape: (2784, 96, 7) (2784, 96, 7)\n",
      "mse:3.0697035789489746, mae:1.5131016969680786\n"
     ]
    }
   ],
   "source": [
    "exp.test(setting)\n",
    "torch.cuda.empty_cache()"
   ]
  },
  {
   "cell_type": "markdown",
   "metadata": {},
   "source": [
    "---\n",
    "## Trail 2: Informer, Dataset:ETTh2,  Metric: 192\n",
    "### Set hyperparameters\n",
    "Set some parameters (Args) for the our experiment like dictionary\n"
   ]
  },
  {
   "cell_type": "code",
   "execution_count": 22,
   "metadata": {
    "colab": {
     "base_uri": "https://localhost:8080/"
    },
    "id": "ywY-umrw-mHO",
    "outputId": "9b2e2e8e-7025-46e6-e2d7-2d8c9ceeb381"
   },
   "outputs": [
    {
     "name": "stdout",
     "output_type": "stream",
     "text": [
      "Hyperparameter Combination of informer_train_on_ETTh2_192:\n",
      "\n",
      "{'train_only': True, 'model': 'informer', 'use_multi_gpu': False, 'use_gpu': True, 'learning_rate': 0.005, 'pred_len': 192, 'label_len': 48, 'use_amp': False, 'output_attention': False, 'features': 'M', 'checkpoints': './Checkpoints/Informer_checkpoints', 'patience': 3, 'train_epochs': 6, 'freq': 'h', 'seq_len': 336, 'data': 'ETTh2', 'root_path': './Datasets/', 'data_path': 'ETTh2.csv', 'target': 'OT', 'enc_in': 7, 'dec_in': 7, 'c_out': 7, 'factor': 5, 'd_model': 512, 'n_heads': 8, 'e_layers': 2, 'd_layers': 1, 'd_ff': 2048, 'dropout': 0.05, 'attn': 'prob', 'embed': 'timeF', 'activation': 'gelu', 'distil': True, 'mix': True, 'padding': 0, 'batch_size': 32, 'loss': 'mse', 'lradj': 'type1', 'num_workers': 0, 'itr': 1, 'des': 'exp', 'gpu': 0, 'devices': '0,1,2,3'}\n"
     ]
    }
   ],
   "source": [
    "args.pred_len = 192\n",
    "\n",
    "setting=f'{args.model}_train_on_{args.data}_{args.pred_len}'\n",
    "print(f\"Hyperparameter Combination of {setting}:\\n\") \n",
    "print(args)"
   ]
  },
  {
   "cell_type": "markdown",
   "metadata": {},
   "source": [
    "### Training"
   ]
  },
  {
   "cell_type": "code",
   "execution_count": 23,
   "metadata": {
    "collapsed": true,
    "jupyter": {
     "outputs_hidden": true
    }
   },
   "outputs": [
    {
     "name": "stdout",
     "output_type": "stream",
     "text": [
      "Use GPU: cuda:0\n",
      "train 8113\n",
      "val 2689\n",
      "test 2689\n",
      "\titers: 100, epoch: 1 | loss: 0.6089929\n",
      "\tspeed: 0.8469s/iter; left time: 1201.7064s\n",
      "\titers: 200, epoch: 1 | loss: 1.2119889\n",
      "\tspeed: 0.7171s/iter; left time: 945.8377s\n",
      "Epoch: 1 cost time: 204.3898983001709\n",
      "Epoch: 1, Steps: 253 | Train Loss: 0.8617339 Vali Loss: 1.2486205 Test Loss: 3.5046735\n",
      "Validation loss decreased (inf --> 1.248621).  Saving model ...\n",
      "Updating learning rate to 0.005\n",
      "\titers: 100, epoch: 2 | loss: 0.5700266\n",
      "\tspeed: 3.0651s/iter; left time: 3573.8670s\n",
      "\titers: 200, epoch: 2 | loss: 0.6645886\n",
      "\tspeed: 0.8660s/iter; left time: 923.1961s\n",
      "Epoch: 2 cost time: 230.28271293640137\n",
      "Epoch: 2, Steps: 253 | Train Loss: 0.5419298 Vali Loss: 1.0950819 Test Loss: 3.5825458\n",
      "Validation loss decreased (1.248621 --> 1.095082).  Saving model ...\n",
      "Updating learning rate to 0.0025\n",
      "\titers: 100, epoch: 3 | loss: 0.5400130\n",
      "\tspeed: 3.3950s/iter; left time: 3099.6405s\n",
      "\titers: 200, epoch: 3 | loss: 0.5701660\n",
      "\tspeed: 1.0249s/iter; left time: 833.2639s\n",
      "Epoch: 3 cost time: 256.3190052509308\n",
      "Epoch: 3, Steps: 253 | Train Loss: 0.4314694 Vali Loss: 0.9700274 Test Loss: 3.8575521\n",
      "Validation loss decreased (1.095082 --> 0.970027).  Saving model ...\n",
      "Updating learning rate to 0.00125\n",
      "\titers: 100, epoch: 4 | loss: 0.3065383\n",
      "\tspeed: 3.2430s/iter; left time: 2140.3539s\n",
      "\titers: 200, epoch: 4 | loss: 0.3923787\n",
      "\tspeed: 0.9241s/iter; left time: 517.4693s\n",
      "Epoch: 4 cost time: 232.7201235294342\n",
      "Epoch: 4, Steps: 253 | Train Loss: 0.3838891 Vali Loss: 0.8781940 Test Loss: 2.8822196\n",
      "Validation loss decreased (0.970027 --> 0.878194).  Saving model ...\n",
      "Updating learning rate to 0.000625\n",
      "\titers: 100, epoch: 5 | loss: 0.3126884\n",
      "\tspeed: 3.2369s/iter; left time: 1317.4171s\n",
      "\titers: 200, epoch: 5 | loss: 0.2475125\n",
      "\tspeed: 1.0201s/iter; left time: 313.1818s\n",
      "Epoch: 5 cost time: 255.7203447818756\n",
      "Epoch: 5, Steps: 253 | Train Loss: 0.3504855 Vali Loss: 0.9077133 Test Loss: 3.0735354\n",
      "EarlyStopping counter: 1 out of 3\n",
      "Updating learning rate to 0.0003125\n",
      "\titers: 100, epoch: 6 | loss: 0.3168334\n",
      "\tspeed: 3.3878s/iter; left time: 521.7246s\n",
      "\titers: 200, epoch: 6 | loss: 0.2675833\n",
      "\tspeed: 0.9040s/iter; left time: 48.8160s\n",
      "Epoch: 6 cost time: 239.3126425743103\n",
      "Epoch: 6, Steps: 253 | Train Loss: 0.3326364 Vali Loss: 0.9335291 Test Loss: 3.2535031\n",
      "EarlyStopping counter: 2 out of 3\n",
      "Updating learning rate to 0.00015625\n"
     ]
    },
    {
     "data": {
      "text/plain": [
       "Informer(\n",
       "  (enc_embedding): DataEmbedding(\n",
       "    (value_embedding): TokenEmbedding(\n",
       "      (tokenConv): Conv1d(7, 512, kernel_size=(3,), stride=(1,), padding=(1,), padding_mode=circular)\n",
       "    )\n",
       "    (position_embedding): PositionalEmbedding()\n",
       "    (temporal_embedding): TimeFeatureEmbedding(\n",
       "      (embed): Linear(in_features=4, out_features=512, bias=True)\n",
       "    )\n",
       "    (dropout): Dropout(p=0.05, inplace=False)\n",
       "  )\n",
       "  (dec_embedding): DataEmbedding(\n",
       "    (value_embedding): TokenEmbedding(\n",
       "      (tokenConv): Conv1d(7, 512, kernel_size=(3,), stride=(1,), padding=(1,), padding_mode=circular)\n",
       "    )\n",
       "    (position_embedding): PositionalEmbedding()\n",
       "    (temporal_embedding): TimeFeatureEmbedding(\n",
       "      (embed): Linear(in_features=4, out_features=512, bias=True)\n",
       "    )\n",
       "    (dropout): Dropout(p=0.05, inplace=False)\n",
       "  )\n",
       "  (encoder): Encoder(\n",
       "    (attn_layers): ModuleList(\n",
       "      (0): EncoderLayer(\n",
       "        (attention): AttentionLayer(\n",
       "          (inner_attention): ProbAttention(\n",
       "            (dropout): Dropout(p=0.05, inplace=False)\n",
       "          )\n",
       "          (query_projection): Linear(in_features=512, out_features=512, bias=True)\n",
       "          (key_projection): Linear(in_features=512, out_features=512, bias=True)\n",
       "          (value_projection): Linear(in_features=512, out_features=512, bias=True)\n",
       "          (out_projection): Linear(in_features=512, out_features=512, bias=True)\n",
       "        )\n",
       "        (conv1): Conv1d(512, 2048, kernel_size=(1,), stride=(1,))\n",
       "        (conv2): Conv1d(2048, 512, kernel_size=(1,), stride=(1,))\n",
       "        (norm1): LayerNorm((512,), eps=1e-05, elementwise_affine=True)\n",
       "        (norm2): LayerNorm((512,), eps=1e-05, elementwise_affine=True)\n",
       "        (dropout): Dropout(p=0.05, inplace=False)\n",
       "      )\n",
       "      (1): EncoderLayer(\n",
       "        (attention): AttentionLayer(\n",
       "          (inner_attention): ProbAttention(\n",
       "            (dropout): Dropout(p=0.05, inplace=False)\n",
       "          )\n",
       "          (query_projection): Linear(in_features=512, out_features=512, bias=True)\n",
       "          (key_projection): Linear(in_features=512, out_features=512, bias=True)\n",
       "          (value_projection): Linear(in_features=512, out_features=512, bias=True)\n",
       "          (out_projection): Linear(in_features=512, out_features=512, bias=True)\n",
       "        )\n",
       "        (conv1): Conv1d(512, 2048, kernel_size=(1,), stride=(1,))\n",
       "        (conv2): Conv1d(2048, 512, kernel_size=(1,), stride=(1,))\n",
       "        (norm1): LayerNorm((512,), eps=1e-05, elementwise_affine=True)\n",
       "        (norm2): LayerNorm((512,), eps=1e-05, elementwise_affine=True)\n",
       "        (dropout): Dropout(p=0.05, inplace=False)\n",
       "      )\n",
       "    )\n",
       "    (conv_layers): ModuleList(\n",
       "      (0): ConvLayer(\n",
       "        (downConv): Conv1d(512, 512, kernel_size=(3,), stride=(1,), padding=(1,), padding_mode=circular)\n",
       "        (norm): BatchNorm1d(512, eps=1e-05, momentum=0.1, affine=True, track_running_stats=True)\n",
       "        (activation): ELU(alpha=1.0)\n",
       "        (maxPool): MaxPool1d(kernel_size=3, stride=2, padding=1, dilation=1, ceil_mode=False)\n",
       "      )\n",
       "    )\n",
       "    (norm): LayerNorm((512,), eps=1e-05, elementwise_affine=True)\n",
       "  )\n",
       "  (decoder): Decoder(\n",
       "    (layers): ModuleList(\n",
       "      (0): DecoderLayer(\n",
       "        (self_attention): AttentionLayer(\n",
       "          (inner_attention): ProbAttention(\n",
       "            (dropout): Dropout(p=0.05, inplace=False)\n",
       "          )\n",
       "          (query_projection): Linear(in_features=512, out_features=512, bias=True)\n",
       "          (key_projection): Linear(in_features=512, out_features=512, bias=True)\n",
       "          (value_projection): Linear(in_features=512, out_features=512, bias=True)\n",
       "          (out_projection): Linear(in_features=512, out_features=512, bias=True)\n",
       "        )\n",
       "        (cross_attention): AttentionLayer(\n",
       "          (inner_attention): FullAttention(\n",
       "            (dropout): Dropout(p=0.05, inplace=False)\n",
       "          )\n",
       "          (query_projection): Linear(in_features=512, out_features=512, bias=True)\n",
       "          (key_projection): Linear(in_features=512, out_features=512, bias=True)\n",
       "          (value_projection): Linear(in_features=512, out_features=512, bias=True)\n",
       "          (out_projection): Linear(in_features=512, out_features=512, bias=True)\n",
       "        )\n",
       "        (conv1): Conv1d(512, 2048, kernel_size=(1,), stride=(1,))\n",
       "        (conv2): Conv1d(2048, 512, kernel_size=(1,), stride=(1,))\n",
       "        (norm1): LayerNorm((512,), eps=1e-05, elementwise_affine=True)\n",
       "        (norm2): LayerNorm((512,), eps=1e-05, elementwise_affine=True)\n",
       "        (norm3): LayerNorm((512,), eps=1e-05, elementwise_affine=True)\n",
       "        (dropout): Dropout(p=0.05, inplace=False)\n",
       "      )\n",
       "    )\n",
       "    (norm): LayerNorm((512,), eps=1e-05, elementwise_affine=True)\n",
       "  )\n",
       "  (projection): Linear(in_features=512, out_features=7, bias=True)\n",
       ")"
      ]
     },
     "execution_count": 23,
     "metadata": {},
     "output_type": "execute_result"
    }
   ],
   "source": [
    "Exp = Exp_Informer\n",
    "exp = Exp(args)\n",
    "exp.train(setting)"
   ]
  },
  {
   "cell_type": "markdown",
   "metadata": {},
   "source": [
    "### Testing"
   ]
  },
  {
   "cell_type": "code",
   "execution_count": 24,
   "metadata": {},
   "outputs": [
    {
     "name": "stdout",
     "output_type": "stream",
     "text": [
      "test 2689\n",
      "test shape: (84, 32, 192, 7) (84, 32, 192, 7)\n",
      "test shape: (2688, 192, 7) (2688, 192, 7)\n",
      "mse:2.880011558532715, mae:1.3103543519973755\n"
     ]
    }
   ],
   "source": [
    "exp.test(setting)\n",
    "torch.cuda.empty_cache()"
   ]
  },
  {
   "cell_type": "markdown",
   "metadata": {},
   "source": [
    "---\n",
    "## Trail 3: Informer, Dataset:ETTh2,  Metric: 336\n",
    "### Set hyperparameters\n",
    "Set some parameters (Args) for the our experiment like dictionary\n"
   ]
  },
  {
   "cell_type": "code",
   "execution_count": 25,
   "metadata": {
    "colab": {
     "base_uri": "https://localhost:8080/"
    },
    "id": "ywY-umrw-mHO",
    "outputId": "9b2e2e8e-7025-46e6-e2d7-2d8c9ceeb381"
   },
   "outputs": [
    {
     "name": "stdout",
     "output_type": "stream",
     "text": [
      "Hyperparameter Combination of informer_train_on_ETTh2_336:\n",
      "\n",
      "{'train_only': True, 'model': 'informer', 'use_multi_gpu': False, 'use_gpu': True, 'learning_rate': 0.005, 'pred_len': 336, 'label_len': 48, 'use_amp': False, 'output_attention': False, 'features': 'M', 'checkpoints': './Checkpoints/Informer_checkpoints', 'patience': 3, 'train_epochs': 6, 'freq': 'h', 'seq_len': 336, 'data': 'ETTh2', 'root_path': './Datasets/', 'data_path': 'ETTh2.csv', 'target': 'OT', 'enc_in': 7, 'dec_in': 7, 'c_out': 7, 'factor': 5, 'd_model': 512, 'n_heads': 8, 'e_layers': 2, 'd_layers': 1, 'd_ff': 2048, 'dropout': 0.05, 'attn': 'prob', 'embed': 'timeF', 'activation': 'gelu', 'distil': True, 'mix': True, 'padding': 0, 'batch_size': 32, 'loss': 'mse', 'lradj': 'type1', 'num_workers': 0, 'itr': 1, 'des': 'exp', 'gpu': 0, 'devices': '0,1,2,3'}\n"
     ]
    }
   ],
   "source": [
    "args.pred_len = 336\n",
    "\n",
    "setting=f'{args.model}_train_on_{args.data}_{args.pred_len}'\n",
    "print(f\"Hyperparameter Combination of {setting}:\\n\") \n",
    "print(args)"
   ]
  },
  {
   "cell_type": "markdown",
   "metadata": {},
   "source": [
    "### Training"
   ]
  },
  {
   "cell_type": "code",
   "execution_count": 26,
   "metadata": {
    "collapsed": true,
    "jupyter": {
     "outputs_hidden": true
    }
   },
   "outputs": [
    {
     "name": "stdout",
     "output_type": "stream",
     "text": [
      "Use GPU: cuda:0\n",
      "train 7969\n",
      "val 2545\n",
      "test 2545\n",
      "\titers: 100, epoch: 1 | loss: 0.5402870\n",
      "\tspeed: 1.1320s/iter; left time: 1579.1991s\n",
      "\titers: 200, epoch: 1 | loss: 0.5972620\n",
      "\tspeed: 1.1450s/iter; left time: 1482.7913s\n",
      "Epoch: 1 cost time: 284.31143951416016\n",
      "Epoch: 1, Steps: 249 | Train Loss: 0.9052825 Vali Loss: 1.3888043 Test Loss: 3.7494233\n",
      "Validation loss decreased (inf --> 1.388804).  Saving model ...\n",
      "Updating learning rate to 0.005\n",
      "\titers: 100, epoch: 2 | loss: 0.6369692\n",
      "\tspeed: 3.6650s/iter; left time: 4200.1422s\n",
      "\titers: 200, epoch: 2 | loss: 0.3714315\n",
      "\tspeed: 1.0210s/iter; left time: 1067.9481s\n",
      "Epoch: 2 cost time: 267.82186365127563\n",
      "Epoch: 2, Steps: 249 | Train Loss: 0.5757965 Vali Loss: 1.5970954 Test Loss: 3.1241961\n",
      "EarlyStopping counter: 1 out of 3\n",
      "Updating learning rate to 0.0025\n",
      "\titers: 100, epoch: 3 | loss: 0.4219878\n",
      "\tspeed: 3.3119s/iter; left time: 2970.7852s\n",
      "\titers: 200, epoch: 3 | loss: 0.5894662\n",
      "\tspeed: 1.1511s/iter; left time: 917.4084s\n",
      "Epoch: 3 cost time: 277.3994801044464\n",
      "Epoch: 3, Steps: 249 | Train Loss: 0.5222492 Vali Loss: 1.7874320 Test Loss: 3.9908910\n",
      "EarlyStopping counter: 2 out of 3\n",
      "Updating learning rate to 0.00125\n",
      "\titers: 100, epoch: 4 | loss: 0.6356658\n",
      "\tspeed: 3.6481s/iter; left time: 2363.9838s\n",
      "\titers: 200, epoch: 4 | loss: 0.3459423\n",
      "\tspeed: 1.0758s/iter; left time: 589.5314s\n",
      "Epoch: 4 cost time: 272.99559593200684\n",
      "Epoch: 4, Steps: 249 | Train Loss: 0.4887253 Vali Loss: 1.6058657 Test Loss: 3.2002833\n",
      "EarlyStopping counter: 3 out of 3\n",
      "Early stopping\n"
     ]
    },
    {
     "data": {
      "text/plain": [
       "Informer(\n",
       "  (enc_embedding): DataEmbedding(\n",
       "    (value_embedding): TokenEmbedding(\n",
       "      (tokenConv): Conv1d(7, 512, kernel_size=(3,), stride=(1,), padding=(1,), padding_mode=circular)\n",
       "    )\n",
       "    (position_embedding): PositionalEmbedding()\n",
       "    (temporal_embedding): TimeFeatureEmbedding(\n",
       "      (embed): Linear(in_features=4, out_features=512, bias=True)\n",
       "    )\n",
       "    (dropout): Dropout(p=0.05, inplace=False)\n",
       "  )\n",
       "  (dec_embedding): DataEmbedding(\n",
       "    (value_embedding): TokenEmbedding(\n",
       "      (tokenConv): Conv1d(7, 512, kernel_size=(3,), stride=(1,), padding=(1,), padding_mode=circular)\n",
       "    )\n",
       "    (position_embedding): PositionalEmbedding()\n",
       "    (temporal_embedding): TimeFeatureEmbedding(\n",
       "      (embed): Linear(in_features=4, out_features=512, bias=True)\n",
       "    )\n",
       "    (dropout): Dropout(p=0.05, inplace=False)\n",
       "  )\n",
       "  (encoder): Encoder(\n",
       "    (attn_layers): ModuleList(\n",
       "      (0): EncoderLayer(\n",
       "        (attention): AttentionLayer(\n",
       "          (inner_attention): ProbAttention(\n",
       "            (dropout): Dropout(p=0.05, inplace=False)\n",
       "          )\n",
       "          (query_projection): Linear(in_features=512, out_features=512, bias=True)\n",
       "          (key_projection): Linear(in_features=512, out_features=512, bias=True)\n",
       "          (value_projection): Linear(in_features=512, out_features=512, bias=True)\n",
       "          (out_projection): Linear(in_features=512, out_features=512, bias=True)\n",
       "        )\n",
       "        (conv1): Conv1d(512, 2048, kernel_size=(1,), stride=(1,))\n",
       "        (conv2): Conv1d(2048, 512, kernel_size=(1,), stride=(1,))\n",
       "        (norm1): LayerNorm((512,), eps=1e-05, elementwise_affine=True)\n",
       "        (norm2): LayerNorm((512,), eps=1e-05, elementwise_affine=True)\n",
       "        (dropout): Dropout(p=0.05, inplace=False)\n",
       "      )\n",
       "      (1): EncoderLayer(\n",
       "        (attention): AttentionLayer(\n",
       "          (inner_attention): ProbAttention(\n",
       "            (dropout): Dropout(p=0.05, inplace=False)\n",
       "          )\n",
       "          (query_projection): Linear(in_features=512, out_features=512, bias=True)\n",
       "          (key_projection): Linear(in_features=512, out_features=512, bias=True)\n",
       "          (value_projection): Linear(in_features=512, out_features=512, bias=True)\n",
       "          (out_projection): Linear(in_features=512, out_features=512, bias=True)\n",
       "        )\n",
       "        (conv1): Conv1d(512, 2048, kernel_size=(1,), stride=(1,))\n",
       "        (conv2): Conv1d(2048, 512, kernel_size=(1,), stride=(1,))\n",
       "        (norm1): LayerNorm((512,), eps=1e-05, elementwise_affine=True)\n",
       "        (norm2): LayerNorm((512,), eps=1e-05, elementwise_affine=True)\n",
       "        (dropout): Dropout(p=0.05, inplace=False)\n",
       "      )\n",
       "    )\n",
       "    (conv_layers): ModuleList(\n",
       "      (0): ConvLayer(\n",
       "        (downConv): Conv1d(512, 512, kernel_size=(3,), stride=(1,), padding=(1,), padding_mode=circular)\n",
       "        (norm): BatchNorm1d(512, eps=1e-05, momentum=0.1, affine=True, track_running_stats=True)\n",
       "        (activation): ELU(alpha=1.0)\n",
       "        (maxPool): MaxPool1d(kernel_size=3, stride=2, padding=1, dilation=1, ceil_mode=False)\n",
       "      )\n",
       "    )\n",
       "    (norm): LayerNorm((512,), eps=1e-05, elementwise_affine=True)\n",
       "  )\n",
       "  (decoder): Decoder(\n",
       "    (layers): ModuleList(\n",
       "      (0): DecoderLayer(\n",
       "        (self_attention): AttentionLayer(\n",
       "          (inner_attention): ProbAttention(\n",
       "            (dropout): Dropout(p=0.05, inplace=False)\n",
       "          )\n",
       "          (query_projection): Linear(in_features=512, out_features=512, bias=True)\n",
       "          (key_projection): Linear(in_features=512, out_features=512, bias=True)\n",
       "          (value_projection): Linear(in_features=512, out_features=512, bias=True)\n",
       "          (out_projection): Linear(in_features=512, out_features=512, bias=True)\n",
       "        )\n",
       "        (cross_attention): AttentionLayer(\n",
       "          (inner_attention): FullAttention(\n",
       "            (dropout): Dropout(p=0.05, inplace=False)\n",
       "          )\n",
       "          (query_projection): Linear(in_features=512, out_features=512, bias=True)\n",
       "          (key_projection): Linear(in_features=512, out_features=512, bias=True)\n",
       "          (value_projection): Linear(in_features=512, out_features=512, bias=True)\n",
       "          (out_projection): Linear(in_features=512, out_features=512, bias=True)\n",
       "        )\n",
       "        (conv1): Conv1d(512, 2048, kernel_size=(1,), stride=(1,))\n",
       "        (conv2): Conv1d(2048, 512, kernel_size=(1,), stride=(1,))\n",
       "        (norm1): LayerNorm((512,), eps=1e-05, elementwise_affine=True)\n",
       "        (norm2): LayerNorm((512,), eps=1e-05, elementwise_affine=True)\n",
       "        (norm3): LayerNorm((512,), eps=1e-05, elementwise_affine=True)\n",
       "        (dropout): Dropout(p=0.05, inplace=False)\n",
       "      )\n",
       "    )\n",
       "    (norm): LayerNorm((512,), eps=1e-05, elementwise_affine=True)\n",
       "  )\n",
       "  (projection): Linear(in_features=512, out_features=7, bias=True)\n",
       ")"
      ]
     },
     "execution_count": 26,
     "metadata": {},
     "output_type": "execute_result"
    }
   ],
   "source": [
    "Exp = Exp_Informer\n",
    "exp = Exp(args)\n",
    "exp.train(setting)"
   ]
  },
  {
   "cell_type": "markdown",
   "metadata": {},
   "source": [
    "### Testing"
   ]
  },
  {
   "cell_type": "code",
   "execution_count": 27,
   "metadata": {},
   "outputs": [
    {
     "name": "stdout",
     "output_type": "stream",
     "text": [
      "test 2545\n",
      "test shape: (79, 32, 336, 7) (79, 32, 336, 7)\n",
      "test shape: (2528, 336, 7) (2528, 336, 7)\n",
      "mse:3.749805212020874, mae:1.525969386100769\n"
     ]
    }
   ],
   "source": [
    "exp.test(setting)\n",
    "torch.cuda.empty_cache()"
   ]
  },
  {
   "cell_type": "markdown",
   "metadata": {},
   "source": [
    "---\n",
    "## Trail 4: Informer, Dataset:ETTh2,  Metric: 720\n",
    "### Set hyperparameters\n",
    "Set some parameters (Args) for the our experiment like dictionary\n"
   ]
  },
  {
   "cell_type": "code",
   "execution_count": 28,
   "metadata": {
    "colab": {
     "base_uri": "https://localhost:8080/"
    },
    "id": "ywY-umrw-mHO",
    "outputId": "9b2e2e8e-7025-46e6-e2d7-2d8c9ceeb381"
   },
   "outputs": [
    {
     "name": "stdout",
     "output_type": "stream",
     "text": [
      "Hyperparameter Combination of informer_train_on_ETTh2_720:\n",
      "\n",
      "{'train_only': True, 'model': 'informer', 'use_multi_gpu': False, 'use_gpu': True, 'learning_rate': 0.005, 'pred_len': 720, 'label_len': 48, 'use_amp': False, 'output_attention': False, 'features': 'M', 'checkpoints': './Checkpoints/Informer_checkpoints', 'patience': 3, 'train_epochs': 6, 'freq': 'h', 'seq_len': 336, 'data': 'ETTh2', 'root_path': './Datasets/', 'data_path': 'ETTh2.csv', 'target': 'OT', 'enc_in': 7, 'dec_in': 7, 'c_out': 7, 'factor': 5, 'd_model': 512, 'n_heads': 8, 'e_layers': 2, 'd_layers': 1, 'd_ff': 2048, 'dropout': 0.05, 'attn': 'prob', 'embed': 'timeF', 'activation': 'gelu', 'distil': True, 'mix': True, 'padding': 0, 'batch_size': 32, 'loss': 'mse', 'lradj': 'type1', 'num_workers': 0, 'itr': 1, 'des': 'exp', 'gpu': 0, 'devices': '0,1,2,3'}\n"
     ]
    }
   ],
   "source": [
    "args.pred_len = 720\n",
    "\n",
    "setting=f'{args.model}_train_on_{args.data}_{args.pred_len}'\n",
    "print(f\"Hyperparameter Combination of {setting}:\\n\") \n",
    "print(args)"
   ]
  },
  {
   "cell_type": "markdown",
   "metadata": {},
   "source": [
    "### Training"
   ]
  },
  {
   "cell_type": "code",
   "execution_count": 29,
   "metadata": {
    "collapsed": true,
    "jupyter": {
     "outputs_hidden": true
    }
   },
   "outputs": [
    {
     "name": "stdout",
     "output_type": "stream",
     "text": [
      "Use GPU: cuda:0\n",
      "train 7585\n",
      "val 2161\n",
      "test 2161\n",
      "\titers: 100, epoch: 1 | loss: 0.5537980\n",
      "\tspeed: 1.1149s/iter; left time: 1474.9772s\n",
      "\titers: 200, epoch: 1 | loss: 0.9389343\n",
      "\tspeed: 1.2030s/iter; left time: 1471.2666s\n",
      "Epoch: 1 cost time: 276.48895287513733\n",
      "Epoch: 1, Steps: 237 | Train Loss: 1.0066999 Vali Loss: 1.4152892 Test Loss: 2.7044785\n",
      "Validation loss decreased (inf --> 1.415289).  Saving model ...\n",
      "Updating learning rate to 0.005\n",
      "\titers: 100, epoch: 2 | loss: 0.5690694\n",
      "\tspeed: 3.3880s/iter; left time: 3679.3618s\n",
      "\titers: 200, epoch: 2 | loss: 0.6761795\n",
      "\tspeed: 1.1359s/iter; left time: 1119.9792s\n",
      "Epoch: 2 cost time: 275.7062668800354\n",
      "Epoch: 2, Steps: 237 | Train Loss: 0.6774591 Vali Loss: 1.5918276 Test Loss: 3.6423333\n",
      "EarlyStopping counter: 1 out of 3\n",
      "Updating learning rate to 0.0025\n",
      "\titers: 100, epoch: 3 | loss: 0.6716884\n",
      "\tspeed: 3.0261s/iter; left time: 2569.1395s\n",
      "\titers: 200, epoch: 3 | loss: 0.5078760\n",
      "\tspeed: 1.2169s/iter; left time: 911.4539s\n",
      "Epoch: 3 cost time: 275.7026722431183\n",
      "Epoch: 3, Steps: 237 | Train Loss: 0.6540127 Vali Loss: 1.0604728 Test Loss: 2.8195267\n",
      "Validation loss decreased (1.415289 --> 1.060473).  Saving model ...\n",
      "Updating learning rate to 0.00125\n",
      "\titers: 100, epoch: 4 | loss: 0.4558735\n",
      "\tspeed: 3.3520s/iter; left time: 2051.4327s\n",
      "\titers: 200, epoch: 4 | loss: 0.8063471\n",
      "\tspeed: 1.1300s/iter; left time: 578.5743s\n",
      "Epoch: 4 cost time: 273.4060113430023\n",
      "Epoch: 4, Steps: 237 | Train Loss: 0.6112197 Vali Loss: 1.0271597 Test Loss: 3.6948261\n",
      "Validation loss decreased (1.060473 --> 1.027160).  Saving model ...\n",
      "Updating learning rate to 0.000625\n",
      "\titers: 100, epoch: 5 | loss: 0.6402623\n",
      "\tspeed: 3.0341s/iter; left time: 1137.8015s\n",
      "\titers: 200, epoch: 5 | loss: 0.4575329\n",
      "\tspeed: 1.2119s/iter; left time: 333.2632s\n",
      "Epoch: 5 cost time: 274.86286330223083\n",
      "Epoch: 5, Steps: 237 | Train Loss: 0.5943436 Vali Loss: 1.2959229 Test Loss: 3.1549048\n",
      "EarlyStopping counter: 1 out of 3\n",
      "Updating learning rate to 0.0003125\n",
      "\titers: 100, epoch: 6 | loss: 0.4973015\n",
      "\tspeed: 3.3411s/iter; left time: 461.0744s\n",
      "\titers: 200, epoch: 6 | loss: 0.6136992\n",
      "\tspeed: 1.1259s/iter; left time: 42.7850s\n",
      "Epoch: 6 cost time: 274.00321412086487\n",
      "Epoch: 6, Steps: 237 | Train Loss: 0.5590818 Vali Loss: 1.2741379 Test Loss: 3.3620570\n",
      "EarlyStopping counter: 2 out of 3\n",
      "Updating learning rate to 0.00015625\n"
     ]
    },
    {
     "data": {
      "text/plain": [
       "Informer(\n",
       "  (enc_embedding): DataEmbedding(\n",
       "    (value_embedding): TokenEmbedding(\n",
       "      (tokenConv): Conv1d(7, 512, kernel_size=(3,), stride=(1,), padding=(1,), padding_mode=circular)\n",
       "    )\n",
       "    (position_embedding): PositionalEmbedding()\n",
       "    (temporal_embedding): TimeFeatureEmbedding(\n",
       "      (embed): Linear(in_features=4, out_features=512, bias=True)\n",
       "    )\n",
       "    (dropout): Dropout(p=0.05, inplace=False)\n",
       "  )\n",
       "  (dec_embedding): DataEmbedding(\n",
       "    (value_embedding): TokenEmbedding(\n",
       "      (tokenConv): Conv1d(7, 512, kernel_size=(3,), stride=(1,), padding=(1,), padding_mode=circular)\n",
       "    )\n",
       "    (position_embedding): PositionalEmbedding()\n",
       "    (temporal_embedding): TimeFeatureEmbedding(\n",
       "      (embed): Linear(in_features=4, out_features=512, bias=True)\n",
       "    )\n",
       "    (dropout): Dropout(p=0.05, inplace=False)\n",
       "  )\n",
       "  (encoder): Encoder(\n",
       "    (attn_layers): ModuleList(\n",
       "      (0): EncoderLayer(\n",
       "        (attention): AttentionLayer(\n",
       "          (inner_attention): ProbAttention(\n",
       "            (dropout): Dropout(p=0.05, inplace=False)\n",
       "          )\n",
       "          (query_projection): Linear(in_features=512, out_features=512, bias=True)\n",
       "          (key_projection): Linear(in_features=512, out_features=512, bias=True)\n",
       "          (value_projection): Linear(in_features=512, out_features=512, bias=True)\n",
       "          (out_projection): Linear(in_features=512, out_features=512, bias=True)\n",
       "        )\n",
       "        (conv1): Conv1d(512, 2048, kernel_size=(1,), stride=(1,))\n",
       "        (conv2): Conv1d(2048, 512, kernel_size=(1,), stride=(1,))\n",
       "        (norm1): LayerNorm((512,), eps=1e-05, elementwise_affine=True)\n",
       "        (norm2): LayerNorm((512,), eps=1e-05, elementwise_affine=True)\n",
       "        (dropout): Dropout(p=0.05, inplace=False)\n",
       "      )\n",
       "      (1): EncoderLayer(\n",
       "        (attention): AttentionLayer(\n",
       "          (inner_attention): ProbAttention(\n",
       "            (dropout): Dropout(p=0.05, inplace=False)\n",
       "          )\n",
       "          (query_projection): Linear(in_features=512, out_features=512, bias=True)\n",
       "          (key_projection): Linear(in_features=512, out_features=512, bias=True)\n",
       "          (value_projection): Linear(in_features=512, out_features=512, bias=True)\n",
       "          (out_projection): Linear(in_features=512, out_features=512, bias=True)\n",
       "        )\n",
       "        (conv1): Conv1d(512, 2048, kernel_size=(1,), stride=(1,))\n",
       "        (conv2): Conv1d(2048, 512, kernel_size=(1,), stride=(1,))\n",
       "        (norm1): LayerNorm((512,), eps=1e-05, elementwise_affine=True)\n",
       "        (norm2): LayerNorm((512,), eps=1e-05, elementwise_affine=True)\n",
       "        (dropout): Dropout(p=0.05, inplace=False)\n",
       "      )\n",
       "    )\n",
       "    (conv_layers): ModuleList(\n",
       "      (0): ConvLayer(\n",
       "        (downConv): Conv1d(512, 512, kernel_size=(3,), stride=(1,), padding=(1,), padding_mode=circular)\n",
       "        (norm): BatchNorm1d(512, eps=1e-05, momentum=0.1, affine=True, track_running_stats=True)\n",
       "        (activation): ELU(alpha=1.0)\n",
       "        (maxPool): MaxPool1d(kernel_size=3, stride=2, padding=1, dilation=1, ceil_mode=False)\n",
       "      )\n",
       "    )\n",
       "    (norm): LayerNorm((512,), eps=1e-05, elementwise_affine=True)\n",
       "  )\n",
       "  (decoder): Decoder(\n",
       "    (layers): ModuleList(\n",
       "      (0): DecoderLayer(\n",
       "        (self_attention): AttentionLayer(\n",
       "          (inner_attention): ProbAttention(\n",
       "            (dropout): Dropout(p=0.05, inplace=False)\n",
       "          )\n",
       "          (query_projection): Linear(in_features=512, out_features=512, bias=True)\n",
       "          (key_projection): Linear(in_features=512, out_features=512, bias=True)\n",
       "          (value_projection): Linear(in_features=512, out_features=512, bias=True)\n",
       "          (out_projection): Linear(in_features=512, out_features=512, bias=True)\n",
       "        )\n",
       "        (cross_attention): AttentionLayer(\n",
       "          (inner_attention): FullAttention(\n",
       "            (dropout): Dropout(p=0.05, inplace=False)\n",
       "          )\n",
       "          (query_projection): Linear(in_features=512, out_features=512, bias=True)\n",
       "          (key_projection): Linear(in_features=512, out_features=512, bias=True)\n",
       "          (value_projection): Linear(in_features=512, out_features=512, bias=True)\n",
       "          (out_projection): Linear(in_features=512, out_features=512, bias=True)\n",
       "        )\n",
       "        (conv1): Conv1d(512, 2048, kernel_size=(1,), stride=(1,))\n",
       "        (conv2): Conv1d(2048, 512, kernel_size=(1,), stride=(1,))\n",
       "        (norm1): LayerNorm((512,), eps=1e-05, elementwise_affine=True)\n",
       "        (norm2): LayerNorm((512,), eps=1e-05, elementwise_affine=True)\n",
       "        (norm3): LayerNorm((512,), eps=1e-05, elementwise_affine=True)\n",
       "        (dropout): Dropout(p=0.05, inplace=False)\n",
       "      )\n",
       "    )\n",
       "    (norm): LayerNorm((512,), eps=1e-05, elementwise_affine=True)\n",
       "  )\n",
       "  (projection): Linear(in_features=512, out_features=7, bias=True)\n",
       ")"
      ]
     },
     "execution_count": 29,
     "metadata": {},
     "output_type": "execute_result"
    }
   ],
   "source": [
    "Exp = Exp_Informer\n",
    "exp = Exp(args)\n",
    "exp.train(setting)"
   ]
  },
  {
   "cell_type": "markdown",
   "metadata": {},
   "source": [
    "### Testing"
   ]
  },
  {
   "cell_type": "code",
   "execution_count": 30,
   "metadata": {},
   "outputs": [
    {
     "name": "stdout",
     "output_type": "stream",
     "text": [
      "test 2161\n",
      "test shape: (67, 32, 720, 7) (67, 32, 720, 7)\n",
      "test shape: (2144, 720, 7) (2144, 720, 7)\n",
      "mse:3.6953768730163574, mae:1.6625542640686035\n"
     ]
    }
   ],
   "source": [
    "exp.test(setting)\n",
    "torch.cuda.empty_cache()"
   ]
  },
  {
   "cell_type": "markdown",
   "metadata": {},
   "source": [
    "---\n",
    "## Compare Results of `ETTh2`with [Zeng · 2022](https://arxiv.org/abs/2205.13504) Paper"
   ]
  },
  {
   "cell_type": "code",
   "execution_count": 13,
   "metadata": {},
   "outputs": [
    {
     "data": {
      "image/png": "[encoded data removed]",
      "text/plain": [
       "<IPython.core.display.Image object>"
      ]
     },
     "execution_count": 13,
     "metadata": {},
     "output_type": "execute_result"
    }
   ],
   "source": [
    "from IPython.display import Image\n",
    "Image(filename=r\"./Images/Informer Results ETTh2.png\")"
   ]
  },
  {
   "cell_type": "markdown",
   "metadata": {},
   "source": [
    "#### **Experiment Results**:\n",
    "Comaparing my results with the paper resulted highlited in the image above.\n",
    "\n",
    "| Seq_len | MSE | MAE |\n",
    "|---|---|---|\n",
    "| 96 | 2.4837021827697754 | 1.15531587600708 |\n",
    "| 192 | 3.5453412532806396 | 1.6633073091506958 |\n",
    "| 336 | 2.984318494796753 | 1.3787071704864502 |\n",
    "| 720 | 3.013077735900879 | 1.4968270063400269 |"
   ]
  },
  {
   "cell_type": "markdown",
   "metadata": {},
   "source": [
    "---\n",
    "# Working on ETTm1 Dataset\n",
    "---"
   ]
  },
  {
   "cell_type": "markdown",
   "metadata": {},
   "source": [
    "## Trail 1: Informer, Dataset:ETTm1,  Metric: 96\n",
    "### Set hyperparameters\n",
    "Set some parameters (Args) for the our experiment like dictionary\n"
   ]
  },
  {
   "cell_type": "code",
   "execution_count": 36,
   "metadata": {
    "colab": {
     "base_uri": "https://localhost:8080/"
    },
    "id": "ywY-umrw-mHO",
    "outputId": "9b2e2e8e-7025-46e6-e2d7-2d8c9ceeb381"
   },
   "outputs": [
    {
     "name": "stdout",
     "output_type": "stream",
     "text": [
      "Hyperparameter Combination of informer_train_on_ETTm1_96:\n",
      "\n",
      "{'train_only': True, 'model': 'informer', 'use_multi_gpu': False, 'use_gpu': True, 'learning_rate': 0.005, 'pred_len': 96, 'label_len': 48, 'use_amp': False, 'output_attention': False, 'features': 'M', 'checkpoints': './Checkpoints/Informer_checkpoints', 'patience': 3, 'train_epochs': 6, 'freq': 'h', 'seq_len': 336, 'data': 'ETTm1', 'root_path': './Datasets/', 'data_path': 'ETTm1.csv', 'target': 'OT', 'enc_in': 7, 'dec_in': 7, 'c_out': 7, 'factor': 5, 'd_model': 512, 'n_heads': 8, 'e_layers': 2, 'd_layers': 1, 'd_ff': 2048, 'dropout': 0.05, 'attn': 'prob', 'embed': 'timeF', 'activation': 'gelu', 'distil': True, 'mix': True, 'padding': 0, 'batch_size': 32, 'loss': 'mse', 'lradj': 'type1', 'num_workers': 0, 'itr': 1, 'des': 'exp', 'gpu': 0, 'devices': '0,1,2,3'}\n"
     ]
    }
   ],
   "source": [
    "args.data = 'ETTm1'            # dataset name\n",
    "args.data_path = 'ETTm1.csv'   # data file\n",
    "args.pred_len = 96\n",
    "\n",
    "setting=f'{args.model}_train_on_{args.data}_{args.pred_len}'\n",
    "print(f\"Hyperparameter Combination of {setting}:\\n\") \n",
    "print(args)"
   ]
  },
  {
   "cell_type": "markdown",
   "metadata": {},
   "source": [
    "### Training"
   ]
  },
  {
   "cell_type": "code",
   "execution_count": 37,
   "metadata": {
    "collapsed": true,
    "jupyter": {
     "outputs_hidden": true
    }
   },
   "outputs": [
    {
     "name": "stdout",
     "output_type": "stream",
     "text": [
      "Use GPU: cuda:0\n",
      "train 34129\n",
      "val 11425\n",
      "test 11425\n",
      "\titers: 100, epoch: 1 | loss: 0.7313402\n",
      "\tspeed: 0.4759s/iter; left time: 2997.0409s\n",
      "\titers: 200, epoch: 1 | loss: 0.7392831\n",
      "\tspeed: 0.4671s/iter; left time: 2894.7514s\n",
      "\titers: 300, epoch: 1 | loss: 0.6794568\n",
      "\tspeed: 0.4229s/iter; left time: 2578.2704s\n",
      "\titers: 400, epoch: 1 | loss: 0.5761884\n",
      "\tspeed: 0.4311s/iter; left time: 2585.1139s\n",
      "\titers: 500, epoch: 1 | loss: 0.4987201\n",
      "\tspeed: 0.4400s/iter; left time: 2594.8342s\n",
      "\titers: 600, epoch: 1 | loss: 0.4276369\n",
      "\tspeed: 0.4388s/iter; left time: 2543.7299s\n",
      "\titers: 700, epoch: 1 | loss: 0.4315258\n",
      "\tspeed: 0.4290s/iter; left time: 2444.2625s\n",
      "\titers: 800, epoch: 1 | loss: 0.4988608\n",
      "\tspeed: 0.4631s/iter; left time: 2591.9711s\n",
      "\titers: 900, epoch: 1 | loss: 0.4401419\n",
      "\tspeed: 0.4719s/iter; left time: 2594.1131s\n",
      "\titers: 1000, epoch: 1 | loss: 0.4795313\n",
      "\tspeed: 0.4791s/iter; left time: 2585.7479s\n",
      "Epoch: 1 cost time: 483.9864149093628\n",
      "Epoch: 1, Steps: 1066 | Train Loss: 0.6156512 Vali Loss: 1.2644562 Test Loss: 1.3085289\n",
      "Validation loss decreased (inf --> 1.264456).  Saving model ...\n",
      "Updating learning rate to 0.005\n",
      "\titers: 100, epoch: 2 | loss: 0.5773525\n",
      "\tspeed: 2.9339s/iter; left time: 15347.4203s\n",
      "\titers: 200, epoch: 2 | loss: 0.4897366\n",
      "\tspeed: 0.4370s/iter; left time: 2242.3630s\n",
      "\titers: 300, epoch: 2 | loss: 0.4828025\n",
      "\tspeed: 0.4300s/iter; left time: 2163.4475s\n",
      "\titers: 400, epoch: 2 | loss: 0.4624742\n",
      "\tspeed: 0.4380s/iter; left time: 2159.9449s\n",
      "\titers: 500, epoch: 2 | loss: 0.3958766\n",
      "\tspeed: 0.4229s/iter; left time: 2042.9534s\n",
      "\titers: 600, epoch: 2 | loss: 0.5155135\n",
      "\tspeed: 0.4520s/iter; left time: 2138.5746s\n",
      "\titers: 700, epoch: 2 | loss: 0.4304801\n",
      "\tspeed: 0.4799s/iter; left time: 2222.4759s\n",
      "\titers: 800, epoch: 2 | loss: 0.4320315\n",
      "\tspeed: 0.4701s/iter; left time: 2130.2467s\n",
      "\titers: 900, epoch: 2 | loss: 0.4689574\n",
      "\tspeed: 0.4759s/iter; left time: 2108.7482s\n",
      "\titers: 1000, epoch: 2 | loss: 0.4912290\n",
      "\tspeed: 0.4641s/iter; left time: 2010.0315s\n",
      "Epoch: 2 cost time: 482.3027775287628\n",
      "Epoch: 2, Steps: 1066 | Train Loss: 0.4691752 Vali Loss: 1.3657352 Test Loss: 1.2088540\n",
      "EarlyStopping counter: 1 out of 3\n",
      "Updating learning rate to 0.0025\n",
      "\titers: 100, epoch: 3 | loss: 0.4826782\n",
      "\tspeed: 2.8738s/iter; left time: 11969.4625s\n",
      "\titers: 200, epoch: 3 | loss: 0.4778429\n",
      "\tspeed: 0.4390s/iter; left time: 1784.6155s\n",
      "\titers: 300, epoch: 3 | loss: 0.3712267\n",
      "\tspeed: 0.4310s/iter; left time: 1708.9374s\n",
      "\titers: 400, epoch: 3 | loss: 0.3833222\n",
      "\tspeed: 0.4560s/iter; left time: 1762.5495s\n",
      "\titers: 500, epoch: 3 | loss: 0.4543913\n",
      "\tspeed: 0.4681s/iter; left time: 1762.4851s\n",
      "\titers: 600, epoch: 3 | loss: 0.4414717\n",
      "\tspeed: 0.4710s/iter; left time: 1726.1981s\n",
      "\titers: 700, epoch: 3 | loss: 0.4696742\n",
      "\tspeed: 0.4700s/iter; left time: 1675.6376s\n",
      "\titers: 800, epoch: 3 | loss: 0.4217996\n",
      "\tspeed: 0.4779s/iter; left time: 1656.0959s\n",
      "\titers: 900, epoch: 3 | loss: 0.3997995\n",
      "\tspeed: 0.4910s/iter; left time: 1652.1227s\n",
      "\titers: 1000, epoch: 3 | loss: 0.4153270\n",
      "\tspeed: 0.4680s/iter; left time: 1528.0017s\n",
      "Epoch: 3 cost time: 491.4888825416565\n",
      "Epoch: 3, Steps: 1066 | Train Loss: 0.4449147 Vali Loss: 1.5261121 Test Loss: 1.2804863\n",
      "EarlyStopping counter: 2 out of 3\n",
      "Updating learning rate to 0.00125\n",
      "\titers: 100, epoch: 4 | loss: 0.4506958\n",
      "\tspeed: 2.7920s/iter; left time: 8652.2985s\n",
      "\titers: 200, epoch: 4 | loss: 0.4659523\n",
      "\tspeed: 0.4659s/iter; left time: 1397.3248s\n",
      "\titers: 300, epoch: 4 | loss: 0.3888484\n",
      "\tspeed: 0.4790s/iter; left time: 1388.7078s\n",
      "\titers: 400, epoch: 4 | loss: 0.3935494\n",
      "\tspeed: 0.4700s/iter; left time: 1315.5993s\n",
      "\titers: 500, epoch: 4 | loss: 0.4400435\n",
      "\tspeed: 0.4761s/iter; left time: 1284.9196s\n",
      "\titers: 600, epoch: 4 | loss: 0.4227337\n",
      "\tspeed: 0.4800s/iter; left time: 1247.5492s\n",
      "\titers: 700, epoch: 4 | loss: 0.4254339\n",
      "\tspeed: 0.4800s/iter; left time: 1199.4546s\n",
      "\titers: 800, epoch: 4 | loss: 0.4251967\n",
      "\tspeed: 0.4569s/iter; left time: 1096.0496s\n",
      "\titers: 900, epoch: 4 | loss: 0.4293867\n",
      "\tspeed: 0.4252s/iter; left time: 977.4906s\n",
      "\titers: 1000, epoch: 4 | loss: 0.4202468\n",
      "\tspeed: 0.4208s/iter; left time: 925.3791s\n",
      "Epoch: 4 cost time: 489.9973545074463\n",
      "Epoch: 4, Steps: 1066 | Train Loss: 0.4174293 Vali Loss: 1.2747091 Test Loss: 1.2464049\n",
      "EarlyStopping counter: 3 out of 3\n",
      "Early stopping\n"
     ]
    },
    {
     "data": {
      "text/plain": [
       "Informer(\n",
       "  (enc_embedding): DataEmbedding(\n",
       "    (value_embedding): TokenEmbedding(\n",
       "      (tokenConv): Conv1d(7, 512, kernel_size=(3,), stride=(1,), padding=(1,), padding_mode=circular)\n",
       "    )\n",
       "    (position_embedding): PositionalEmbedding()\n",
       "    (temporal_embedding): TimeFeatureEmbedding(\n",
       "      (embed): Linear(in_features=4, out_features=512, bias=True)\n",
       "    )\n",
       "    (dropout): Dropout(p=0.05, inplace=False)\n",
       "  )\n",
       "  (dec_embedding): DataEmbedding(\n",
       "    (value_embedding): TokenEmbedding(\n",
       "      (tokenConv): Conv1d(7, 512, kernel_size=(3,), stride=(1,), padding=(1,), padding_mode=circular)\n",
       "    )\n",
       "    (position_embedding): PositionalEmbedding()\n",
       "    (temporal_embedding): TimeFeatureEmbedding(\n",
       "      (embed): Linear(in_features=4, out_features=512, bias=True)\n",
       "    )\n",
       "    (dropout): Dropout(p=0.05, inplace=False)\n",
       "  )\n",
       "  (encoder): Encoder(\n",
       "    (attn_layers): ModuleList(\n",
       "      (0): EncoderLayer(\n",
       "        (attention): AttentionLayer(\n",
       "          (inner_attention): ProbAttention(\n",
       "            (dropout): Dropout(p=0.05, inplace=False)\n",
       "          )\n",
       "          (query_projection): Linear(in_features=512, out_features=512, bias=True)\n",
       "          (key_projection): Linear(in_features=512, out_features=512, bias=True)\n",
       "          (value_projection): Linear(in_features=512, out_features=512, bias=True)\n",
       "          (out_projection): Linear(in_features=512, out_features=512, bias=True)\n",
       "        )\n",
       "        (conv1): Conv1d(512, 2048, kernel_size=(1,), stride=(1,))\n",
       "        (conv2): Conv1d(2048, 512, kernel_size=(1,), stride=(1,))\n",
       "        (norm1): LayerNorm((512,), eps=1e-05, elementwise_affine=True)\n",
       "        (norm2): LayerNorm((512,), eps=1e-05, elementwise_affine=True)\n",
       "        (dropout): Dropout(p=0.05, inplace=False)\n",
       "      )\n",
       "      (1): EncoderLayer(\n",
       "        (attention): AttentionLayer(\n",
       "          (inner_attention): ProbAttention(\n",
       "            (dropout): Dropout(p=0.05, inplace=False)\n",
       "          )\n",
       "          (query_projection): Linear(in_features=512, out_features=512, bias=True)\n",
       "          (key_projection): Linear(in_features=512, out_features=512, bias=True)\n",
       "          (value_projection): Linear(in_features=512, out_features=512, bias=True)\n",
       "          (out_projection): Linear(in_features=512, out_features=512, bias=True)\n",
       "        )\n",
       "        (conv1): Conv1d(512, 2048, kernel_size=(1,), stride=(1,))\n",
       "        (conv2): Conv1d(2048, 512, kernel_size=(1,), stride=(1,))\n",
       "        (norm1): LayerNorm((512,), eps=1e-05, elementwise_affine=True)\n",
       "        (norm2): LayerNorm((512,), eps=1e-05, elementwise_affine=True)\n",
       "        (dropout): Dropout(p=0.05, inplace=False)\n",
       "      )\n",
       "    )\n",
       "    (conv_layers): ModuleList(\n",
       "      (0): ConvLayer(\n",
       "        (downConv): Conv1d(512, 512, kernel_size=(3,), stride=(1,), padding=(1,), padding_mode=circular)\n",
       "        (norm): BatchNorm1d(512, eps=1e-05, momentum=0.1, affine=True, track_running_stats=True)\n",
       "        (activation): ELU(alpha=1.0)\n",
       "        (maxPool): MaxPool1d(kernel_size=3, stride=2, padding=1, dilation=1, ceil_mode=False)\n",
       "      )\n",
       "    )\n",
       "    (norm): LayerNorm((512,), eps=1e-05, elementwise_affine=True)\n",
       "  )\n",
       "  (decoder): Decoder(\n",
       "    (layers): ModuleList(\n",
       "      (0): DecoderLayer(\n",
       "        (self_attention): AttentionLayer(\n",
       "          (inner_attention): ProbAttention(\n",
       "            (dropout): Dropout(p=0.05, inplace=False)\n",
       "          )\n",
       "          (query_projection): Linear(in_features=512, out_features=512, bias=True)\n",
       "          (key_projection): Linear(in_features=512, out_features=512, bias=True)\n",
       "          (value_projection): Linear(in_features=512, out_features=512, bias=True)\n",
       "          (out_projection): Linear(in_features=512, out_features=512, bias=True)\n",
       "        )\n",
       "        (cross_attention): AttentionLayer(\n",
       "          (inner_attention): FullAttention(\n",
       "            (dropout): Dropout(p=0.05, inplace=False)\n",
       "          )\n",
       "          (query_projection): Linear(in_features=512, out_features=512, bias=True)\n",
       "          (key_projection): Linear(in_features=512, out_features=512, bias=True)\n",
       "          (value_projection): Linear(in_features=512, out_features=512, bias=True)\n",
       "          (out_projection): Linear(in_features=512, out_features=512, bias=True)\n",
       "        )\n",
       "        (conv1): Conv1d(512, 2048, kernel_size=(1,), stride=(1,))\n",
       "        (conv2): Conv1d(2048, 512, kernel_size=(1,), stride=(1,))\n",
       "        (norm1): LayerNorm((512,), eps=1e-05, elementwise_affine=True)\n",
       "        (norm2): LayerNorm((512,), eps=1e-05, elementwise_affine=True)\n",
       "        (norm3): LayerNorm((512,), eps=1e-05, elementwise_affine=True)\n",
       "        (dropout): Dropout(p=0.05, inplace=False)\n",
       "      )\n",
       "    )\n",
       "    (norm): LayerNorm((512,), eps=1e-05, elementwise_affine=True)\n",
       "  )\n",
       "  (projection): Linear(in_features=512, out_features=7, bias=True)\n",
       ")"
      ]
     },
     "execution_count": 37,
     "metadata": {},
     "output_type": "execute_result"
    }
   ],
   "source": [
    "Exp = Exp_Informer\n",
    "exp = Exp(args)\n",
    "exp.train(setting)"
   ]
  },
  {
   "cell_type": "markdown",
   "metadata": {},
   "source": [
    "### Testing"
   ]
  },
  {
   "cell_type": "code",
   "execution_count": 38,
   "metadata": {},
   "outputs": [
    {
     "name": "stdout",
     "output_type": "stream",
     "text": [
      "test 11425\n",
      "test shape: (357, 32, 96, 7) (357, 32, 96, 7)\n",
      "test shape: (11424, 96, 7) (11424, 96, 7)\n",
      "mse:1.3085814714431763, mae:0.9307424426078796\n"
     ]
    }
   ],
   "source": [
    "exp.test(setting)\n",
    "torch.cuda.empty_cache()"
   ]
  },
  {
   "cell_type": "markdown",
   "metadata": {},
   "source": [
    "---\n",
    "## Trail 2: Informer, Dataset:ETTm1,  Metric: 192\n",
    "### Set hyperparameters\n",
    "Set some parameters (Args) for the our experiment like dictionary\n"
   ]
  },
  {
   "cell_type": "code",
   "execution_count": 39,
   "metadata": {
    "colab": {
     "base_uri": "https://localhost:8080/"
    },
    "id": "ywY-umrw-mHO",
    "outputId": "9b2e2e8e-7025-46e6-e2d7-2d8c9ceeb381"
   },
   "outputs": [
    {
     "name": "stdout",
     "output_type": "stream",
     "text": [
      "Hyperparameter Combination of informer_train_on_ETTm1_192:\n",
      "\n",
      "{'train_only': True, 'model': 'informer', 'use_multi_gpu': False, 'use_gpu': True, 'learning_rate': 0.005, 'pred_len': 192, 'label_len': 48, 'use_amp': False, 'output_attention': False, 'features': 'M', 'checkpoints': './Checkpoints/Informer_checkpoints', 'patience': 3, 'train_epochs': 6, 'freq': 'h', 'seq_len': 336, 'data': 'ETTm1', 'root_path': './Datasets/', 'data_path': 'ETTm1.csv', 'target': 'OT', 'enc_in': 7, 'dec_in': 7, 'c_out': 7, 'factor': 5, 'd_model': 512, 'n_heads': 8, 'e_layers': 2, 'd_layers': 1, 'd_ff': 2048, 'dropout': 0.05, 'attn': 'prob', 'embed': 'timeF', 'activation': 'gelu', 'distil': True, 'mix': True, 'padding': 0, 'batch_size': 32, 'loss': 'mse', 'lradj': 'type1', 'num_workers': 0, 'itr': 1, 'des': 'exp', 'gpu': 0, 'devices': '0,1,2,3'}\n"
     ]
    }
   ],
   "source": [
    "args.pred_len = 192\n",
    "\n",
    "setting=f'{args.model}_train_on_{args.data}_{args.pred_len}'\n",
    "print(f\"Hyperparameter Combination of {setting}:\\n\") \n",
    "print(args)"
   ]
  },
  {
   "cell_type": "markdown",
   "metadata": {},
   "source": [
    "### Training"
   ]
  },
  {
   "cell_type": "code",
   "execution_count": 40,
   "metadata": {
    "collapsed": true,
    "jupyter": {
     "outputs_hidden": true
    }
   },
   "outputs": [
    {
     "name": "stdout",
     "output_type": "stream",
     "text": [
      "Use GPU: cuda:0\n",
      "train 34033\n",
      "val 11329\n",
      "test 11329\n",
      "\titers: 100, epoch: 1 | loss: 0.6825605\n",
      "\tspeed: 1.0240s/iter; left time: 6429.7879s\n",
      "\titers: 200, epoch: 1 | loss: 0.7389103\n",
      "\tspeed: 1.0049s/iter; left time: 6209.3487s\n",
      "\titers: 300, epoch: 1 | loss: 0.6039448\n",
      "\tspeed: 0.9630s/iter; left time: 5854.1901s\n",
      "\titers: 400, epoch: 1 | loss: 0.5653376\n",
      "\tspeed: 0.9040s/iter; left time: 5405.1325s\n",
      "\titers: 500, epoch: 1 | loss: 0.4663773\n",
      "\tspeed: 0.8809s/iter; left time: 5179.0517s\n",
      "\titers: 600, epoch: 1 | loss: 0.4771079\n",
      "\tspeed: 0.9071s/iter; left time: 5242.0070s\n",
      "\titers: 700, epoch: 1 | loss: 0.4545580\n",
      "\tspeed: 0.9160s/iter; left time: 5202.1293s\n",
      "\titers: 800, epoch: 1 | loss: 0.4916990\n",
      "\tspeed: 1.0009s/iter; left time: 5583.9500s\n",
      "\titers: 900, epoch: 1 | loss: 0.5615091\n",
      "\tspeed: 0.9950s/iter; left time: 5451.7236s\n",
      "\titers: 1000, epoch: 1 | loss: 0.4785345\n",
      "\tspeed: 0.9971s/iter; left time: 5363.2310s\n",
      "Epoch: 1 cost time: 1023.1969690322876\n",
      "Epoch: 1, Steps: 1063 | Train Loss: 0.6226956 Vali Loss: 1.5692221 Test Loss: 0.9853052\n",
      "Validation loss decreased (inf --> 1.569222).  Saving model ...\n",
      "Updating learning rate to 0.005\n",
      "\titers: 100, epoch: 2 | loss: 0.4581030\n",
      "\tspeed: 4.4996s/iter; left time: 23469.9154s\n",
      "\titers: 200, epoch: 2 | loss: 0.4506603\n",
      "\tspeed: 0.1186s/iter; left time: 606.6549s\n",
      "\titers: 300, epoch: 2 | loss: 0.5346481\n",
      "\tspeed: 0.1217s/iter; left time: 610.3756s\n",
      "\titers: 400, epoch: 2 | loss: 0.5187250\n",
      "\tspeed: 0.1143s/iter; left time: 561.7492s\n",
      "\titers: 500, epoch: 2 | loss: 0.4466021\n",
      "\tspeed: 0.1108s/iter; left time: 533.6896s\n",
      "\titers: 600, epoch: 2 | loss: 0.4002652\n",
      "\tspeed: 0.1109s/iter; left time: 523.0727s\n",
      "\titers: 700, epoch: 2 | loss: 0.4835030\n",
      "\tspeed: 0.1180s/iter; left time: 544.6725s\n",
      "\titers: 800, epoch: 2 | loss: 0.4187939\n",
      "\tspeed: 0.1184s/iter; left time: 534.7023s\n",
      "\titers: 900, epoch: 2 | loss: 0.3974917\n",
      "\tspeed: 0.1232s/iter; left time: 544.1010s\n",
      "\titers: 1000, epoch: 2 | loss: 0.6056679\n",
      "\tspeed: 0.1114s/iter; left time: 480.7558s\n",
      "Epoch: 2 cost time: 123.25935673713684\n",
      "Epoch: 2, Steps: 1063 | Train Loss: 0.4782332 Vali Loss: 1.6588799 Test Loss: 1.5742208\n",
      "EarlyStopping counter: 1 out of 3\n",
      "Updating learning rate to 0.0025\n",
      "\titers: 100, epoch: 3 | loss: 0.4777119\n",
      "\tspeed: 1.3764s/iter; left time: 5716.0108s\n",
      "\titers: 200, epoch: 3 | loss: 0.4879284\n",
      "\tspeed: 0.1229s/iter; left time: 498.0922s\n",
      "\titers: 300, epoch: 3 | loss: 0.4471962\n",
      "\tspeed: 0.1125s/iter; left time: 444.8274s\n",
      "\titers: 400, epoch: 3 | loss: 0.4367673\n",
      "\tspeed: 0.1149s/iter; left time: 442.6595s\n",
      "\titers: 500, epoch: 3 | loss: 0.4231922\n",
      "\tspeed: 0.1145s/iter; left time: 429.8476s\n",
      "\titers: 600, epoch: 3 | loss: 0.4041089\n",
      "\tspeed: 0.1134s/iter; left time: 414.3898s\n",
      "\titers: 700, epoch: 3 | loss: 0.4288006\n",
      "\tspeed: 0.1104s/iter; left time: 392.1520s\n",
      "\titers: 800, epoch: 3 | loss: 0.4505875\n",
      "\tspeed: 0.1240s/iter; left time: 428.1726s\n",
      "\titers: 900, epoch: 3 | loss: 0.4543569\n",
      "\tspeed: 0.1113s/iter; left time: 373.0588s\n",
      "\titers: 1000, epoch: 3 | loss: 0.4596170\n",
      "\tspeed: 0.1074s/iter; left time: 349.2646s\n",
      "Epoch: 3 cost time: 122.21116352081299\n",
      "Epoch: 3, Steps: 1063 | Train Loss: 0.4436845 Vali Loss: 1.7477838 Test Loss: 1.4239762\n",
      "EarlyStopping counter: 2 out of 3\n",
      "Updating learning rate to 0.00125\n",
      "\titers: 100, epoch: 4 | loss: 0.4374603\n",
      "\tspeed: 1.4450s/iter; left time: 4464.9367s\n",
      "\titers: 200, epoch: 4 | loss: 0.4507499\n",
      "\tspeed: 0.1090s/iter; left time: 325.8103s\n",
      "\titers: 300, epoch: 4 | loss: 0.4050137\n",
      "\tspeed: 0.1131s/iter; left time: 326.7799s\n",
      "\titers: 400, epoch: 4 | loss: 0.4081164\n",
      "\tspeed: 0.1084s/iter; left time: 302.3578s\n",
      "\titers: 500, epoch: 4 | loss: 0.4165242\n",
      "\tspeed: 0.1072s/iter; left time: 288.4844s\n",
      "\titers: 600, epoch: 4 | loss: 0.4193418\n",
      "\tspeed: 0.1237s/iter; left time: 320.4837s\n",
      "\titers: 700, epoch: 4 | loss: 0.4740763\n",
      "\tspeed: 0.9180s/iter; left time: 2285.8891s\n",
      "\titers: 800, epoch: 4 | loss: 0.4630866\n",
      "\tspeed: 0.9970s/iter; left time: 2382.9415s\n",
      "\titers: 900, epoch: 4 | loss: 0.4200629\n",
      "\tspeed: 1.0090s/iter; left time: 2310.4973s\n",
      "\titers: 1000, epoch: 4 | loss: 0.4403947\n",
      "\tspeed: 1.0220s/iter; left time: 2238.1829s\n",
      "Epoch: 4 cost time: 527.5906476974487\n",
      "Epoch: 4, Steps: 1063 | Train Loss: 0.4270809 Vali Loss: 1.4634620 Test Loss: 1.3775213\n",
      "Validation loss decreased (1.569222 --> 1.463462).  Saving model ...\n",
      "Updating learning rate to 0.000625\n",
      "\titers: 100, epoch: 5 | loss: 0.5077316\n",
      "\tspeed: 9.5770s/iter; left time: 19412.5622s\n",
      "\titers: 200, epoch: 5 | loss: 0.4028910\n",
      "\tspeed: 1.0300s/iter; left time: 1984.8619s\n",
      "\titers: 300, epoch: 5 | loss: 0.4475949\n",
      "\tspeed: 1.0480s/iter; left time: 1914.6106s\n",
      "\titers: 400, epoch: 5 | loss: 0.4018620\n",
      "\tspeed: 1.0462s/iter; left time: 1806.7229s\n",
      "\titers: 500, epoch: 5 | loss: 0.4328589\n",
      "\tspeed: 1.0279s/iter; left time: 1672.3881s\n",
      "\titers: 600, epoch: 5 | loss: 0.3922884\n",
      "\tspeed: 1.0401s/iter; left time: 1588.1833s\n",
      "\titers: 700, epoch: 5 | loss: 0.4596422\n",
      "\tspeed: 1.0439s/iter; left time: 1489.7124s\n",
      "\titers: 800, epoch: 5 | loss: 0.4783155\n",
      "\tspeed: 1.0420s/iter; left time: 1382.7962s\n",
      "\titers: 900, epoch: 5 | loss: 0.3854137\n",
      "\tspeed: 1.0369s/iter; left time: 1272.3348s\n",
      "\titers: 1000, epoch: 5 | loss: 0.3915372\n",
      "\tspeed: 1.0320s/iter; left time: 1163.0398s\n",
      "Epoch: 5 cost time: 1104.3075120449066\n",
      "Epoch: 5, Steps: 1063 | Train Loss: 0.4193456 Vali Loss: 1.4677511 Test Loss: 1.3962401\n",
      "EarlyStopping counter: 1 out of 3\n",
      "Updating learning rate to 0.0003125\n",
      "\titers: 100, epoch: 6 | loss: 0.4253628\n",
      "\tspeed: 9.0200s/iter; left time: 8695.3267s\n",
      "\titers: 200, epoch: 6 | loss: 0.4195089\n",
      "\tspeed: 1.0200s/iter; left time: 881.2757s\n",
      "\titers: 300, epoch: 6 | loss: 0.3547003\n",
      "\tspeed: 1.0089s/iter; left time: 770.8056s\n",
      "\titers: 400, epoch: 6 | loss: 0.3685705\n",
      "\tspeed: 1.0290s/iter; left time: 683.2644s\n",
      "\titers: 500, epoch: 6 | loss: 0.3885313\n",
      "\tspeed: 1.0441s/iter; left time: 588.8513s\n",
      "\titers: 600, epoch: 6 | loss: 0.4745927\n",
      "\tspeed: 1.0190s/iter; left time: 472.8238s\n",
      "\titers: 700, epoch: 6 | loss: 0.3770448\n",
      "\tspeed: 1.0250s/iter; left time: 373.0892s\n",
      "\titers: 800, epoch: 6 | loss: 0.3525789\n",
      "\tspeed: 1.0380s/iter; left time: 274.0451s\n",
      "\titers: 900, epoch: 6 | loss: 0.5237544\n",
      "\tspeed: 1.0351s/iter; left time: 169.7489s\n",
      "\titers: 1000, epoch: 6 | loss: 0.3939460\n",
      "\tspeed: 1.0458s/iter; left time: 66.9339s\n",
      "Epoch: 6 cost time: 1097.3002746105194\n",
      "Epoch: 6, Steps: 1063 | Train Loss: 0.4110758 Vali Loss: 1.4569941 Test Loss: 1.4232967\n",
      "Validation loss decreased (1.463462 --> 1.456994).  Saving model ...\n",
      "Updating learning rate to 0.00015625\n"
     ]
    },
    {
     "data": {
      "text/plain": [
       "Informer(\n",
       "  (enc_embedding): DataEmbedding(\n",
       "    (value_embedding): TokenEmbedding(\n",
       "      (tokenConv): Conv1d(7, 512, kernel_size=(3,), stride=(1,), padding=(1,), padding_mode=circular)\n",
       "    )\n",
       "    (position_embedding): PositionalEmbedding()\n",
       "    (temporal_embedding): TimeFeatureEmbedding(\n",
       "      (embed): Linear(in_features=4, out_features=512, bias=True)\n",
       "    )\n",
       "    (dropout): Dropout(p=0.05, inplace=False)\n",
       "  )\n",
       "  (dec_embedding): DataEmbedding(\n",
       "    (value_embedding): TokenEmbedding(\n",
       "      (tokenConv): Conv1d(7, 512, kernel_size=(3,), stride=(1,), padding=(1,), padding_mode=circular)\n",
       "    )\n",
       "    (position_embedding): PositionalEmbedding()\n",
       "    (temporal_embedding): TimeFeatureEmbedding(\n",
       "      (embed): Linear(in_features=4, out_features=512, bias=True)\n",
       "    )\n",
       "    (dropout): Dropout(p=0.05, inplace=False)\n",
       "  )\n",
       "  (encoder): Encoder(\n",
       "    (attn_layers): ModuleList(\n",
       "      (0): EncoderLayer(\n",
       "        (attention): AttentionLayer(\n",
       "          (inner_attention): ProbAttention(\n",
       "            (dropout): Dropout(p=0.05, inplace=False)\n",
       "          )\n",
       "          (query_projection): Linear(in_features=512, out_features=512, bias=True)\n",
       "          (key_projection): Linear(in_features=512, out_features=512, bias=True)\n",
       "          (value_projection): Linear(in_features=512, out_features=512, bias=True)\n",
       "          (out_projection): Linear(in_features=512, out_features=512, bias=True)\n",
       "        )\n",
       "        (conv1): Conv1d(512, 2048, kernel_size=(1,), stride=(1,))\n",
       "        (conv2): Conv1d(2048, 512, kernel_size=(1,), stride=(1,))\n",
       "        (norm1): LayerNorm((512,), eps=1e-05, elementwise_affine=True)\n",
       "        (norm2): LayerNorm((512,), eps=1e-05, elementwise_affine=True)\n",
       "        (dropout): Dropout(p=0.05, inplace=False)\n",
       "      )\n",
       "      (1): EncoderLayer(\n",
       "        (attention): AttentionLayer(\n",
       "          (inner_attention): ProbAttention(\n",
       "            (dropout): Dropout(p=0.05, inplace=False)\n",
       "          )\n",
       "          (query_projection): Linear(in_features=512, out_features=512, bias=True)\n",
       "          (key_projection): Linear(in_features=512, out_features=512, bias=True)\n",
       "          (value_projection): Linear(in_features=512, out_features=512, bias=True)\n",
       "          (out_projection): Linear(in_features=512, out_features=512, bias=True)\n",
       "        )\n",
       "        (conv1): Conv1d(512, 2048, kernel_size=(1,), stride=(1,))\n",
       "        (conv2): Conv1d(2048, 512, kernel_size=(1,), stride=(1,))\n",
       "        (norm1): LayerNorm((512,), eps=1e-05, elementwise_affine=True)\n",
       "        (norm2): LayerNorm((512,), eps=1e-05, elementwise_affine=True)\n",
       "        (dropout): Dropout(p=0.05, inplace=False)\n",
       "      )\n",
       "    )\n",
       "    (conv_layers): ModuleList(\n",
       "      (0): ConvLayer(\n",
       "        (downConv): Conv1d(512, 512, kernel_size=(3,), stride=(1,), padding=(1,), padding_mode=circular)\n",
       "        (norm): BatchNorm1d(512, eps=1e-05, momentum=0.1, affine=True, track_running_stats=True)\n",
       "        (activation): ELU(alpha=1.0)\n",
       "        (maxPool): MaxPool1d(kernel_size=3, stride=2, padding=1, dilation=1, ceil_mode=False)\n",
       "      )\n",
       "    )\n",
       "    (norm): LayerNorm((512,), eps=1e-05, elementwise_affine=True)\n",
       "  )\n",
       "  (decoder): Decoder(\n",
       "    (layers): ModuleList(\n",
       "      (0): DecoderLayer(\n",
       "        (self_attention): AttentionLayer(\n",
       "          (inner_attention): ProbAttention(\n",
       "            (dropout): Dropout(p=0.05, inplace=False)\n",
       "          )\n",
       "          (query_projection): Linear(in_features=512, out_features=512, bias=True)\n",
       "          (key_projection): Linear(in_features=512, out_features=512, bias=True)\n",
       "          (value_projection): Linear(in_features=512, out_features=512, bias=True)\n",
       "          (out_projection): Linear(in_features=512, out_features=512, bias=True)\n",
       "        )\n",
       "        (cross_attention): AttentionLayer(\n",
       "          (inner_attention): FullAttention(\n",
       "            (dropout): Dropout(p=0.05, inplace=False)\n",
       "          )\n",
       "          (query_projection): Linear(in_features=512, out_features=512, bias=True)\n",
       "          (key_projection): Linear(in_features=512, out_features=512, bias=True)\n",
       "          (value_projection): Linear(in_features=512, out_features=512, bias=True)\n",
       "          (out_projection): Linear(in_features=512, out_features=512, bias=True)\n",
       "        )\n",
       "        (conv1): Conv1d(512, 2048, kernel_size=(1,), stride=(1,))\n",
       "        (conv2): Conv1d(2048, 512, kernel_size=(1,), stride=(1,))\n",
       "        (norm1): LayerNorm((512,), eps=1e-05, elementwise_affine=True)\n",
       "        (norm2): LayerNorm((512,), eps=1e-05, elementwise_affine=True)\n",
       "        (norm3): LayerNorm((512,), eps=1e-05, elementwise_affine=True)\n",
       "        (dropout): Dropout(p=0.05, inplace=False)\n",
       "      )\n",
       "    )\n",
       "    (norm): LayerNorm((512,), eps=1e-05, elementwise_affine=True)\n",
       "  )\n",
       "  (projection): Linear(in_features=512, out_features=7, bias=True)\n",
       ")"
      ]
     },
     "execution_count": 40,
     "metadata": {},
     "output_type": "execute_result"
    }
   ],
   "source": [
    "Exp = Exp_Informer\n",
    "exp = Exp(args)\n",
    "exp.train(setting)"
   ]
  },
  {
   "cell_type": "markdown",
   "metadata": {},
   "source": [
    "### Testing"
   ]
  },
  {
   "cell_type": "code",
   "execution_count": 41,
   "metadata": {},
   "outputs": [
    {
     "name": "stdout",
     "output_type": "stream",
     "text": [
      "test 11329\n",
      "test shape: (354, 32, 192, 7) (354, 32, 192, 7)\n",
      "test shape: (11328, 192, 7) (11328, 192, 7)\n",
      "mse:1.4236183166503906, mae:0.9478102326393127\n"
     ]
    }
   ],
   "source": [
    "exp.test(setting)\n",
    "torch.cuda.empty_cache()"
   ]
  },
  {
   "cell_type": "markdown",
   "metadata": {},
   "source": [
    "---\n",
    "## Trail 3: Informer, Dataset:ETTm1,  Metric: 336\n",
    "### Set hyperparameters\n",
    "Set some parameters (Args) for the our experiment like dictionary\n"
   ]
  },
  {
   "cell_type": "code",
   "execution_count": 42,
   "metadata": {
    "colab": {
     "base_uri": "https://localhost:8080/"
    },
    "id": "ywY-umrw-mHO",
    "outputId": "9b2e2e8e-7025-46e6-e2d7-2d8c9ceeb381"
   },
   "outputs": [
    {
     "name": "stdout",
     "output_type": "stream",
     "text": [
      "Hyperparameter Combination of informer_train_on_ETTm1_336:\n",
      "\n",
      "{'train_only': True, 'model': 'informer', 'use_multi_gpu': False, 'use_gpu': True, 'learning_rate': 0.005, 'pred_len': 336, 'label_len': 48, 'use_amp': False, 'output_attention': False, 'features': 'M', 'checkpoints': './Checkpoints/Informer_checkpoints', 'patience': 3, 'train_epochs': 6, 'freq': 'h', 'seq_len': 336, 'data': 'ETTm1', 'root_path': './Datasets/', 'data_path': 'ETTm1.csv', 'target': 'OT', 'enc_in': 7, 'dec_in': 7, 'c_out': 7, 'factor': 5, 'd_model': 512, 'n_heads': 8, 'e_layers': 2, 'd_layers': 1, 'd_ff': 2048, 'dropout': 0.05, 'attn': 'prob', 'embed': 'timeF', 'activation': 'gelu', 'distil': True, 'mix': True, 'padding': 0, 'batch_size': 32, 'loss': 'mse', 'lradj': 'type1', 'num_workers': 0, 'itr': 1, 'des': 'exp', 'gpu': 0, 'devices': '0,1,2,3'}\n"
     ]
    }
   ],
   "source": [
    "args.pred_len = 336\n",
    "\n",
    "setting=f'{args.model}_train_on_{args.data}_{args.pred_len}'\n",
    "print(f\"Hyperparameter Combination of {setting}:\\n\") \n",
    "print(args)"
   ]
  },
  {
   "cell_type": "markdown",
   "metadata": {},
   "source": [
    "### Training"
   ]
  },
  {
   "cell_type": "code",
   "execution_count": 43,
   "metadata": {
    "collapsed": true,
    "jupyter": {
     "outputs_hidden": true
    }
   },
   "outputs": [
    {
     "name": "stdout",
     "output_type": "stream",
     "text": [
      "Use GPU: cuda:0\n",
      "train 33889\n",
      "val 11185\n",
      "test 11185\n",
      "\titers: 100, epoch: 1 | loss: 0.8638499\n",
      "\tspeed: 1.1679s/iter; left time: 7305.3368s\n",
      "\titers: 200, epoch: 1 | loss: 0.6264448\n",
      "\tspeed: 1.1912s/iter; left time: 7331.7259s\n",
      "\titers: 300, epoch: 1 | loss: 0.6853592\n",
      "\tspeed: 1.1739s/iter; left time: 7107.9245s\n",
      "\titers: 400, epoch: 1 | loss: 0.5525738\n",
      "\tspeed: 1.1800s/iter; left time: 7026.9579s\n",
      "\titers: 500, epoch: 1 | loss: 0.6258067\n",
      "\tspeed: 1.1791s/iter; left time: 6903.4249s\n",
      "\titers: 600, epoch: 1 | loss: 0.5194860\n",
      "\tspeed: 1.1719s/iter; left time: 6744.3320s\n",
      "\titers: 700, epoch: 1 | loss: 0.5585417\n",
      "\tspeed: 1.1820s/iter; left time: 6684.3215s\n",
      "\titers: 800, epoch: 1 | loss: 0.5954760\n",
      "\tspeed: 1.1771s/iter; left time: 6538.8700s\n",
      "\titers: 900, epoch: 1 | loss: 0.6073945\n",
      "\tspeed: 1.1790s/iter; left time: 6431.2184s\n",
      "\titers: 1000, epoch: 1 | loss: 0.5065300\n",
      "\tspeed: 1.1688s/iter; left time: 6259.1378s\n",
      "Epoch: 1 cost time: 1245.795269727707\n",
      "Epoch: 1, Steps: 1059 | Train Loss: 0.6939167 Vali Loss: 1.5681908 Test Loss: 1.3347235\n",
      "Validation loss decreased (inf --> 1.568191).  Saving model ...\n",
      "Updating learning rate to 0.005\n",
      "\titers: 100, epoch: 2 | loss: 0.6487272\n",
      "\tspeed: 7.5616s/iter; left time: 39290.1969s\n",
      "\titers: 200, epoch: 2 | loss: 0.5526739\n",
      "\tspeed: 0.1264s/iter; left time: 644.1778s\n",
      "\titers: 300, epoch: 2 | loss: 0.5781096\n",
      "\tspeed: 0.1261s/iter; left time: 629.8439s\n",
      "\titers: 400, epoch: 2 | loss: 0.5804760\n",
      "\tspeed: 0.1162s/iter; left time: 568.7731s\n",
      "\titers: 500, epoch: 2 | loss: 0.5592785\n",
      "\tspeed: 0.1199s/iter; left time: 574.9573s\n",
      "\titers: 600, epoch: 2 | loss: 0.4980161\n",
      "\tspeed: 0.1168s/iter; left time: 548.6845s\n",
      "\titers: 700, epoch: 2 | loss: 0.5323161\n",
      "\tspeed: 0.1266s/iter; left time: 581.9415s\n",
      "\titers: 800, epoch: 2 | loss: 0.5738026\n",
      "\tspeed: 0.1164s/iter; left time: 523.2189s\n",
      "\titers: 900, epoch: 2 | loss: 0.5710642\n",
      "\tspeed: 0.1222s/iter; left time: 537.0584s\n",
      "\titers: 1000, epoch: 2 | loss: 0.4894998\n",
      "\tspeed: 0.1248s/iter; left time: 536.2746s\n",
      "Epoch: 2 cost time: 129.27423000335693\n",
      "Epoch: 2, Steps: 1059 | Train Loss: 0.5614089 Vali Loss: 1.9886187 Test Loss: 1.4671141\n",
      "EarlyStopping counter: 1 out of 3\n",
      "Updating learning rate to 0.0025\n",
      "\titers: 100, epoch: 3 | loss: 0.5608068\n",
      "\tspeed: 1.6974s/iter; left time: 7022.3013s\n",
      "\titers: 200, epoch: 3 | loss: 0.4886636\n",
      "\tspeed: 0.1222s/iter; left time: 493.3438s\n",
      "\titers: 300, epoch: 3 | loss: 0.5678310\n",
      "\tspeed: 0.1280s/iter; left time: 503.9954s\n",
      "\titers: 400, epoch: 3 | loss: 0.5385030\n",
      "\tspeed: 0.1286s/iter; left time: 493.3439s\n",
      "\titers: 500, epoch: 3 | loss: 0.4991965\n",
      "\tspeed: 0.1214s/iter; left time: 453.6566s\n",
      "\titers: 600, epoch: 3 | loss: 0.5466778\n",
      "\tspeed: 0.1255s/iter; left time: 456.2913s\n",
      "\titers: 700, epoch: 3 | loss: 0.4409717\n",
      "\tspeed: 0.1225s/iter; left time: 433.4153s\n",
      "\titers: 800, epoch: 3 | loss: 0.5153005\n",
      "\tspeed: 0.1276s/iter; left time: 438.6258s\n",
      "\titers: 900, epoch: 3 | loss: 0.5270955\n",
      "\tspeed: 0.1270s/iter; left time: 423.6671s\n",
      "\titers: 1000, epoch: 3 | loss: 0.5780619\n",
      "\tspeed: 0.1191s/iter; left time: 385.4277s\n",
      "Epoch: 3 cost time: 130.96888613700867\n",
      "Epoch: 3, Steps: 1059 | Train Loss: 0.5218125 Vali Loss: 2.0055709 Test Loss: 1.3727549\n",
      "EarlyStopping counter: 2 out of 3\n",
      "Updating learning rate to 0.00125\n",
      "\titers: 100, epoch: 4 | loss: 0.5287560\n",
      "\tspeed: 1.6895s/iter; left time: 5200.2354s\n",
      "\titers: 200, epoch: 4 | loss: 0.4791959\n",
      "\tspeed: 0.1142s/iter; left time: 340.1956s\n",
      "\titers: 300, epoch: 4 | loss: 0.4615068\n",
      "\tspeed: 0.1108s/iter; left time: 318.7878s\n",
      "\titers: 400, epoch: 4 | loss: 0.4688394\n",
      "\tspeed: 0.1173s/iter; left time: 325.9390s\n",
      "\titers: 500, epoch: 4 | loss: 0.4915358\n",
      "\tspeed: 0.1197s/iter; left time: 320.4802s\n",
      "\titers: 600, epoch: 4 | loss: 0.4481491\n",
      "\tspeed: 0.1135s/iter; left time: 292.7033s\n",
      "\titers: 700, epoch: 4 | loss: 0.5029681\n",
      "\tspeed: 0.1152s/iter; left time: 285.4512s\n",
      "\titers: 800, epoch: 4 | loss: 0.5671539\n",
      "\tspeed: 0.1205s/iter; left time: 286.5387s\n",
      "\titers: 900, epoch: 4 | loss: 0.4830789\n",
      "\tspeed: 0.1107s/iter; left time: 252.2740s\n",
      "\titers: 1000, epoch: 4 | loss: 0.5339879\n",
      "\tspeed: 0.1078s/iter; left time: 234.7941s\n",
      "Epoch: 4 cost time: 120.23097896575928\n",
      "Epoch: 4, Steps: 1059 | Train Loss: 0.5062958 Vali Loss: 1.7224588 Test Loss: 1.2033960\n",
      "EarlyStopping counter: 3 out of 3\n",
      "Early stopping\n"
     ]
    },
    {
     "data": {
      "text/plain": [
       "Informer(\n",
       "  (enc_embedding): DataEmbedding(\n",
       "    (value_embedding): TokenEmbedding(\n",
       "      (tokenConv): Conv1d(7, 512, kernel_size=(3,), stride=(1,), padding=(1,), padding_mode=circular)\n",
       "    )\n",
       "    (position_embedding): PositionalEmbedding()\n",
       "    (temporal_embedding): TimeFeatureEmbedding(\n",
       "      (embed): Linear(in_features=4, out_features=512, bias=True)\n",
       "    )\n",
       "    (dropout): Dropout(p=0.05, inplace=False)\n",
       "  )\n",
       "  (dec_embedding): DataEmbedding(\n",
       "    (value_embedding): TokenEmbedding(\n",
       "      (tokenConv): Conv1d(7, 512, kernel_size=(3,), stride=(1,), padding=(1,), padding_mode=circular)\n",
       "    )\n",
       "    (position_embedding): PositionalEmbedding()\n",
       "    (temporal_embedding): TimeFeatureEmbedding(\n",
       "      (embed): Linear(in_features=4, out_features=512, bias=True)\n",
       "    )\n",
       "    (dropout): Dropout(p=0.05, inplace=False)\n",
       "  )\n",
       "  (encoder): Encoder(\n",
       "    (attn_layers): ModuleList(\n",
       "      (0): EncoderLayer(\n",
       "        (attention): AttentionLayer(\n",
       "          (inner_attention): ProbAttention(\n",
       "            (dropout): Dropout(p=0.05, inplace=False)\n",
       "          )\n",
       "          (query_projection): Linear(in_features=512, out_features=512, bias=True)\n",
       "          (key_projection): Linear(in_features=512, out_features=512, bias=True)\n",
       "          (value_projection): Linear(in_features=512, out_features=512, bias=True)\n",
       "          (out_projection): Linear(in_features=512, out_features=512, bias=True)\n",
       "        )\n",
       "        (conv1): Conv1d(512, 2048, kernel_size=(1,), stride=(1,))\n",
       "        (conv2): Conv1d(2048, 512, kernel_size=(1,), stride=(1,))\n",
       "        (norm1): LayerNorm((512,), eps=1e-05, elementwise_affine=True)\n",
       "        (norm2): LayerNorm((512,), eps=1e-05, elementwise_affine=True)\n",
       "        (dropout): Dropout(p=0.05, inplace=False)\n",
       "      )\n",
       "      (1): EncoderLayer(\n",
       "        (attention): AttentionLayer(\n",
       "          (inner_attention): ProbAttention(\n",
       "            (dropout): Dropout(p=0.05, inplace=False)\n",
       "          )\n",
       "          (query_projection): Linear(in_features=512, out_features=512, bias=True)\n",
       "          (key_projection): Linear(in_features=512, out_features=512, bias=True)\n",
       "          (value_projection): Linear(in_features=512, out_features=512, bias=True)\n",
       "          (out_projection): Linear(in_features=512, out_features=512, bias=True)\n",
       "        )\n",
       "        (conv1): Conv1d(512, 2048, kernel_size=(1,), stride=(1,))\n",
       "        (conv2): Conv1d(2048, 512, kernel_size=(1,), stride=(1,))\n",
       "        (norm1): LayerNorm((512,), eps=1e-05, elementwise_affine=True)\n",
       "        (norm2): LayerNorm((512,), eps=1e-05, elementwise_affine=True)\n",
       "        (dropout): Dropout(p=0.05, inplace=False)\n",
       "      )\n",
       "    )\n",
       "    (conv_layers): ModuleList(\n",
       "      (0): ConvLayer(\n",
       "        (downConv): Conv1d(512, 512, kernel_size=(3,), stride=(1,), padding=(1,), padding_mode=circular)\n",
       "        (norm): BatchNorm1d(512, eps=1e-05, momentum=0.1, affine=True, track_running_stats=True)\n",
       "        (activation): ELU(alpha=1.0)\n",
       "        (maxPool): MaxPool1d(kernel_size=3, stride=2, padding=1, dilation=1, ceil_mode=False)\n",
       "      )\n",
       "    )\n",
       "    (norm): LayerNorm((512,), eps=1e-05, elementwise_affine=True)\n",
       "  )\n",
       "  (decoder): Decoder(\n",
       "    (layers): ModuleList(\n",
       "      (0): DecoderLayer(\n",
       "        (self_attention): AttentionLayer(\n",
       "          (inner_attention): ProbAttention(\n",
       "            (dropout): Dropout(p=0.05, inplace=False)\n",
       "          )\n",
       "          (query_projection): Linear(in_features=512, out_features=512, bias=True)\n",
       "          (key_projection): Linear(in_features=512, out_features=512, bias=True)\n",
       "          (value_projection): Linear(in_features=512, out_features=512, bias=True)\n",
       "          (out_projection): Linear(in_features=512, out_features=512, bias=True)\n",
       "        )\n",
       "        (cross_attention): AttentionLayer(\n",
       "          (inner_attention): FullAttention(\n",
       "            (dropout): Dropout(p=0.05, inplace=False)\n",
       "          )\n",
       "          (query_projection): Linear(in_features=512, out_features=512, bias=True)\n",
       "          (key_projection): Linear(in_features=512, out_features=512, bias=True)\n",
       "          (value_projection): Linear(in_features=512, out_features=512, bias=True)\n",
       "          (out_projection): Linear(in_features=512, out_features=512, bias=True)\n",
       "        )\n",
       "        (conv1): Conv1d(512, 2048, kernel_size=(1,), stride=(1,))\n",
       "        (conv2): Conv1d(2048, 512, kernel_size=(1,), stride=(1,))\n",
       "        (norm1): LayerNorm((512,), eps=1e-05, elementwise_affine=True)\n",
       "        (norm2): LayerNorm((512,), eps=1e-05, elementwise_affine=True)\n",
       "        (norm3): LayerNorm((512,), eps=1e-05, elementwise_affine=True)\n",
       "        (dropout): Dropout(p=0.05, inplace=False)\n",
       "      )\n",
       "    )\n",
       "    (norm): LayerNorm((512,), eps=1e-05, elementwise_affine=True)\n",
       "  )\n",
       "  (projection): Linear(in_features=512, out_features=7, bias=True)\n",
       ")"
      ]
     },
     "execution_count": 43,
     "metadata": {},
     "output_type": "execute_result"
    }
   ],
   "source": [
    "Exp = Exp_Informer\n",
    "exp = Exp(args)\n",
    "exp.train(setting)"
   ]
  },
  {
   "cell_type": "markdown",
   "metadata": {},
   "source": [
    "### Testing"
   ]
  },
  {
   "cell_type": "code",
   "execution_count": 44,
   "metadata": {},
   "outputs": [
    {
     "name": "stdout",
     "output_type": "stream",
     "text": [
      "test 11185\n",
      "test shape: (349, 32, 336, 7) (349, 32, 336, 7)\n",
      "test shape: (11168, 336, 7) (11168, 336, 7)\n",
      "mse:1.3351807594299316, mae:0.9173144698143005\n"
     ]
    }
   ],
   "source": [
    "exp.test(setting)\n",
    "torch.cuda.empty_cache()"
   ]
  },
  {
   "cell_type": "markdown",
   "metadata": {},
   "source": [
    "---\n",
    "## Trail 4: Informer, Dataset:ETTm1,  Metric: 720\n",
    "### Set hyperparameters\n",
    "Set some parameters (Args) for the our experiment like dictionary\n"
   ]
  },
  {
   "cell_type": "code",
   "execution_count": 45,
   "metadata": {
    "colab": {
     "base_uri": "https://localhost:8080/"
    },
    "id": "ywY-umrw-mHO",
    "outputId": "9b2e2e8e-7025-46e6-e2d7-2d8c9ceeb381"
   },
   "outputs": [
    {
     "name": "stdout",
     "output_type": "stream",
     "text": [
      "Hyperparameter Combination of informer_train_on_ETTm1_720:\n",
      "\n",
      "{'train_only': True, 'model': 'informer', 'use_multi_gpu': False, 'use_gpu': True, 'learning_rate': 0.005, 'pred_len': 720, 'label_len': 48, 'use_amp': False, 'output_attention': False, 'features': 'M', 'checkpoints': './Checkpoints/Informer_checkpoints', 'patience': 3, 'train_epochs': 6, 'freq': 'h', 'seq_len': 336, 'data': 'ETTm1', 'root_path': './Datasets/', 'data_path': 'ETTm1.csv', 'target': 'OT', 'enc_in': 7, 'dec_in': 7, 'c_out': 7, 'factor': 5, 'd_model': 512, 'n_heads': 8, 'e_layers': 2, 'd_layers': 1, 'd_ff': 2048, 'dropout': 0.05, 'attn': 'prob', 'embed': 'timeF', 'activation': 'gelu', 'distil': True, 'mix': True, 'padding': 0, 'batch_size': 32, 'loss': 'mse', 'lradj': 'type1', 'num_workers': 0, 'itr': 1, 'des': 'exp', 'gpu': 0, 'devices': '0,1,2,3'}\n"
     ]
    }
   ],
   "source": [
    "args.pred_len = 720\n",
    "\n",
    "setting=f'{args.model}_train_on_{args.data}_{args.pred_len}'\n",
    "print(f\"Hyperparameter Combination of {setting}:\\n\") \n",
    "print(args)"
   ]
  },
  {
   "cell_type": "markdown",
   "metadata": {},
   "source": [
    "### Training"
   ]
  },
  {
   "cell_type": "code",
   "execution_count": 46,
   "metadata": {
    "collapsed": true,
    "jupyter": {
     "outputs_hidden": true
    }
   },
   "outputs": [
    {
     "name": "stdout",
     "output_type": "stream",
     "text": [
      "Use GPU: cuda:0\n",
      "train 33505\n",
      "val 10801\n",
      "test 10801\n",
      "\titers: 100, epoch: 1 | loss: 0.9469267\n",
      "\tspeed: 0.1448s/iter; left time: 895.3027s\n",
      "\titers: 200, epoch: 1 | loss: 0.6830285\n",
      "\tspeed: 0.1473s/iter; left time: 896.0802s\n",
      "\titers: 300, epoch: 1 | loss: 0.5960441\n",
      "\tspeed: 0.1639s/iter; left time: 980.8285s\n",
      "\titers: 400, epoch: 1 | loss: 0.7091423\n",
      "\tspeed: 0.1459s/iter; left time: 858.5493s\n",
      "\titers: 500, epoch: 1 | loss: 0.6357602\n",
      "\tspeed: 0.1477s/iter; left time: 854.2467s\n",
      "\titers: 600, epoch: 1 | loss: 0.6556748\n",
      "\tspeed: 0.1403s/iter; left time: 797.0728s\n",
      "\titers: 700, epoch: 1 | loss: 0.6134006\n",
      "\tspeed: 0.1367s/iter; left time: 763.2781s\n",
      "\titers: 800, epoch: 1 | loss: 0.5689014\n",
      "\tspeed: 0.1563s/iter; left time: 857.0511s\n",
      "\titers: 900, epoch: 1 | loss: 0.6309907\n",
      "\tspeed: 0.1498s/iter; left time: 806.2680s\n",
      "\titers: 1000, epoch: 1 | loss: 0.5923913\n",
      "\tspeed: 0.1460s/iter; left time: 771.1186s\n",
      "Epoch: 1 cost time: 154.42730331420898\n",
      "Epoch: 1, Steps: 1047 | Train Loss: 0.7104201 Vali Loss: 1.5934916 Test Loss: 1.3421746\n",
      "Validation loss decreased (inf --> 1.593492).  Saving model ...\n",
      "Updating learning rate to 0.005\n",
      "\titers: 100, epoch: 2 | loss: 0.5177197\n",
      "\tspeed: 1.6031s/iter; left time: 8233.5999s\n",
      "\titers: 200, epoch: 2 | loss: 0.5806282\n",
      "\tspeed: 0.1642s/iter; left time: 826.7978s\n",
      "\titers: 300, epoch: 2 | loss: 0.8403904\n",
      "\tspeed: 0.1540s/iter; left time: 760.2675s\n",
      "\titers: 400, epoch: 2 | loss: 0.7191448\n",
      "\tspeed: 0.1370s/iter; left time: 662.7734s\n",
      "\titers: 500, epoch: 2 | loss: 0.6515101\n",
      "\tspeed: 0.1467s/iter; left time: 694.8108s\n",
      "\titers: 600, epoch: 2 | loss: 0.6856531\n",
      "\tspeed: 0.1479s/iter; left time: 685.5211s\n",
      "\titers: 700, epoch: 2 | loss: 0.5349520\n",
      "\tspeed: 0.1444s/iter; left time: 654.8276s\n",
      "\titers: 800, epoch: 2 | loss: 0.6149961\n",
      "\tspeed: 0.1517s/iter; left time: 673.0118s\n",
      "\titers: 900, epoch: 2 | loss: 0.6314717\n",
      "\tspeed: 0.1464s/iter; left time: 634.5873s\n",
      "\titers: 1000, epoch: 2 | loss: 0.5498170\n",
      "\tspeed: 0.1469s/iter; left time: 622.4363s\n",
      "Epoch: 2 cost time: 154.92643928527832\n",
      "Epoch: 2, Steps: 1047 | Train Loss: 0.6386416 Vali Loss: 1.6893394 Test Loss: 1.2787203\n",
      "EarlyStopping counter: 1 out of 3\n",
      "Updating learning rate to 0.0025\n",
      "\titers: 100, epoch: 3 | loss: 0.5175053\n",
      "\tspeed: 1.6847s/iter; left time: 6888.5921s\n",
      "\titers: 200, epoch: 3 | loss: 0.6022375\n",
      "\tspeed: 0.1473s/iter; left time: 587.3996s\n",
      "\titers: 300, epoch: 3 | loss: 0.6408263\n",
      "\tspeed: 0.1517s/iter; left time: 590.0277s\n",
      "\titers: 400, epoch: 3 | loss: 0.5723646\n",
      "\tspeed: 0.1455s/iter; left time: 551.2822s\n",
      "\titers: 500, epoch: 3 | loss: 0.5327018\n",
      "\tspeed: 0.1399s/iter; left time: 516.1143s\n",
      "\titers: 600, epoch: 3 | loss: 0.5252399\n",
      "\tspeed: 0.1607s/iter; left time: 576.7242s\n",
      "\titers: 700, epoch: 3 | loss: 0.4986342\n",
      "\tspeed: 0.1403s/iter; left time: 489.3960s\n",
      "\titers: 800, epoch: 3 | loss: 0.5297511\n",
      "\tspeed: 0.1510s/iter; left time: 511.6597s\n",
      "\titers: 900, epoch: 3 | loss: 0.5903279\n",
      "\tspeed: 0.1398s/iter; left time: 459.8490s\n",
      "\titers: 1000, epoch: 3 | loss: 0.5201365\n",
      "\tspeed: 0.1489s/iter; left time: 474.9123s\n",
      "Epoch: 3 cost time: 154.41150069236755\n",
      "Epoch: 3, Steps: 1047 | Train Loss: 0.5684861 Vali Loss: 1.6469024 Test Loss: 1.2196445\n",
      "EarlyStopping counter: 2 out of 3\n",
      "Updating learning rate to 0.00125\n",
      "\titers: 100, epoch: 4 | loss: 0.5284405\n",
      "\tspeed: 1.6393s/iter; left time: 4986.7140s\n",
      "\titers: 200, epoch: 4 | loss: 0.5358553\n",
      "\tspeed: 0.1369s/iter; left time: 402.7108s\n",
      "\titers: 300, epoch: 4 | loss: 0.5697784\n",
      "\tspeed: 0.1440s/iter; left time: 409.3231s\n",
      "\titers: 400, epoch: 4 | loss: 0.5999961\n",
      "\tspeed: 0.1407s/iter; left time: 385.8768s\n",
      "\titers: 500, epoch: 4 | loss: 0.5356686\n",
      "\tspeed: 0.1474s/iter; left time: 389.5309s\n",
      "\titers: 600, epoch: 4 | loss: 0.5948466\n",
      "\tspeed: 0.1526s/iter; left time: 387.7835s\n",
      "\titers: 700, epoch: 4 | loss: 0.5372359\n",
      "\tspeed: 0.1440s/iter; left time: 351.6511s\n",
      "\titers: 800, epoch: 4 | loss: 0.5858248\n",
      "\tspeed: 0.1440s/iter; left time: 337.2441s\n",
      "\titers: 900, epoch: 4 | loss: 0.5631684\n",
      "\tspeed: 0.1461s/iter; left time: 327.4966s\n",
      "\titers: 1000, epoch: 4 | loss: 0.5792927\n",
      "\tspeed: 0.1462s/iter; left time: 313.0666s\n",
      "Epoch: 4 cost time: 152.16312408447266\n",
      "Epoch: 4, Steps: 1047 | Train Loss: 0.5489276 Vali Loss: 1.5967063 Test Loss: 1.2259222\n",
      "EarlyStopping counter: 3 out of 3\n",
      "Early stopping\n"
     ]
    },
    {
     "data": {
      "text/plain": [
       "Informer(\n",
       "  (enc_embedding): DataEmbedding(\n",
       "    (value_embedding): TokenEmbedding(\n",
       "      (tokenConv): Conv1d(7, 512, kernel_size=(3,), stride=(1,), padding=(1,), padding_mode=circular)\n",
       "    )\n",
       "    (position_embedding): PositionalEmbedding()\n",
       "    (temporal_embedding): TimeFeatureEmbedding(\n",
       "      (embed): Linear(in_features=4, out_features=512, bias=True)\n",
       "    )\n",
       "    (dropout): Dropout(p=0.05, inplace=False)\n",
       "  )\n",
       "  (dec_embedding): DataEmbedding(\n",
       "    (value_embedding): TokenEmbedding(\n",
       "      (tokenConv): Conv1d(7, 512, kernel_size=(3,), stride=(1,), padding=(1,), padding_mode=circular)\n",
       "    )\n",
       "    (position_embedding): PositionalEmbedding()\n",
       "    (temporal_embedding): TimeFeatureEmbedding(\n",
       "      (embed): Linear(in_features=4, out_features=512, bias=True)\n",
       "    )\n",
       "    (dropout): Dropout(p=0.05, inplace=False)\n",
       "  )\n",
       "  (encoder): Encoder(\n",
       "    (attn_layers): ModuleList(\n",
       "      (0): EncoderLayer(\n",
       "        (attention): AttentionLayer(\n",
       "          (inner_attention): ProbAttention(\n",
       "            (dropout): Dropout(p=0.05, inplace=False)\n",
       "          )\n",
       "          (query_projection): Linear(in_features=512, out_features=512, bias=True)\n",
       "          (key_projection): Linear(in_features=512, out_features=512, bias=True)\n",
       "          (value_projection): Linear(in_features=512, out_features=512, bias=True)\n",
       "          (out_projection): Linear(in_features=512, out_features=512, bias=True)\n",
       "        )\n",
       "        (conv1): Conv1d(512, 2048, kernel_size=(1,), stride=(1,))\n",
       "        (conv2): Conv1d(2048, 512, kernel_size=(1,), stride=(1,))\n",
       "        (norm1): LayerNorm((512,), eps=1e-05, elementwise_affine=True)\n",
       "        (norm2): LayerNorm((512,), eps=1e-05, elementwise_affine=True)\n",
       "        (dropout): Dropout(p=0.05, inplace=False)\n",
       "      )\n",
       "      (1): EncoderLayer(\n",
       "        (attention): AttentionLayer(\n",
       "          (inner_attention): ProbAttention(\n",
       "            (dropout): Dropout(p=0.05, inplace=False)\n",
       "          )\n",
       "          (query_projection): Linear(in_features=512, out_features=512, bias=True)\n",
       "          (key_projection): Linear(in_features=512, out_features=512, bias=True)\n",
       "          (value_projection): Linear(in_features=512, out_features=512, bias=True)\n",
       "          (out_projection): Linear(in_features=512, out_features=512, bias=True)\n",
       "        )\n",
       "        (conv1): Conv1d(512, 2048, kernel_size=(1,), stride=(1,))\n",
       "        (conv2): Conv1d(2048, 512, kernel_size=(1,), stride=(1,))\n",
       "        (norm1): LayerNorm((512,), eps=1e-05, elementwise_affine=True)\n",
       "        (norm2): LayerNorm((512,), eps=1e-05, elementwise_affine=True)\n",
       "        (dropout): Dropout(p=0.05, inplace=False)\n",
       "      )\n",
       "    )\n",
       "    (conv_layers): ModuleList(\n",
       "      (0): ConvLayer(\n",
       "        (downConv): Conv1d(512, 512, kernel_size=(3,), stride=(1,), padding=(1,), padding_mode=circular)\n",
       "        (norm): BatchNorm1d(512, eps=1e-05, momentum=0.1, affine=True, track_running_stats=True)\n",
       "        (activation): ELU(alpha=1.0)\n",
       "        (maxPool): MaxPool1d(kernel_size=3, stride=2, padding=1, dilation=1, ceil_mode=False)\n",
       "      )\n",
       "    )\n",
       "    (norm): LayerNorm((512,), eps=1e-05, elementwise_affine=True)\n",
       "  )\n",
       "  (decoder): Decoder(\n",
       "    (layers): ModuleList(\n",
       "      (0): DecoderLayer(\n",
       "        (self_attention): AttentionLayer(\n",
       "          (inner_attention): ProbAttention(\n",
       "            (dropout): Dropout(p=0.05, inplace=False)\n",
       "          )\n",
       "          (query_projection): Linear(in_features=512, out_features=512, bias=True)\n",
       "          (key_projection): Linear(in_features=512, out_features=512, bias=True)\n",
       "          (value_projection): Linear(in_features=512, out_features=512, bias=True)\n",
       "          (out_projection): Linear(in_features=512, out_features=512, bias=True)\n",
       "        )\n",
       "        (cross_attention): AttentionLayer(\n",
       "          (inner_attention): FullAttention(\n",
       "            (dropout): Dropout(p=0.05, inplace=False)\n",
       "          )\n",
       "          (query_projection): Linear(in_features=512, out_features=512, bias=True)\n",
       "          (key_projection): Linear(in_features=512, out_features=512, bias=True)\n",
       "          (value_projection): Linear(in_features=512, out_features=512, bias=True)\n",
       "          (out_projection): Linear(in_features=512, out_features=512, bias=True)\n",
       "        )\n",
       "        (conv1): Conv1d(512, 2048, kernel_size=(1,), stride=(1,))\n",
       "        (conv2): Conv1d(2048, 512, kernel_size=(1,), stride=(1,))\n",
       "        (norm1): LayerNorm((512,), eps=1e-05, elementwise_affine=True)\n",
       "        (norm2): LayerNorm((512,), eps=1e-05, elementwise_affine=True)\n",
       "        (norm3): LayerNorm((512,), eps=1e-05, elementwise_affine=True)\n",
       "        (dropout): Dropout(p=0.05, inplace=False)\n",
       "      )\n",
       "    )\n",
       "    (norm): LayerNorm((512,), eps=1e-05, elementwise_affine=True)\n",
       "  )\n",
       "  (projection): Linear(in_features=512, out_features=7, bias=True)\n",
       ")"
      ]
     },
     "execution_count": 46,
     "metadata": {},
     "output_type": "execute_result"
    }
   ],
   "source": [
    "Exp = Exp_Informer\n",
    "exp = Exp(args)\n",
    "exp.train(setting)"
   ]
  },
  {
   "cell_type": "markdown",
   "metadata": {},
   "source": [
    "### Testing"
   ]
  },
  {
   "cell_type": "code",
   "execution_count": 47,
   "metadata": {},
   "outputs": [
    {
     "name": "stdout",
     "output_type": "stream",
     "text": [
      "test 10801\n",
      "test shape: (337, 32, 720, 7) (337, 32, 720, 7)\n",
      "test shape: (10784, 720, 7) (10784, 720, 7)\n",
      "mse:1.3433761596679688, mae:0.947953999042511\n"
     ]
    }
   ],
   "source": [
    "exp.test(setting)\n",
    "torch.cuda.empty_cache()"
   ]
  },
  {
   "cell_type": "markdown",
   "metadata": {},
   "source": [
    "---\n",
    "## Compare Results of `ETTm1`with [Zeng · 2022](https://arxiv.org/abs/2205.13504) Paper"
   ]
  },
  {
   "cell_type": "code",
   "execution_count": 14,
   "metadata": {},
   "outputs": [
    {
     "data": {
      "image/png": "[encoded data removed]",
      "text/plain": [
       "<IPython.core.display.Image object>"
      ]
     },
     "execution_count": 14,
     "metadata": {},
     "output_type": "execute_result"
    }
   ],
   "source": [
    "from IPython.display import Image\n",
    "Image(filename=r\"./Images/Informer Results ETTm1.png\")"
   ]
  },
  {
   "cell_type": "markdown",
   "metadata": {},
   "source": [
    "#### **Experiment Results**:\n",
    "Comaparing my results with the paper resulted highlited in the image above.\n",
    "\n",
    "| Seq_len | MSE | MAE |\n",
    "|---|---|---|\n",
    "| 96 | 1.3374640941619873 | 0.9618014693260193 |\n",
    "| 192 | 1.2347673177719116 | 0.8905289173126221 |\n",
    "| 336 | 1.1492547988891602 | 0.8315280079841614 |\n",
    "| 720 | 1.132256031036377 | 0.8511157035827637 |"
   ]
  },
  {
   "cell_type": "markdown",
   "metadata": {},
   "source": [
    "---\n",
    "# Working on ETTm2 Dataset\n",
    "---"
   ]
  },
  {
   "cell_type": "markdown",
   "metadata": {},
   "source": [
    "## Trail 1: Informer, Dataset:ETTm2,  Metric: 96\n",
    "### Set hyperparameters\n",
    "Set some parameters (Args) for the our experiment like dictionary\n"
   ]
  },
  {
   "cell_type": "code",
   "execution_count": 48,
   "metadata": {
    "colab": {
     "base_uri": "https://localhost:8080/"
    },
    "id": "ywY-umrw-mHO",
    "outputId": "9b2e2e8e-7025-46e6-e2d7-2d8c9ceeb381"
   },
   "outputs": [
    {
     "name": "stdout",
     "output_type": "stream",
     "text": [
      "Hyperparameter Combination of informer_train_on_ETTm2_720:\n",
      "\n",
      "{'train_only': True, 'model': 'informer', 'use_multi_gpu': False, 'use_gpu': True, 'learning_rate': 0.005, 'pred_len': 720, 'label_len': 48, 'use_amp': False, 'output_attention': False, 'features': 'M', 'checkpoints': './Checkpoints/Informer_checkpoints', 'patience': 3, 'train_epochs': 6, 'freq': 'h', 'seq_len': 96, 'data': 'ETTm2', 'root_path': './Datasets/', 'data_path': 'ETTm2.csv', 'target': 'OT', 'enc_in': 7, 'dec_in': 7, 'c_out': 7, 'factor': 5, 'd_model': 512, 'n_heads': 8, 'e_layers': 2, 'd_layers': 1, 'd_ff': 2048, 'dropout': 0.05, 'attn': 'prob', 'embed': 'timeF', 'activation': 'gelu', 'distil': True, 'mix': True, 'padding': 0, 'batch_size': 32, 'loss': 'mse', 'lradj': 'type1', 'num_workers': 0, 'itr': 1, 'des': 'exp', 'gpu': 0, 'devices': '0,1,2,3'}\n"
     ]
    }
   ],
   "source": [
    "args.data = 'ETTm2'            # dataset name\n",
    "args.data_path = 'ETTm2.csv'   # data file\n",
    "args.seq_len = 96\n",
    "\n",
    "setting=f'{args.model}_train_on_{args.data}_{args.pred_len}'\n",
    "print(f\"Hyperparameter Combination of {setting}:\\n\") \n",
    "print(args)"
   ]
  },
  {
   "cell_type": "markdown",
   "metadata": {},
   "source": [
    "### Training"
   ]
  },
  {
   "cell_type": "code",
   "execution_count": 49,
   "metadata": {
    "collapsed": true,
    "jupyter": {
     "outputs_hidden": true
    }
   },
   "outputs": [
    {
     "name": "stdout",
     "output_type": "stream",
     "text": [
      "Use GPU: cuda:0\n",
      "train 33745\n",
      "val 10801\n",
      "test 10801\n",
      "\titers: 100, epoch: 1 | loss: 0.7926679\n",
      "\tspeed: 0.1188s/iter; left time: 739.3994s\n",
      "\titers: 200, epoch: 1 | loss: 0.5977684\n",
      "\tspeed: 0.1214s/iter; left time: 743.3490s\n",
      "\titers: 300, epoch: 1 | loss: 0.4614437\n",
      "\tspeed: 0.1206s/iter; left time: 726.8886s\n",
      "\titers: 400, epoch: 1 | loss: 0.5025269\n",
      "\tspeed: 0.1186s/iter; left time: 702.6574s\n",
      "\titers: 500, epoch: 1 | loss: 0.6287920\n",
      "\tspeed: 0.1144s/iter; left time: 666.5848s\n",
      "\titers: 600, epoch: 1 | loss: 0.7013958\n",
      "\tspeed: 0.1153s/iter; left time: 659.8820s\n",
      "\titers: 700, epoch: 1 | loss: 1.1575184\n",
      "\tspeed: 0.1187s/iter; left time: 667.7247s\n",
      "\titers: 800, epoch: 1 | loss: 0.5701699\n",
      "\tspeed: 0.1106s/iter; left time: 611.1074s\n",
      "\titers: 900, epoch: 1 | loss: 0.6793662\n",
      "\tspeed: 0.1214s/iter; left time: 658.5534s\n",
      "\titers: 1000, epoch: 1 | loss: 0.6763350\n",
      "\tspeed: 0.1130s/iter; left time: 601.7090s\n",
      "Epoch: 1 cost time: 124.19923281669617\n",
      "Epoch: 1, Steps: 1054 | Train Loss: 0.7506016 Vali Loss: 2.7725163 Test Loss: 4.0745211\n",
      "Validation loss decreased (inf --> 2.772516).  Saving model ...\n",
      "Updating learning rate to 0.005\n",
      "\titers: 100, epoch: 2 | loss: 0.5857893\n",
      "\tspeed: 1.7920s/iter; left time: 9266.5828s\n",
      "\titers: 200, epoch: 2 | loss: 0.4502081\n",
      "\tspeed: 0.1290s/iter; left time: 654.0262s\n",
      "\titers: 300, epoch: 2 | loss: 0.5987810\n",
      "\tspeed: 0.1186s/iter; left time: 589.3354s\n",
      "\titers: 400, epoch: 2 | loss: 0.9015040\n",
      "\tspeed: 0.1165s/iter; left time: 567.4318s\n",
      "\titers: 500, epoch: 2 | loss: 0.9819612\n",
      "\tspeed: 0.1160s/iter; left time: 553.2223s\n",
      "\titers: 600, epoch: 2 | loss: 0.6958325\n",
      "\tspeed: 0.1186s/iter; left time: 553.9817s\n",
      "\titers: 700, epoch: 2 | loss: 0.5030475\n",
      "\tspeed: 0.1214s/iter; left time: 554.8909s\n",
      "\titers: 800, epoch: 2 | loss: 0.4232029\n",
      "\tspeed: 0.1237s/iter; left time: 552.8956s\n",
      "\titers: 900, epoch: 2 | loss: 0.5087777\n",
      "\tspeed: 0.1244s/iter; left time: 543.6001s\n",
      "\titers: 1000, epoch: 2 | loss: 0.4251533\n",
      "\tspeed: 0.1261s/iter; left time: 538.5381s\n",
      "Epoch: 2 cost time: 127.6238751411438\n",
      "Epoch: 2, Steps: 1054 | Train Loss: 0.5719110 Vali Loss: 2.1243296 Test Loss: 3.9367416\n",
      "Validation loss decreased (2.772516 --> 2.124330).  Saving model ...\n",
      "Updating learning rate to 0.0025\n",
      "\titers: 100, epoch: 3 | loss: 0.7145482\n",
      "\tspeed: 1.7777s/iter; left time: 7318.7183s\n",
      "\titers: 200, epoch: 3 | loss: 0.4289113\n",
      "\tspeed: 0.1168s/iter; left time: 469.2492s\n",
      "\titers: 300, epoch: 3 | loss: 0.4234081\n",
      "\tspeed: 0.1174s/iter; left time: 459.8283s\n",
      "\titers: 400, epoch: 3 | loss: 0.3808978\n",
      "\tspeed: 0.1150s/iter; left time: 438.9293s\n",
      "\titers: 500, epoch: 3 | loss: 0.5918937\n",
      "\tspeed: 0.1288s/iter; left time: 478.7086s\n",
      "\titers: 600, epoch: 3 | loss: 0.3469522\n",
      "\tspeed: 0.1189s/iter; left time: 430.1275s\n",
      "\titers: 700, epoch: 3 | loss: 0.3778451\n",
      "\tspeed: 0.1323s/iter; left time: 465.3982s\n",
      "\titers: 800, epoch: 3 | loss: 0.4918630\n",
      "\tspeed: 0.1222s/iter; left time: 417.5210s\n",
      "\titers: 900, epoch: 3 | loss: 0.3426858\n",
      "\tspeed: 0.1204s/iter; left time: 399.3729s\n",
      "\titers: 1000, epoch: 3 | loss: 0.4360400\n",
      "\tspeed: 0.1164s/iter; left time: 374.4747s\n",
      "Epoch: 3 cost time: 128.31346607208252\n",
      "Epoch: 3, Steps: 1054 | Train Loss: 0.4319784 Vali Loss: 1.1051478 Test Loss: 2.3465555\n",
      "Validation loss decreased (2.124330 --> 1.105148).  Saving model ...\n",
      "Updating learning rate to 0.00125\n",
      "\titers: 100, epoch: 4 | loss: 0.3899623\n",
      "\tspeed: 1.8180s/iter; left time: 5568.5833s\n",
      "\titers: 200, epoch: 4 | loss: 0.5199394\n",
      "\tspeed: 0.1159s/iter; left time: 343.5570s\n",
      "\titers: 300, epoch: 4 | loss: 0.3809938\n",
      "\tspeed: 0.1221s/iter; left time: 349.4369s\n",
      "\titers: 400, epoch: 4 | loss: 0.3594415\n",
      "\tspeed: 0.1209s/iter; left time: 334.1763s\n",
      "\titers: 500, epoch: 4 | loss: 0.2644412\n",
      "\tspeed: 0.1223s/iter; left time: 325.6381s\n",
      "\titers: 600, epoch: 4 | loss: 0.3585347\n",
      "\tspeed: 0.1347s/iter; left time: 345.2799s\n",
      "\titers: 700, epoch: 4 | loss: 0.3335389\n",
      "\tspeed: 0.1230s/iter; left time: 302.9536s\n",
      "\titers: 800, epoch: 4 | loss: 0.5150560\n",
      "\tspeed: 0.1220s/iter; left time: 288.2722s\n",
      "\titers: 900, epoch: 4 | loss: 0.2975655\n",
      "\tspeed: 0.1188s/iter; left time: 268.9395s\n",
      "\titers: 1000, epoch: 4 | loss: 0.5009260\n",
      "\tspeed: 0.1164s/iter; left time: 251.7805s\n",
      "Epoch: 4 cost time: 128.2203187942505\n",
      "Epoch: 4, Steps: 1054 | Train Loss: 0.3999501 Vali Loss: 1.6716725 Test Loss: 3.2149339\n",
      "EarlyStopping counter: 1 out of 3\n",
      "Updating learning rate to 0.000625\n",
      "\titers: 100, epoch: 5 | loss: 0.3650638\n",
      "\tspeed: 1.8408s/iter; left time: 3698.0959s\n",
      "\titers: 200, epoch: 5 | loss: 0.4587609\n",
      "\tspeed: 0.1248s/iter; left time: 238.2388s\n",
      "\titers: 300, epoch: 5 | loss: 0.3502313\n",
      "\tspeed: 0.1232s/iter; left time: 222.9353s\n",
      "\titers: 400, epoch: 5 | loss: 0.3211382\n",
      "\tspeed: 0.1120s/iter; left time: 191.3347s\n",
      "\titers: 500, epoch: 5 | loss: 0.3522935\n",
      "\tspeed: 0.1267s/iter; left time: 203.8189s\n",
      "\titers: 600, epoch: 5 | loss: 0.2222230\n",
      "\tspeed: 0.1183s/iter; left time: 178.5571s\n",
      "\titers: 700, epoch: 5 | loss: 0.2790790\n",
      "\tspeed: 0.1140s/iter; left time: 160.6353s\n",
      "\titers: 800, epoch: 5 | loss: 0.3697548\n",
      "\tspeed: 0.1230s/iter; left time: 160.9889s\n",
      "\titers: 900, epoch: 5 | loss: 0.2967202\n",
      "\tspeed: 0.1210s/iter; left time: 146.2962s\n",
      "\titers: 1000, epoch: 5 | loss: 0.5041964\n",
      "\tspeed: 0.1231s/iter; left time: 136.5360s\n",
      "Epoch: 5 cost time: 126.90850782394409\n",
      "Epoch: 5, Steps: 1054 | Train Loss: 0.3926598 Vali Loss: 1.2820075 Test Loss: 2.9202964\n",
      "EarlyStopping counter: 2 out of 3\n",
      "Updating learning rate to 0.0003125\n",
      "\titers: 100, epoch: 6 | loss: 0.2806792\n",
      "\tspeed: 1.8119s/iter; left time: 1730.3514s\n",
      "\titers: 200, epoch: 6 | loss: 0.3509619\n",
      "\tspeed: 0.1201s/iter; left time: 102.7092s\n",
      "\titers: 300, epoch: 6 | loss: 0.4064264\n",
      "\tspeed: 0.1167s/iter; left time: 88.0720s\n",
      "\titers: 400, epoch: 6 | loss: 0.3472665\n",
      "\tspeed: 0.1222s/iter; left time: 80.0583s\n",
      "\titers: 500, epoch: 6 | loss: 0.4553335\n",
      "\tspeed: 0.1294s/iter; left time: 71.8400s\n",
      "\titers: 600, epoch: 6 | loss: 0.2909149\n",
      "\tspeed: 0.1186s/iter; left time: 53.9422s\n",
      "\titers: 700, epoch: 6 | loss: 0.3859291\n",
      "\tspeed: 0.1110s/iter; left time: 39.4128s\n",
      "\titers: 800, epoch: 6 | loss: 0.3276455\n",
      "\tspeed: 0.1233s/iter; left time: 31.4320s\n",
      "\titers: 900, epoch: 6 | loss: 0.3813518\n",
      "\tspeed: 0.1264s/iter; left time: 19.5903s\n",
      "\titers: 1000, epoch: 6 | loss: 0.2999717\n",
      "\tspeed: 0.1213s/iter; left time: 6.6726s\n",
      "Epoch: 6 cost time: 128.2343876361847\n",
      "Epoch: 6, Steps: 1054 | Train Loss: 0.3839390 Vali Loss: 1.5949584 Test Loss: 3.2348785\n",
      "EarlyStopping counter: 3 out of 3\n",
      "Early stopping\n"
     ]
    },
    {
     "data": {
      "text/plain": [
       "Informer(\n",
       "  (enc_embedding): DataEmbedding(\n",
       "    (value_embedding): TokenEmbedding(\n",
       "      (tokenConv): Conv1d(7, 512, kernel_size=(3,), stride=(1,), padding=(1,), padding_mode=circular)\n",
       "    )\n",
       "    (position_embedding): PositionalEmbedding()\n",
       "    (temporal_embedding): TimeFeatureEmbedding(\n",
       "      (embed): Linear(in_features=4, out_features=512, bias=True)\n",
       "    )\n",
       "    (dropout): Dropout(p=0.05, inplace=False)\n",
       "  )\n",
       "  (dec_embedding): DataEmbedding(\n",
       "    (value_embedding): TokenEmbedding(\n",
       "      (tokenConv): Conv1d(7, 512, kernel_size=(3,), stride=(1,), padding=(1,), padding_mode=circular)\n",
       "    )\n",
       "    (position_embedding): PositionalEmbedding()\n",
       "    (temporal_embedding): TimeFeatureEmbedding(\n",
       "      (embed): Linear(in_features=4, out_features=512, bias=True)\n",
       "    )\n",
       "    (dropout): Dropout(p=0.05, inplace=False)\n",
       "  )\n",
       "  (encoder): Encoder(\n",
       "    (attn_layers): ModuleList(\n",
       "      (0): EncoderLayer(\n",
       "        (attention): AttentionLayer(\n",
       "          (inner_attention): ProbAttention(\n",
       "            (dropout): Dropout(p=0.05, inplace=False)\n",
       "          )\n",
       "          (query_projection): Linear(in_features=512, out_features=512, bias=True)\n",
       "          (key_projection): Linear(in_features=512, out_features=512, bias=True)\n",
       "          (value_projection): Linear(in_features=512, out_features=512, bias=True)\n",
       "          (out_projection): Linear(in_features=512, out_features=512, bias=True)\n",
       "        )\n",
       "        (conv1): Conv1d(512, 2048, kernel_size=(1,), stride=(1,))\n",
       "        (conv2): Conv1d(2048, 512, kernel_size=(1,), stride=(1,))\n",
       "        (norm1): LayerNorm((512,), eps=1e-05, elementwise_affine=True)\n",
       "        (norm2): LayerNorm((512,), eps=1e-05, elementwise_affine=True)\n",
       "        (dropout): Dropout(p=0.05, inplace=False)\n",
       "      )\n",
       "      (1): EncoderLayer(\n",
       "        (attention): AttentionLayer(\n",
       "          (inner_attention): ProbAttention(\n",
       "            (dropout): Dropout(p=0.05, inplace=False)\n",
       "          )\n",
       "          (query_projection): Linear(in_features=512, out_features=512, bias=True)\n",
       "          (key_projection): Linear(in_features=512, out_features=512, bias=True)\n",
       "          (value_projection): Linear(in_features=512, out_features=512, bias=True)\n",
       "          (out_projection): Linear(in_features=512, out_features=512, bias=True)\n",
       "        )\n",
       "        (conv1): Conv1d(512, 2048, kernel_size=(1,), stride=(1,))\n",
       "        (conv2): Conv1d(2048, 512, kernel_size=(1,), stride=(1,))\n",
       "        (norm1): LayerNorm((512,), eps=1e-05, elementwise_affine=True)\n",
       "        (norm2): LayerNorm((512,), eps=1e-05, elementwise_affine=True)\n",
       "        (dropout): Dropout(p=0.05, inplace=False)\n",
       "      )\n",
       "    )\n",
       "    (conv_layers): ModuleList(\n",
       "      (0): ConvLayer(\n",
       "        (downConv): Conv1d(512, 512, kernel_size=(3,), stride=(1,), padding=(1,), padding_mode=circular)\n",
       "        (norm): BatchNorm1d(512, eps=1e-05, momentum=0.1, affine=True, track_running_stats=True)\n",
       "        (activation): ELU(alpha=1.0)\n",
       "        (maxPool): MaxPool1d(kernel_size=3, stride=2, padding=1, dilation=1, ceil_mode=False)\n",
       "      )\n",
       "    )\n",
       "    (norm): LayerNorm((512,), eps=1e-05, elementwise_affine=True)\n",
       "  )\n",
       "  (decoder): Decoder(\n",
       "    (layers): ModuleList(\n",
       "      (0): DecoderLayer(\n",
       "        (self_attention): AttentionLayer(\n",
       "          (inner_attention): ProbAttention(\n",
       "            (dropout): Dropout(p=0.05, inplace=False)\n",
       "          )\n",
       "          (query_projection): Linear(in_features=512, out_features=512, bias=True)\n",
       "          (key_projection): Linear(in_features=512, out_features=512, bias=True)\n",
       "          (value_projection): Linear(in_features=512, out_features=512, bias=True)\n",
       "          (out_projection): Linear(in_features=512, out_features=512, bias=True)\n",
       "        )\n",
       "        (cross_attention): AttentionLayer(\n",
       "          (inner_attention): FullAttention(\n",
       "            (dropout): Dropout(p=0.05, inplace=False)\n",
       "          )\n",
       "          (query_projection): Linear(in_features=512, out_features=512, bias=True)\n",
       "          (key_projection): Linear(in_features=512, out_features=512, bias=True)\n",
       "          (value_projection): Linear(in_features=512, out_features=512, bias=True)\n",
       "          (out_projection): Linear(in_features=512, out_features=512, bias=True)\n",
       "        )\n",
       "        (conv1): Conv1d(512, 2048, kernel_size=(1,), stride=(1,))\n",
       "        (conv2): Conv1d(2048, 512, kernel_size=(1,), stride=(1,))\n",
       "        (norm1): LayerNorm((512,), eps=1e-05, elementwise_affine=True)\n",
       "        (norm2): LayerNorm((512,), eps=1e-05, elementwise_affine=True)\n",
       "        (norm3): LayerNorm((512,), eps=1e-05, elementwise_affine=True)\n",
       "        (dropout): Dropout(p=0.05, inplace=False)\n",
       "      )\n",
       "    )\n",
       "    (norm): LayerNorm((512,), eps=1e-05, elementwise_affine=True)\n",
       "  )\n",
       "  (projection): Linear(in_features=512, out_features=7, bias=True)\n",
       ")"
      ]
     },
     "execution_count": 49,
     "metadata": {},
     "output_type": "execute_result"
    }
   ],
   "source": [
    "Exp = Exp_Informer\n",
    "exp = Exp(args)\n",
    "exp.train(setting)"
   ]
  },
  {
   "cell_type": "markdown",
   "metadata": {},
   "source": [
    "### Testing"
   ]
  },
  {
   "cell_type": "code",
   "execution_count": 50,
   "metadata": {},
   "outputs": [
    {
     "name": "stdout",
     "output_type": "stream",
     "text": [
      "test 10801\n",
      "test shape: (337, 32, 720, 7) (337, 32, 720, 7)\n",
      "test shape: (10784, 720, 7) (10784, 720, 7)\n",
      "mse:2.346555233001709, mae:1.2665212154388428\n"
     ]
    }
   ],
   "source": [
    "exp.test(setting)\n",
    "torch.cuda.empty_cache()"
   ]
  },
  {
   "cell_type": "markdown",
   "metadata": {},
   "source": [
    "---\n",
    "## Trail 2: Informer, Dataset:ETTm2,  Metric: 192\n",
    "### Set hyperparameters\n",
    "Set some parameters (Args) for the our experiment like dictionary\n"
   ]
  },
  {
   "cell_type": "code",
   "execution_count": 51,
   "metadata": {
    "colab": {
     "base_uri": "https://localhost:8080/"
    },
    "id": "ywY-umrw-mHO",
    "outputId": "9b2e2e8e-7025-46e6-e2d7-2d8c9ceeb381"
   },
   "outputs": [
    {
     "name": "stdout",
     "output_type": "stream",
     "text": [
      "Hyperparameter Combination of informer_train_on_ETTm2_192:\n",
      "\n",
      "{'train_only': True, 'model': 'informer', 'use_multi_gpu': False, 'use_gpu': True, 'learning_rate': 0.005, 'pred_len': 192, 'label_len': 48, 'use_amp': False, 'output_attention': False, 'features': 'M', 'checkpoints': './Checkpoints/Informer_checkpoints', 'patience': 3, 'train_epochs': 6, 'freq': 'h', 'seq_len': 96, 'data': 'ETTm2', 'root_path': './Datasets/', 'data_path': 'ETTm2.csv', 'target': 'OT', 'enc_in': 7, 'dec_in': 7, 'c_out': 7, 'factor': 5, 'd_model': 512, 'n_heads': 8, 'e_layers': 2, 'd_layers': 1, 'd_ff': 2048, 'dropout': 0.05, 'attn': 'prob', 'embed': 'timeF', 'activation': 'gelu', 'distil': True, 'mix': True, 'padding': 0, 'batch_size': 32, 'loss': 'mse', 'lradj': 'type1', 'num_workers': 0, 'itr': 1, 'des': 'exp', 'gpu': 0, 'devices': '0,1,2,3'}\n"
     ]
    }
   ],
   "source": [
    "args.pred_len = 192\n",
    "\n",
    "setting=f'{args.model}_train_on_{args.data}_{args.pred_len}'\n",
    "print(f\"Hyperparameter Combination of {setting}:\\n\") \n",
    "print(args)"
   ]
  },
  {
   "cell_type": "markdown",
   "metadata": {},
   "source": [
    "### Training"
   ]
  },
  {
   "cell_type": "code",
   "execution_count": 52,
   "metadata": {
    "collapsed": true,
    "jupyter": {
     "outputs_hidden": true
    }
   },
   "outputs": [
    {
     "name": "stdout",
     "output_type": "stream",
     "text": [
      "Use GPU: cuda:0\n",
      "train 34273\n",
      "val 11329\n",
      "test 11329\n",
      "\titers: 100, epoch: 1 | loss: 0.6489193\n",
      "\tspeed: 0.1125s/iter; left time: 711.5055s\n",
      "\titers: 200, epoch: 1 | loss: 0.6470139\n",
      "\tspeed: 0.1170s/iter; left time: 728.3399s\n",
      "\titers: 300, epoch: 1 | loss: 0.3810942\n",
      "\tspeed: 0.1241s/iter; left time: 760.1455s\n",
      "\titers: 400, epoch: 1 | loss: 0.6210093\n",
      "\tspeed: 0.1229s/iter; left time: 740.4696s\n",
      "\titers: 500, epoch: 1 | loss: 0.3700991\n",
      "\tspeed: 0.1143s/iter; left time: 677.7167s\n",
      "\titers: 600, epoch: 1 | loss: 0.2946611\n",
      "\tspeed: 0.1166s/iter; left time: 679.1960s\n",
      "\titers: 700, epoch: 1 | loss: 0.2629346\n",
      "\tspeed: 0.1145s/iter; left time: 655.7049s\n",
      "\titers: 800, epoch: 1 | loss: 0.4912150\n",
      "\tspeed: 0.1189s/iter; left time: 669.1773s\n",
      "\titers: 900, epoch: 1 | loss: 0.4060704\n",
      "\tspeed: 0.1218s/iter; left time: 673.4116s\n",
      "\titers: 1000, epoch: 1 | loss: 0.6790302\n",
      "\tspeed: 0.1167s/iter; left time: 633.5668s\n",
      "Epoch: 1 cost time: 126.35141038894653\n",
      "Epoch: 1, Steps: 1071 | Train Loss: 0.5916986 Vali Loss: 1.4090847 Test Loss: 2.8266659\n",
      "Validation loss decreased (inf --> 1.409085).  Saving model ...\n",
      "Updating learning rate to 0.005\n",
      "\titers: 100, epoch: 2 | loss: 0.4404696\n",
      "\tspeed: 1.7244s/iter; left time: 9063.6875s\n",
      "\titers: 200, epoch: 2 | loss: 0.4049934\n",
      "\tspeed: 0.1246s/iter; left time: 642.2124s\n",
      "\titers: 300, epoch: 2 | loss: 0.5362064\n",
      "\tspeed: 0.1184s/iter; left time: 598.4954s\n",
      "\titers: 400, epoch: 2 | loss: 0.6490138\n",
      "\tspeed: 0.1230s/iter; left time: 609.5508s\n",
      "\titers: 500, epoch: 2 | loss: 0.2582732\n",
      "\tspeed: 0.1212s/iter; left time: 588.5775s\n",
      "\titers: 600, epoch: 2 | loss: 0.3946025\n",
      "\tspeed: 0.1224s/iter; left time: 582.2368s\n",
      "\titers: 700, epoch: 2 | loss: 0.3452643\n",
      "\tspeed: 0.1230s/iter; left time: 572.6983s\n",
      "\titers: 800, epoch: 2 | loss: 0.3301604\n",
      "\tspeed: 0.1244s/iter; left time: 566.5792s\n",
      "\titers: 900, epoch: 2 | loss: 0.3513964\n",
      "\tspeed: 0.1276s/iter; left time: 568.7820s\n",
      "\titers: 1000, epoch: 2 | loss: 0.5162747\n",
      "\tspeed: 0.1205s/iter; left time: 524.6851s\n",
      "Epoch: 2 cost time: 131.09457421302795\n",
      "Epoch: 2, Steps: 1071 | Train Loss: 0.3784039 Vali Loss: 1.0384389 Test Loss: 2.2089844\n",
      "Validation loss decreased (1.409085 --> 1.038439).  Saving model ...\n",
      "Updating learning rate to 0.0025\n",
      "\titers: 100, epoch: 3 | loss: 0.2676720\n",
      "\tspeed: 1.6386s/iter; left time: 6857.3487s\n",
      "\titers: 200, epoch: 3 | loss: 0.3326065\n",
      "\tspeed: 0.1241s/iter; left time: 507.1228s\n",
      "\titers: 300, epoch: 3 | loss: 0.2075056\n",
      "\tspeed: 0.1183s/iter; left time: 471.2707s\n",
      "\titers: 400, epoch: 3 | loss: 0.4722036\n",
      "\tspeed: 0.1179s/iter; left time: 457.9023s\n",
      "\titers: 500, epoch: 3 | loss: 0.3218244\n",
      "\tspeed: 0.1229s/iter; left time: 465.3303s\n",
      "\titers: 600, epoch: 3 | loss: 0.2319784\n",
      "\tspeed: 0.1260s/iter; left time: 464.3637s\n",
      "\titers: 700, epoch: 3 | loss: 0.3601615\n",
      "\tspeed: 0.1211s/iter; left time: 434.2841s\n",
      "\titers: 800, epoch: 3 | loss: 0.3928882\n",
      "\tspeed: 0.1308s/iter; left time: 455.8760s\n",
      "\titers: 900, epoch: 3 | loss: 0.2014391\n",
      "\tspeed: 0.1249s/iter; left time: 422.6200s\n",
      "\titers: 1000, epoch: 3 | loss: 0.2538182\n",
      "\tspeed: 0.1234s/iter; left time: 405.2089s\n",
      "Epoch: 3 cost time: 131.78888201713562\n",
      "Epoch: 3, Steps: 1071 | Train Loss: 0.3371847 Vali Loss: 1.1514364 Test Loss: 2.5758843\n",
      "EarlyStopping counter: 1 out of 3\n",
      "Updating learning rate to 0.00125\n",
      "\titers: 100, epoch: 4 | loss: 0.2662976\n",
      "\tspeed: 1.7010s/iter; left time: 5296.8940s\n",
      "\titers: 200, epoch: 4 | loss: 0.2538962\n",
      "\tspeed: 0.1200s/iter; left time: 361.6716s\n",
      "\titers: 300, epoch: 4 | loss: 0.2501953\n",
      "\tspeed: 0.1190s/iter; left time: 346.8239s\n",
      "\titers: 400, epoch: 4 | loss: 0.5472877\n",
      "\tspeed: 0.1168s/iter; left time: 328.5504s\n",
      "\titers: 500, epoch: 4 | loss: 0.3831836\n",
      "\tspeed: 0.1202s/iter; left time: 326.3303s\n",
      "\titers: 600, epoch: 4 | loss: 0.3080731\n",
      "\tspeed: 0.1178s/iter; left time: 307.9675s\n",
      "\titers: 700, epoch: 4 | loss: 0.2668731\n",
      "\tspeed: 0.1242s/iter; left time: 312.1531s\n",
      "\titers: 800, epoch: 4 | loss: 0.2414936\n",
      "\tspeed: 0.1239s/iter; left time: 298.9872s\n",
      "\titers: 900, epoch: 4 | loss: 0.2843160\n",
      "\tspeed: 0.1158s/iter; left time: 267.9090s\n",
      "\titers: 1000, epoch: 4 | loss: 0.3868317\n",
      "\tspeed: 0.1144s/iter; left time: 253.2827s\n",
      "Epoch: 4 cost time: 127.40283608436584\n",
      "Epoch: 4, Steps: 1071 | Train Loss: 0.3030828 Vali Loss: 1.4718847 Test Loss: 2.7551312\n",
      "EarlyStopping counter: 2 out of 3\n",
      "Updating learning rate to 0.000625\n",
      "\titers: 100, epoch: 5 | loss: 0.3105300\n",
      "\tspeed: 1.7570s/iter; left time: 3589.4703s\n",
      "\titers: 200, epoch: 5 | loss: 0.2222699\n",
      "\tspeed: 0.1176s/iter; left time: 228.5750s\n",
      "\titers: 300, epoch: 5 | loss: 0.3414028\n",
      "\tspeed: 0.1173s/iter; left time: 216.2621s\n",
      "\titers: 400, epoch: 5 | loss: 0.2570599\n",
      "\tspeed: 0.1167s/iter; left time: 203.4396s\n",
      "\titers: 500, epoch: 5 | loss: 0.2230636\n",
      "\tspeed: 0.1183s/iter; left time: 194.3499s\n",
      "\titers: 600, epoch: 5 | loss: 0.2564856\n",
      "\tspeed: 0.1246s/iter; left time: 192.3327s\n",
      "\titers: 700, epoch: 5 | loss: 0.3927548\n",
      "\tspeed: 0.1233s/iter; left time: 177.9876s\n",
      "\titers: 800, epoch: 5 | loss: 0.3914490\n",
      "\tspeed: 0.1219s/iter; left time: 163.6641s\n",
      "\titers: 900, epoch: 5 | loss: 0.3956743\n",
      "\tspeed: 0.1209s/iter; left time: 150.2971s\n",
      "\titers: 1000, epoch: 5 | loss: 0.2363635\n",
      "\tspeed: 0.1261s/iter; left time: 144.0778s\n",
      "Epoch: 5 cost time: 129.96072721481323\n",
      "Epoch: 5, Steps: 1071 | Train Loss: 0.2897667 Vali Loss: 1.2401067 Test Loss: 2.7322223\n",
      "EarlyStopping counter: 3 out of 3\n",
      "Early stopping\n"
     ]
    },
    {
     "data": {
      "text/plain": [
       "Informer(\n",
       "  (enc_embedding): DataEmbedding(\n",
       "    (value_embedding): TokenEmbedding(\n",
       "      (tokenConv): Conv1d(7, 512, kernel_size=(3,), stride=(1,), padding=(1,), padding_mode=circular)\n",
       "    )\n",
       "    (position_embedding): PositionalEmbedding()\n",
       "    (temporal_embedding): TimeFeatureEmbedding(\n",
       "      (embed): Linear(in_features=4, out_features=512, bias=True)\n",
       "    )\n",
       "    (dropout): Dropout(p=0.05, inplace=False)\n",
       "  )\n",
       "  (dec_embedding): DataEmbedding(\n",
       "    (value_embedding): TokenEmbedding(\n",
       "      (tokenConv): Conv1d(7, 512, kernel_size=(3,), stride=(1,), padding=(1,), padding_mode=circular)\n",
       "    )\n",
       "    (position_embedding): PositionalEmbedding()\n",
       "    (temporal_embedding): TimeFeatureEmbedding(\n",
       "      (embed): Linear(in_features=4, out_features=512, bias=True)\n",
       "    )\n",
       "    (dropout): Dropout(p=0.05, inplace=False)\n",
       "  )\n",
       "  (encoder): Encoder(\n",
       "    (attn_layers): ModuleList(\n",
       "      (0): EncoderLayer(\n",
       "        (attention): AttentionLayer(\n",
       "          (inner_attention): ProbAttention(\n",
       "            (dropout): Dropout(p=0.05, inplace=False)\n",
       "          )\n",
       "          (query_projection): Linear(in_features=512, out_features=512, bias=True)\n",
       "          (key_projection): Linear(in_features=512, out_features=512, bias=True)\n",
       "          (value_projection): Linear(in_features=512, out_features=512, bias=True)\n",
       "          (out_projection): Linear(in_features=512, out_features=512, bias=True)\n",
       "        )\n",
       "        (conv1): Conv1d(512, 2048, kernel_size=(1,), stride=(1,))\n",
       "        (conv2): Conv1d(2048, 512, kernel_size=(1,), stride=(1,))\n",
       "        (norm1): LayerNorm((512,), eps=1e-05, elementwise_affine=True)\n",
       "        (norm2): LayerNorm((512,), eps=1e-05, elementwise_affine=True)\n",
       "        (dropout): Dropout(p=0.05, inplace=False)\n",
       "      )\n",
       "      (1): EncoderLayer(\n",
       "        (attention): AttentionLayer(\n",
       "          (inner_attention): ProbAttention(\n",
       "            (dropout): Dropout(p=0.05, inplace=False)\n",
       "          )\n",
       "          (query_projection): Linear(in_features=512, out_features=512, bias=True)\n",
       "          (key_projection): Linear(in_features=512, out_features=512, bias=True)\n",
       "          (value_projection): Linear(in_features=512, out_features=512, bias=True)\n",
       "          (out_projection): Linear(in_features=512, out_features=512, bias=True)\n",
       "        )\n",
       "        (conv1): Conv1d(512, 2048, kernel_size=(1,), stride=(1,))\n",
       "        (conv2): Conv1d(2048, 512, kernel_size=(1,), stride=(1,))\n",
       "        (norm1): LayerNorm((512,), eps=1e-05, elementwise_affine=True)\n",
       "        (norm2): LayerNorm((512,), eps=1e-05, elementwise_affine=True)\n",
       "        (dropout): Dropout(p=0.05, inplace=False)\n",
       "      )\n",
       "    )\n",
       "    (conv_layers): ModuleList(\n",
       "      (0): ConvLayer(\n",
       "        (downConv): Conv1d(512, 512, kernel_size=(3,), stride=(1,), padding=(1,), padding_mode=circular)\n",
       "        (norm): BatchNorm1d(512, eps=1e-05, momentum=0.1, affine=True, track_running_stats=True)\n",
       "        (activation): ELU(alpha=1.0)\n",
       "        (maxPool): MaxPool1d(kernel_size=3, stride=2, padding=1, dilation=1, ceil_mode=False)\n",
       "      )\n",
       "    )\n",
       "    (norm): LayerNorm((512,), eps=1e-05, elementwise_affine=True)\n",
       "  )\n",
       "  (decoder): Decoder(\n",
       "    (layers): ModuleList(\n",
       "      (0): DecoderLayer(\n",
       "        (self_attention): AttentionLayer(\n",
       "          (inner_attention): ProbAttention(\n",
       "            (dropout): Dropout(p=0.05, inplace=False)\n",
       "          )\n",
       "          (query_projection): Linear(in_features=512, out_features=512, bias=True)\n",
       "          (key_projection): Linear(in_features=512, out_features=512, bias=True)\n",
       "          (value_projection): Linear(in_features=512, out_features=512, bias=True)\n",
       "          (out_projection): Linear(in_features=512, out_features=512, bias=True)\n",
       "        )\n",
       "        (cross_attention): AttentionLayer(\n",
       "          (inner_attention): FullAttention(\n",
       "            (dropout): Dropout(p=0.05, inplace=False)\n",
       "          )\n",
       "          (query_projection): Linear(in_features=512, out_features=512, bias=True)\n",
       "          (key_projection): Linear(in_features=512, out_features=512, bias=True)\n",
       "          (value_projection): Linear(in_features=512, out_features=512, bias=True)\n",
       "          (out_projection): Linear(in_features=512, out_features=512, bias=True)\n",
       "        )\n",
       "        (conv1): Conv1d(512, 2048, kernel_size=(1,), stride=(1,))\n",
       "        (conv2): Conv1d(2048, 512, kernel_size=(1,), stride=(1,))\n",
       "        (norm1): LayerNorm((512,), eps=1e-05, elementwise_affine=True)\n",
       "        (norm2): LayerNorm((512,), eps=1e-05, elementwise_affine=True)\n",
       "        (norm3): LayerNorm((512,), eps=1e-05, elementwise_affine=True)\n",
       "        (dropout): Dropout(p=0.05, inplace=False)\n",
       "      )\n",
       "    )\n",
       "    (norm): LayerNorm((512,), eps=1e-05, elementwise_affine=True)\n",
       "  )\n",
       "  (projection): Linear(in_features=512, out_features=7, bias=True)\n",
       ")"
      ]
     },
     "execution_count": 52,
     "metadata": {},
     "output_type": "execute_result"
    }
   ],
   "source": [
    "Exp = Exp_Informer\n",
    "exp = Exp(args)\n",
    "exp.train(setting)"
   ]
  },
  {
   "cell_type": "markdown",
   "metadata": {},
   "source": [
    "### Testing"
   ]
  },
  {
   "cell_type": "code",
   "execution_count": 53,
   "metadata": {},
   "outputs": [
    {
     "name": "stdout",
     "output_type": "stream",
     "text": [
      "test 11329\n",
      "test shape: (354, 32, 192, 7) (354, 32, 192, 7)\n",
      "test shape: (11328, 192, 7) (11328, 192, 7)\n",
      "mse:2.2090108394622803, mae:1.192978858947754\n"
     ]
    }
   ],
   "source": [
    "exp.test(setting)\n",
    "torch.cuda.empty_cache()"
   ]
  },
  {
   "cell_type": "markdown",
   "metadata": {},
   "source": [
    "---\n",
    "## Trail 3: Informer, Dataset:ETTm2,  Metric: 336\n",
    "### Set hyperparameters\n",
    "Set some parameters (Args) for the our experiment like dictionary\n"
   ]
  },
  {
   "cell_type": "code",
   "execution_count": 54,
   "metadata": {
    "colab": {
     "base_uri": "https://localhost:8080/"
    },
    "id": "ywY-umrw-mHO",
    "outputId": "9b2e2e8e-7025-46e6-e2d7-2d8c9ceeb381"
   },
   "outputs": [
    {
     "name": "stdout",
     "output_type": "stream",
     "text": [
      "Hyperparameter Combination of informer_train_on_ETTm2_336:\n",
      "\n",
      "{'train_only': True, 'model': 'informer', 'use_multi_gpu': False, 'use_gpu': True, 'learning_rate': 0.005, 'pred_len': 336, 'label_len': 48, 'use_amp': False, 'output_attention': False, 'features': 'M', 'checkpoints': './Checkpoints/Informer_checkpoints', 'patience': 3, 'train_epochs': 6, 'freq': 'h', 'seq_len': 96, 'data': 'ETTm2', 'root_path': './Datasets/', 'data_path': 'ETTm2.csv', 'target': 'OT', 'enc_in': 7, 'dec_in': 7, 'c_out': 7, 'factor': 5, 'd_model': 512, 'n_heads': 8, 'e_layers': 2, 'd_layers': 1, 'd_ff': 2048, 'dropout': 0.05, 'attn': 'prob', 'embed': 'timeF', 'activation': 'gelu', 'distil': True, 'mix': True, 'padding': 0, 'batch_size': 32, 'loss': 'mse', 'lradj': 'type1', 'num_workers': 0, 'itr': 1, 'des': 'exp', 'gpu': 0, 'devices': '0,1,2,3'}\n"
     ]
    }
   ],
   "source": [
    "args.pred_len = 336\n",
    "\n",
    "setting=f'{args.model}_train_on_{args.data}_{args.pred_len}'\n",
    "print(f\"Hyperparameter Combination of {setting}:\\n\") \n",
    "print(args)"
   ]
  },
  {
   "cell_type": "markdown",
   "metadata": {},
   "source": [
    "### Training"
   ]
  },
  {
   "cell_type": "code",
   "execution_count": 55,
   "metadata": {
    "collapsed": true,
    "jupyter": {
     "outputs_hidden": true
    }
   },
   "outputs": [
    {
     "name": "stdout",
     "output_type": "stream",
     "text": [
      "Use GPU: cuda:0\n",
      "train 34129\n",
      "val 11185\n",
      "test 11185\n",
      "\titers: 100, epoch: 1 | loss: 0.9432096\n",
      "\tspeed: 0.1150s/iter; left time: 724.1853s\n",
      "\titers: 200, epoch: 1 | loss: 0.6724907\n",
      "\tspeed: 0.1131s/iter; left time: 700.7436s\n",
      "\titers: 300, epoch: 1 | loss: 0.8574768\n",
      "\tspeed: 0.1222s/iter; left time: 744.8147s\n",
      "\titers: 400, epoch: 1 | loss: 0.5673898\n",
      "\tspeed: 0.1181s/iter; left time: 708.3938s\n",
      "\titers: 500, epoch: 1 | loss: 0.8943440\n",
      "\tspeed: 0.1144s/iter; left time: 674.7770s\n",
      "\titers: 600, epoch: 1 | loss: 0.8757358\n",
      "\tspeed: 0.1320s/iter; left time: 765.3229s\n",
      "\titers: 700, epoch: 1 | loss: 0.7166607\n",
      "\tspeed: 0.1264s/iter; left time: 720.0862s\n",
      "\titers: 800, epoch: 1 | loss: 0.6249446\n",
      "\tspeed: 0.1221s/iter; left time: 683.4540s\n",
      "\titers: 900, epoch: 1 | loss: 0.8930020\n",
      "\tspeed: 0.1149s/iter; left time: 631.7396s\n",
      "\titers: 1000, epoch: 1 | loss: 0.5236042\n",
      "\tspeed: 0.1188s/iter; left time: 641.1031s\n",
      "Epoch: 1 cost time: 127.82349181175232\n",
      "Epoch: 1, Steps: 1066 | Train Loss: 0.8085249 Vali Loss: 1.2101711 Test Loss: 2.3842881\n",
      "Validation loss decreased (inf --> 1.210171).  Saving model ...\n",
      "Updating learning rate to 0.005\n",
      "\titers: 100, epoch: 2 | loss: 0.6488226\n",
      "\tspeed: 1.7570s/iter; left time: 9190.6154s\n",
      "\titers: 200, epoch: 2 | loss: 0.3660868\n",
      "\tspeed: 0.1183s/iter; left time: 607.0415s\n",
      "\titers: 300, epoch: 2 | loss: 0.2766720\n",
      "\tspeed: 0.1178s/iter; left time: 592.4313s\n",
      "\titers: 400, epoch: 2 | loss: 0.3862538\n",
      "\tspeed: 0.1219s/iter; left time: 601.1510s\n",
      "\titers: 500, epoch: 2 | loss: 0.4584158\n",
      "\tspeed: 0.1219s/iter; left time: 588.7263s\n",
      "\titers: 600, epoch: 2 | loss: 0.7412161\n",
      "\tspeed: 0.1124s/iter; left time: 531.8546s\n",
      "\titers: 700, epoch: 2 | loss: 0.6936417\n",
      "\tspeed: 0.1145s/iter; left time: 530.4587s\n",
      "\titers: 800, epoch: 2 | loss: 0.3808091\n",
      "\tspeed: 0.1142s/iter; left time: 517.3273s\n",
      "\titers: 900, epoch: 2 | loss: 0.4492437\n",
      "\tspeed: 0.1211s/iter; left time: 536.4152s\n",
      "\titers: 1000, epoch: 2 | loss: 0.4134181\n",
      "\tspeed: 0.1209s/iter; left time: 523.7300s\n",
      "Epoch: 2 cost time: 126.1295394897461\n",
      "Epoch: 2, Steps: 1066 | Train Loss: 0.5006189 Vali Loss: 2.3913634 Test Loss: 4.5521460\n",
      "EarlyStopping counter: 1 out of 3\n",
      "Updating learning rate to 0.0025\n",
      "\titers: 100, epoch: 3 | loss: 0.3184837\n",
      "\tspeed: 1.8143s/iter; left time: 7556.7408s\n",
      "\titers: 200, epoch: 3 | loss: 0.5842987\n",
      "\tspeed: 0.1215s/iter; left time: 493.8980s\n",
      "\titers: 300, epoch: 3 | loss: 0.4697197\n",
      "\tspeed: 0.1185s/iter; left time: 469.7133s\n",
      "\titers: 400, epoch: 3 | loss: 0.3741138\n",
      "\tspeed: 0.1140s/iter; left time: 440.4600s\n",
      "\titers: 500, epoch: 3 | loss: 0.4692012\n",
      "\tspeed: 0.1160s/iter; left time: 436.7271s\n",
      "\titers: 600, epoch: 3 | loss: 0.5969383\n",
      "\tspeed: 0.1170s/iter; left time: 428.9747s\n",
      "\titers: 700, epoch: 3 | loss: 0.3324243\n",
      "\tspeed: 0.1219s/iter; left time: 434.6974s\n",
      "\titers: 800, epoch: 3 | loss: 0.2876271\n",
      "\tspeed: 0.1238s/iter; left time: 428.9165s\n",
      "\titers: 900, epoch: 3 | loss: 0.4209052\n",
      "\tspeed: 0.1120s/iter; left time: 376.8824s\n",
      "\titers: 1000, epoch: 3 | loss: 0.4356773\n",
      "\tspeed: 0.1148s/iter; left time: 374.8346s\n",
      "Epoch: 3 cost time: 125.31506276130676\n",
      "Epoch: 3, Steps: 1066 | Train Loss: 0.4131785 Vali Loss: 2.4728444 Test Loss: 4.7242651\n",
      "EarlyStopping counter: 2 out of 3\n",
      "Updating learning rate to 0.00125\n",
      "\titers: 100, epoch: 4 | loss: 0.2931583\n",
      "\tspeed: 1.8041s/iter; left time: 5590.7869s\n",
      "\titers: 200, epoch: 4 | loss: 0.2823721\n",
      "\tspeed: 0.1161s/iter; left time: 348.0858s\n",
      "\titers: 300, epoch: 4 | loss: 0.5709835\n",
      "\tspeed: 0.1309s/iter; left time: 379.3857s\n",
      "\titers: 400, epoch: 4 | loss: 0.4127991\n",
      "\tspeed: 0.1185s/iter; left time: 331.7190s\n",
      "\titers: 500, epoch: 4 | loss: 0.3887862\n",
      "\tspeed: 0.1235s/iter; left time: 333.3197s\n",
      "\titers: 600, epoch: 4 | loss: 0.2960102\n",
      "\tspeed: 0.1095s/iter; left time: 284.6436s\n",
      "\titers: 700, epoch: 4 | loss: 0.4599494\n",
      "\tspeed: 0.1119s/iter; left time: 279.5883s\n",
      "\titers: 800, epoch: 4 | loss: 0.3798197\n",
      "\tspeed: 0.1197s/iter; left time: 287.1044s\n",
      "\titers: 900, epoch: 4 | loss: 0.2698629\n",
      "\tspeed: 0.1151s/iter; left time: 264.7047s\n",
      "\titers: 1000, epoch: 4 | loss: 0.4175409\n",
      "\tspeed: 0.1168s/iter; left time: 256.8784s\n",
      "Epoch: 4 cost time: 126.90747928619385\n",
      "Epoch: 4, Steps: 1066 | Train Loss: 0.3931758 Vali Loss: 2.2487817 Test Loss: 4.3108644\n",
      "EarlyStopping counter: 3 out of 3\n",
      "Early stopping\n"
     ]
    },
    {
     "data": {
      "text/plain": [
       "Informer(\n",
       "  (enc_embedding): DataEmbedding(\n",
       "    (value_embedding): TokenEmbedding(\n",
       "      (tokenConv): Conv1d(7, 512, kernel_size=(3,), stride=(1,), padding=(1,), padding_mode=circular)\n",
       "    )\n",
       "    (position_embedding): PositionalEmbedding()\n",
       "    (temporal_embedding): TimeFeatureEmbedding(\n",
       "      (embed): Linear(in_features=4, out_features=512, bias=True)\n",
       "    )\n",
       "    (dropout): Dropout(p=0.05, inplace=False)\n",
       "  )\n",
       "  (dec_embedding): DataEmbedding(\n",
       "    (value_embedding): TokenEmbedding(\n",
       "      (tokenConv): Conv1d(7, 512, kernel_size=(3,), stride=(1,), padding=(1,), padding_mode=circular)\n",
       "    )\n",
       "    (position_embedding): PositionalEmbedding()\n",
       "    (temporal_embedding): TimeFeatureEmbedding(\n",
       "      (embed): Linear(in_features=4, out_features=512, bias=True)\n",
       "    )\n",
       "    (dropout): Dropout(p=0.05, inplace=False)\n",
       "  )\n",
       "  (encoder): Encoder(\n",
       "    (attn_layers): ModuleList(\n",
       "      (0): EncoderLayer(\n",
       "        (attention): AttentionLayer(\n",
       "          (inner_attention): ProbAttention(\n",
       "            (dropout): Dropout(p=0.05, inplace=False)\n",
       "          )\n",
       "          (query_projection): Linear(in_features=512, out_features=512, bias=True)\n",
       "          (key_projection): Linear(in_features=512, out_features=512, bias=True)\n",
       "          (value_projection): Linear(in_features=512, out_features=512, bias=True)\n",
       "          (out_projection): Linear(in_features=512, out_features=512, bias=True)\n",
       "        )\n",
       "        (conv1): Conv1d(512, 2048, kernel_size=(1,), stride=(1,))\n",
       "        (conv2): Conv1d(2048, 512, kernel_size=(1,), stride=(1,))\n",
       "        (norm1): LayerNorm((512,), eps=1e-05, elementwise_affine=True)\n",
       "        (norm2): LayerNorm((512,), eps=1e-05, elementwise_affine=True)\n",
       "        (dropout): Dropout(p=0.05, inplace=False)\n",
       "      )\n",
       "      (1): EncoderLayer(\n",
       "        (attention): AttentionLayer(\n",
       "          (inner_attention): ProbAttention(\n",
       "            (dropout): Dropout(p=0.05, inplace=False)\n",
       "          )\n",
       "          (query_projection): Linear(in_features=512, out_features=512, bias=True)\n",
       "          (key_projection): Linear(in_features=512, out_features=512, bias=True)\n",
       "          (value_projection): Linear(in_features=512, out_features=512, bias=True)\n",
       "          (out_projection): Linear(in_features=512, out_features=512, bias=True)\n",
       "        )\n",
       "        (conv1): Conv1d(512, 2048, kernel_size=(1,), stride=(1,))\n",
       "        (conv2): Conv1d(2048, 512, kernel_size=(1,), stride=(1,))\n",
       "        (norm1): LayerNorm((512,), eps=1e-05, elementwise_affine=True)\n",
       "        (norm2): LayerNorm((512,), eps=1e-05, elementwise_affine=True)\n",
       "        (dropout): Dropout(p=0.05, inplace=False)\n",
       "      )\n",
       "    )\n",
       "    (conv_layers): ModuleList(\n",
       "      (0): ConvLayer(\n",
       "        (downConv): Conv1d(512, 512, kernel_size=(3,), stride=(1,), padding=(1,), padding_mode=circular)\n",
       "        (norm): BatchNorm1d(512, eps=1e-05, momentum=0.1, affine=True, track_running_stats=True)\n",
       "        (activation): ELU(alpha=1.0)\n",
       "        (maxPool): MaxPool1d(kernel_size=3, stride=2, padding=1, dilation=1, ceil_mode=False)\n",
       "      )\n",
       "    )\n",
       "    (norm): LayerNorm((512,), eps=1e-05, elementwise_affine=True)\n",
       "  )\n",
       "  (decoder): Decoder(\n",
       "    (layers): ModuleList(\n",
       "      (0): DecoderLayer(\n",
       "        (self_attention): AttentionLayer(\n",
       "          (inner_attention): ProbAttention(\n",
       "            (dropout): Dropout(p=0.05, inplace=False)\n",
       "          )\n",
       "          (query_projection): Linear(in_features=512, out_features=512, bias=True)\n",
       "          (key_projection): Linear(in_features=512, out_features=512, bias=True)\n",
       "          (value_projection): Linear(in_features=512, out_features=512, bias=True)\n",
       "          (out_projection): Linear(in_features=512, out_features=512, bias=True)\n",
       "        )\n",
       "        (cross_attention): AttentionLayer(\n",
       "          (inner_attention): FullAttention(\n",
       "            (dropout): Dropout(p=0.05, inplace=False)\n",
       "          )\n",
       "          (query_projection): Linear(in_features=512, out_features=512, bias=True)\n",
       "          (key_projection): Linear(in_features=512, out_features=512, bias=True)\n",
       "          (value_projection): Linear(in_features=512, out_features=512, bias=True)\n",
       "          (out_projection): Linear(in_features=512, out_features=512, bias=True)\n",
       "        )\n",
       "        (conv1): Conv1d(512, 2048, kernel_size=(1,), stride=(1,))\n",
       "        (conv2): Conv1d(2048, 512, kernel_size=(1,), stride=(1,))\n",
       "        (norm1): LayerNorm((512,), eps=1e-05, elementwise_affine=True)\n",
       "        (norm2): LayerNorm((512,), eps=1e-05, elementwise_affine=True)\n",
       "        (norm3): LayerNorm((512,), eps=1e-05, elementwise_affine=True)\n",
       "        (dropout): Dropout(p=0.05, inplace=False)\n",
       "      )\n",
       "    )\n",
       "    (norm): LayerNorm((512,), eps=1e-05, elementwise_affine=True)\n",
       "  )\n",
       "  (projection): Linear(in_features=512, out_features=7, bias=True)\n",
       ")"
      ]
     },
     "execution_count": 55,
     "metadata": {},
     "output_type": "execute_result"
    }
   ],
   "source": [
    "Exp = Exp_Informer\n",
    "exp = Exp(args)\n",
    "exp.train(setting)"
   ]
  },
  {
   "cell_type": "markdown",
   "metadata": {},
   "source": [
    "### Testing"
   ]
  },
  {
   "cell_type": "code",
   "execution_count": 56,
   "metadata": {},
   "outputs": [
    {
     "name": "stdout",
     "output_type": "stream",
     "text": [
      "test 11185\n",
      "test shape: (349, 32, 336, 7) (349, 32, 336, 7)\n",
      "test shape: (11168, 336, 7) (11168, 336, 7)\n",
      "mse:2.3842663764953613, mae:1.2582660913467407\n"
     ]
    }
   ],
   "source": [
    "exp.test(setting)\n",
    "torch.cuda.empty_cache()"
   ]
  },
  {
   "cell_type": "markdown",
   "metadata": {},
   "source": [
    "---\n",
    "## Trail 4: Informer, Dataset:ETTm2,  Metric: 720\n",
    "### Set hyperparameters\n",
    "Set some parameters (Args) for the our experiment like dictionary\n"
   ]
  },
  {
   "cell_type": "code",
   "execution_count": 57,
   "metadata": {
    "colab": {
     "base_uri": "https://localhost:8080/"
    },
    "id": "ywY-umrw-mHO",
    "outputId": "9b2e2e8e-7025-46e6-e2d7-2d8c9ceeb381"
   },
   "outputs": [
    {
     "name": "stdout",
     "output_type": "stream",
     "text": [
      "Hyperparameter Combination of informer_train_on_ETTm2_720:\n",
      "\n",
      "{'train_only': True, 'model': 'informer', 'use_multi_gpu': False, 'use_gpu': True, 'learning_rate': 0.005, 'pred_len': 720, 'label_len': 48, 'use_amp': False, 'output_attention': False, 'features': 'M', 'checkpoints': './Checkpoints/Informer_checkpoints', 'patience': 3, 'train_epochs': 6, 'freq': 'h', 'seq_len': 96, 'data': 'ETTm2', 'root_path': './Datasets/', 'data_path': 'ETTm2.csv', 'target': 'OT', 'enc_in': 7, 'dec_in': 7, 'c_out': 7, 'factor': 5, 'd_model': 512, 'n_heads': 8, 'e_layers': 2, 'd_layers': 1, 'd_ff': 2048, 'dropout': 0.05, 'attn': 'prob', 'embed': 'timeF', 'activation': 'gelu', 'distil': True, 'mix': True, 'padding': 0, 'batch_size': 32, 'loss': 'mse', 'lradj': 'type1', 'num_workers': 0, 'itr': 1, 'des': 'exp', 'gpu': 0, 'devices': '0,1,2,3'}\n"
     ]
    }
   ],
   "source": [
    "args.pred_len = 720\n",
    "\n",
    "setting=f'{args.model}_train_on_{args.data}_{args.pred_len}'\n",
    "print(f\"Hyperparameter Combination of {setting}:\\n\") \n",
    "print(args)"
   ]
  },
  {
   "cell_type": "markdown",
   "metadata": {},
   "source": [
    "### Training"
   ]
  },
  {
   "cell_type": "code",
   "execution_count": 58,
   "metadata": {
    "collapsed": true,
    "jupyter": {
     "outputs_hidden": true
    }
   },
   "outputs": [
    {
     "name": "stdout",
     "output_type": "stream",
     "text": [
      "Use GPU: cuda:0\n",
      "train 33745\n",
      "val 10801\n",
      "test 10801\n",
      "\titers: 100, epoch: 1 | loss: 0.6170563\n",
      "\tspeed: 0.1160s/iter; left time: 722.2790s\n",
      "\titers: 200, epoch: 1 | loss: 0.7893506\n",
      "\tspeed: 0.1144s/iter; left time: 700.8030s\n",
      "\titers: 300, epoch: 1 | loss: 0.4874583\n",
      "\tspeed: 0.1216s/iter; left time: 732.4929s\n",
      "\titers: 400, epoch: 1 | loss: 0.3705328\n",
      "\tspeed: 0.1330s/iter; left time: 788.2856s\n",
      "\titers: 500, epoch: 1 | loss: 0.7591282\n",
      "\tspeed: 0.1229s/iter; left time: 716.0524s\n",
      "\titers: 600, epoch: 1 | loss: 0.4186920\n",
      "\tspeed: 0.1175s/iter; left time: 672.5570s\n",
      "\titers: 700, epoch: 1 | loss: 0.4407893\n",
      "\tspeed: 0.1256s/iter; left time: 706.3476s\n",
      "\titers: 800, epoch: 1 | loss: 0.3955094\n",
      "\tspeed: 0.1160s/iter; left time: 640.6266s\n",
      "\titers: 900, epoch: 1 | loss: 0.4178562\n",
      "\tspeed: 0.1270s/iter; left time: 689.2313s\n",
      "\titers: 1000, epoch: 1 | loss: 0.4068364\n",
      "\tspeed: 0.1170s/iter; left time: 622.8171s\n",
      "Epoch: 1 cost time: 127.42822551727295\n",
      "Epoch: 1, Steps: 1054 | Train Loss: 0.5951130 Vali Loss: 1.6882063 Test Loss: 6.6311941\n",
      "Validation loss decreased (inf --> 1.688206).  Saving model ...\n",
      "Updating learning rate to 0.005\n",
      "\titers: 100, epoch: 2 | loss: 0.4011005\n",
      "\tspeed: 1.7760s/iter; left time: 9183.6662s\n",
      "\titers: 200, epoch: 2 | loss: 0.4095767\n",
      "\tspeed: 0.1307s/iter; left time: 662.6106s\n",
      "\titers: 300, epoch: 2 | loss: 0.4885316\n",
      "\tspeed: 0.1404s/iter; left time: 698.0345s\n",
      "\titers: 400, epoch: 2 | loss: 0.8533397\n",
      "\tspeed: 0.1303s/iter; left time: 634.5669s\n",
      "\titers: 500, epoch: 2 | loss: 0.3641949\n",
      "\tspeed: 0.1208s/iter; left time: 576.4133s\n",
      "\titers: 600, epoch: 2 | loss: 0.6149206\n",
      "\tspeed: 0.1178s/iter; left time: 550.3239s\n",
      "\titers: 700, epoch: 2 | loss: 0.2354806\n",
      "\tspeed: 0.1170s/iter; left time: 534.8003s\n",
      "\titers: 800, epoch: 2 | loss: 0.6078868\n",
      "\tspeed: 0.1170s/iter; left time: 523.1530s\n",
      "\titers: 900, epoch: 2 | loss: 0.4854864\n",
      "\tspeed: 0.1210s/iter; left time: 528.8696s\n",
      "\titers: 1000, epoch: 2 | loss: 0.5499483\n",
      "\tspeed: 0.1223s/iter; left time: 522.4900s\n",
      "Epoch: 2 cost time: 132.04148983955383\n",
      "Epoch: 2, Steps: 1054 | Train Loss: 0.4546495 Vali Loss: 2.0771594 Test Loss: 7.2428408\n",
      "EarlyStopping counter: 1 out of 3\n",
      "Updating learning rate to 0.0025\n",
      "\titers: 100, epoch: 3 | loss: 0.4849587\n",
      "\tspeed: 1.7958s/iter; left time: 7393.1884s\n",
      "\titers: 200, epoch: 3 | loss: 0.3739330\n",
      "\tspeed: 0.1292s/iter; left time: 519.1277s\n",
      "\titers: 300, epoch: 3 | loss: 0.4977616\n",
      "\tspeed: 0.1237s/iter; left time: 484.3690s\n",
      "\titers: 400, epoch: 3 | loss: 0.5565098\n",
      "\tspeed: 0.1136s/iter; left time: 433.6944s\n",
      "\titers: 500, epoch: 3 | loss: 0.2949255\n",
      "\tspeed: 0.1230s/iter; left time: 457.1705s\n",
      "\titers: 600, epoch: 3 | loss: 0.5800892\n",
      "\tspeed: 0.1206s/iter; left time: 436.1795s\n",
      "\titers: 700, epoch: 3 | loss: 0.3928587\n",
      "\tspeed: 0.1215s/iter; left time: 427.1676s\n",
      "\titers: 800, epoch: 3 | loss: 0.4641266\n",
      "\tspeed: 0.1204s/iter; left time: 411.2595s\n",
      "\titers: 900, epoch: 3 | loss: 0.4483088\n",
      "\tspeed: 0.1160s/iter; left time: 384.6922s\n",
      "\titers: 1000, epoch: 3 | loss: 0.3789828\n",
      "\tspeed: 0.1163s/iter; left time: 374.0020s\n",
      "Epoch: 3 cost time: 126.72676277160645\n",
      "Epoch: 3, Steps: 1054 | Train Loss: 0.4207405 Vali Loss: 2.1870611 Test Loss: 7.6232643\n",
      "EarlyStopping counter: 2 out of 3\n",
      "Updating learning rate to 0.00125\n",
      "\titers: 100, epoch: 4 | loss: 0.5724220\n",
      "\tspeed: 1.7598s/iter; left time: 5390.2557s\n",
      "\titers: 200, epoch: 4 | loss: 0.2659196\n",
      "\tspeed: 0.1200s/iter; left time: 355.5992s\n",
      "\titers: 300, epoch: 4 | loss: 0.3493977\n",
      "\tspeed: 0.1393s/iter; left time: 398.7051s\n",
      "\titers: 400, epoch: 4 | loss: 0.3486925\n",
      "\tspeed: 0.1263s/iter; left time: 348.8775s\n",
      "\titers: 500, epoch: 4 | loss: 0.4303943\n",
      "\tspeed: 0.1174s/iter; left time: 312.6443s\n",
      "\titers: 600, epoch: 4 | loss: 0.3877825\n",
      "\tspeed: 0.1170s/iter; left time: 299.8805s\n",
      "\titers: 700, epoch: 4 | loss: 0.5841064\n",
      "\tspeed: 0.1187s/iter; left time: 292.2803s\n",
      "\titers: 800, epoch: 4 | loss: 0.4149846\n",
      "\tspeed: 0.1165s/iter; left time: 275.2545s\n",
      "\titers: 900, epoch: 4 | loss: 0.2980179\n",
      "\tspeed: 0.1186s/iter; left time: 268.4509s\n",
      "\titers: 1000, epoch: 4 | loss: 0.3661177\n",
      "\tspeed: 0.1223s/iter; left time: 264.6071s\n",
      "Epoch: 4 cost time: 128.64505457878113\n",
      "Epoch: 4, Steps: 1054 | Train Loss: 0.3986987 Vali Loss: 3.4681618 Test Loss: 12.4359598\n",
      "EarlyStopping counter: 3 out of 3\n",
      "Early stopping\n"
     ]
    },
    {
     "data": {
      "text/plain": [
       "Informer(\n",
       "  (enc_embedding): DataEmbedding(\n",
       "    (value_embedding): TokenEmbedding(\n",
       "      (tokenConv): Conv1d(7, 512, kernel_size=(3,), stride=(1,), padding=(1,), padding_mode=circular)\n",
       "    )\n",
       "    (position_embedding): PositionalEmbedding()\n",
       "    (temporal_embedding): TimeFeatureEmbedding(\n",
       "      (embed): Linear(in_features=4, out_features=512, bias=True)\n",
       "    )\n",
       "    (dropout): Dropout(p=0.05, inplace=False)\n",
       "  )\n",
       "  (dec_embedding): DataEmbedding(\n",
       "    (value_embedding): TokenEmbedding(\n",
       "      (tokenConv): Conv1d(7, 512, kernel_size=(3,), stride=(1,), padding=(1,), padding_mode=circular)\n",
       "    )\n",
       "    (position_embedding): PositionalEmbedding()\n",
       "    (temporal_embedding): TimeFeatureEmbedding(\n",
       "      (embed): Linear(in_features=4, out_features=512, bias=True)\n",
       "    )\n",
       "    (dropout): Dropout(p=0.05, inplace=False)\n",
       "  )\n",
       "  (encoder): Encoder(\n",
       "    (attn_layers): ModuleList(\n",
       "      (0): EncoderLayer(\n",
       "        (attention): AttentionLayer(\n",
       "          (inner_attention): ProbAttention(\n",
       "            (dropout): Dropout(p=0.05, inplace=False)\n",
       "          )\n",
       "          (query_projection): Linear(in_features=512, out_features=512, bias=True)\n",
       "          (key_projection): Linear(in_features=512, out_features=512, bias=True)\n",
       "          (value_projection): Linear(in_features=512, out_features=512, bias=True)\n",
       "          (out_projection): Linear(in_features=512, out_features=512, bias=True)\n",
       "        )\n",
       "        (conv1): Conv1d(512, 2048, kernel_size=(1,), stride=(1,))\n",
       "        (conv2): Conv1d(2048, 512, kernel_size=(1,), stride=(1,))\n",
       "        (norm1): LayerNorm((512,), eps=1e-05, elementwise_affine=True)\n",
       "        (norm2): LayerNorm((512,), eps=1e-05, elementwise_affine=True)\n",
       "        (dropout): Dropout(p=0.05, inplace=False)\n",
       "      )\n",
       "      (1): EncoderLayer(\n",
       "        (attention): AttentionLayer(\n",
       "          (inner_attention): ProbAttention(\n",
       "            (dropout): Dropout(p=0.05, inplace=False)\n",
       "          )\n",
       "          (query_projection): Linear(in_features=512, out_features=512, bias=True)\n",
       "          (key_projection): Linear(in_features=512, out_features=512, bias=True)\n",
       "          (value_projection): Linear(in_features=512, out_features=512, bias=True)\n",
       "          (out_projection): Linear(in_features=512, out_features=512, bias=True)\n",
       "        )\n",
       "        (conv1): Conv1d(512, 2048, kernel_size=(1,), stride=(1,))\n",
       "        (conv2): Conv1d(2048, 512, kernel_size=(1,), stride=(1,))\n",
       "        (norm1): LayerNorm((512,), eps=1e-05, elementwise_affine=True)\n",
       "        (norm2): LayerNorm((512,), eps=1e-05, elementwise_affine=True)\n",
       "        (dropout): Dropout(p=0.05, inplace=False)\n",
       "      )\n",
       "    )\n",
       "    (conv_layers): ModuleList(\n",
       "      (0): ConvLayer(\n",
       "        (downConv): Conv1d(512, 512, kernel_size=(3,), stride=(1,), padding=(1,), padding_mode=circular)\n",
       "        (norm): BatchNorm1d(512, eps=1e-05, momentum=0.1, affine=True, track_running_stats=True)\n",
       "        (activation): ELU(alpha=1.0)\n",
       "        (maxPool): MaxPool1d(kernel_size=3, stride=2, padding=1, dilation=1, ceil_mode=False)\n",
       "      )\n",
       "    )\n",
       "    (norm): LayerNorm((512,), eps=1e-05, elementwise_affine=True)\n",
       "  )\n",
       "  (decoder): Decoder(\n",
       "    (layers): ModuleList(\n",
       "      (0): DecoderLayer(\n",
       "        (self_attention): AttentionLayer(\n",
       "          (inner_attention): ProbAttention(\n",
       "            (dropout): Dropout(p=0.05, inplace=False)\n",
       "          )\n",
       "          (query_projection): Linear(in_features=512, out_features=512, bias=True)\n",
       "          (key_projection): Linear(in_features=512, out_features=512, bias=True)\n",
       "          (value_projection): Linear(in_features=512, out_features=512, bias=True)\n",
       "          (out_projection): Linear(in_features=512, out_features=512, bias=True)\n",
       "        )\n",
       "        (cross_attention): AttentionLayer(\n",
       "          (inner_attention): FullAttention(\n",
       "            (dropout): Dropout(p=0.05, inplace=False)\n",
       "          )\n",
       "          (query_projection): Linear(in_features=512, out_features=512, bias=True)\n",
       "          (key_projection): Linear(in_features=512, out_features=512, bias=True)\n",
       "          (value_projection): Linear(in_features=512, out_features=512, bias=True)\n",
       "          (out_projection): Linear(in_features=512, out_features=512, bias=True)\n",
       "        )\n",
       "        (conv1): Conv1d(512, 2048, kernel_size=(1,), stride=(1,))\n",
       "        (conv2): Conv1d(2048, 512, kernel_size=(1,), stride=(1,))\n",
       "        (norm1): LayerNorm((512,), eps=1e-05, elementwise_affine=True)\n",
       "        (norm2): LayerNorm((512,), eps=1e-05, elementwise_affine=True)\n",
       "        (norm3): LayerNorm((512,), eps=1e-05, elementwise_affine=True)\n",
       "        (dropout): Dropout(p=0.05, inplace=False)\n",
       "      )\n",
       "    )\n",
       "    (norm): LayerNorm((512,), eps=1e-05, elementwise_affine=True)\n",
       "  )\n",
       "  (projection): Linear(in_features=512, out_features=7, bias=True)\n",
       ")"
      ]
     },
     "execution_count": 58,
     "metadata": {},
     "output_type": "execute_result"
    }
   ],
   "source": [
    "Exp = Exp_Informer\n",
    "exp = Exp(args)\n",
    "exp.train(setting)"
   ]
  },
  {
   "cell_type": "markdown",
   "metadata": {},
   "source": [
    "### Testing"
   ]
  },
  {
   "cell_type": "code",
   "execution_count": 59,
   "metadata": {},
   "outputs": [
    {
     "name": "stdout",
     "output_type": "stream",
     "text": [
      "test 10801\n",
      "test shape: (337, 32, 720, 7) (337, 32, 720, 7)\n",
      "test shape: (10784, 720, 7) (10784, 720, 7)\n",
      "mse:6.631315231323242, mae:2.331737756729126\n"
     ]
    }
   ],
   "source": [
    "exp.test(setting)\n",
    "torch.cuda.empty_cache()"
   ]
  },
  {
   "cell_type": "markdown",
   "metadata": {},
   "source": [
    "---\n",
    "## Compare Results of `ETTm2`with [Zeng · 2022](https://arxiv.org/abs/2205.13504) Paper"
   ]
  },
  {
   "cell_type": "code",
   "execution_count": 15,
   "metadata": {},
   "outputs": [
    {
     "data": {
      "image/png": "[encoded data removed]",
      "text/plain": [
       "<IPython.core.display.Image object>"
      ]
     },
     "execution_count": 15,
     "metadata": {},
     "output_type": "execute_result"
    }
   ],
   "source": [
    "from IPython.display import Image\n",
    "Image(filename=r\"./Images/Informer Results ETTm2.png\")"
   ]
  },
  {
   "cell_type": "markdown",
   "metadata": {},
   "source": [
    "#### **Experiment Results**:\n",
    "Comaparing my results with the paper resulted highlited in the image above.\n",
    "\n",
    "| Seq_len | MSE | MAE |\n",
    "|---|---|---|\n",
    "| 96 | 3.426589250564575 | 1.6164441108703613 |\n",
    "| 192 | 2.4573633670806885 | 1.2444374561309814 |\n",
    "| 336 | 2.320659875869751 | 1.1376394033432007 |\n",
    "| 720 | 3.672842502593994 | 1.5754497051239014 |\n"
   ]
  }
 ],
 "metadata": {
  "accelerator": "GPU",
  "colab": {
   "provenance": [],
   "toc_visible": true
  },
  "kernelspec": {
   "display_name": "Python 3 (ipykernel)",
   "language": "python",
   "name": "python3"
  },
  "language_info": {
   "codemirror_mode": {
    "name": "ipython",
    "version": 3
   },
   "file_extension": ".py",
   "mimetype": "text/x-python",
   "name": "python",
   "nbconvert_exporter": "python",
   "pygments_lexer": "ipython3",
   "version": "3.9.16"
  }
 },
 "nbformat": 4,
 "nbformat_minor": 4
}
